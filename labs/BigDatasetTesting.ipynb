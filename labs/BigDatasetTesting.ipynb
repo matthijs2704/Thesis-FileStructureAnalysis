{
 "cells": [
  {
   "cell_type": "code",
   "execution_count": null,
   "id": "7e5c2251-6499-48ef-a037-02a4c3427c41",
   "metadata": {},
   "outputs": [],
   "source": [
    "import pandas as pd\n",
    "import numpy as np\n",
    "import dask\n",
    "dask.config.set({'dataframe.query-planning': True})\n",
    "import dask.dataframe as dd\n",
    "import plotly.graph_objects as go\n",
    "import plotly.express as px\n",
    "from plotly.subplots import make_subplots\n",
    "from upsetplot import UpSet\n",
    "from matplotlib import pyplot\n",
    "import matplotlib"
   ]
  },
  {
   "cell_type": "code",
   "execution_count": null,
   "id": "c3bfb39c-4f1a-4ecd-8c10-4434ec0186eb",
   "metadata": {},
   "outputs": [],
   "source": [
    "import os\n",
    "\n",
    "if not os.path.exists(\"Figures\"):\n",
    "    os.mkdir(\"Figures\")"
   ]
  },
  {
   "cell_type": "code",
   "execution_count": null,
   "id": "6df364aa-983d-4c92-8f5a-6adf89618d50",
   "metadata": {},
   "outputs": [],
   "source": [
    "ddf = dd.read_parquet(\"../hpc-datasets/mutations.parquet\", engine=\"pyarrow\")\n",
    "ddf_all_commits = dd.read_parquet(\"../hpc-datasets/all_commits.parquet\", engine=\"pyarrow\")\n",
    "ddf_commits = dd.read_parquet(\"../hpc-datasets/commits_ext.parquet\", engine=\"pyarrow\")\n",
    "ddf_repoinfos = dd.read_parquet(\"../hpc-datasets/repo_infos.parquet\", engine=\"pyarrow\")"
   ]
  },
  {
   "cell_type": "code",
   "execution_count": null,
   "id": "afaaec66-a524-4ac3-8868-c6f3aec226e7",
   "metadata": {},
   "outputs": [],
   "source": [
    "ddf"
   ]
  },
  {
   "cell_type": "code",
   "execution_count": null,
   "id": "aee27e37-b4e8-4288-8267-f72076087f19",
   "metadata": {},
   "outputs": [],
   "source": [
    "ddf_repoinfos = dd.read_parquet(\"../hpc-datasets/repo_infos.parquet\", engine=\"pyarrow\")"
   ]
  },
  {
   "cell_type": "code",
   "execution_count": null,
   "id": "d7719f63-d5d0-40e5-bfad-afc25c541b80",
   "metadata": {},
   "outputs": [],
   "source": [
    "df_repoinfos = pd.read_parquet(\"../hpc-datasets/repo_infos.parquet\", engine=\"pyarrow\")"
   ]
  },
  {
   "cell_type": "code",
   "execution_count": null,
   "id": "613f2bd5-df25-4ba2-b70a-f20cc478933c",
   "metadata": {},
   "outputs": [],
   "source": [
    "ddf_repoinfos['max_file_depth'] = ddf_repoinfos['max_file_depth']+1\n",
    "df_repoinfos['max_file_depth'] = df_repoinfos['max_file_depth']+1"
   ]
  },
  {
   "cell_type": "code",
   "execution_count": null,
   "id": "ee9602dc-7c10-4cb2-b254-fbd07cf62250",
   "metadata": {},
   "outputs": [],
   "source": [
    "df_github = pd.read_csv(\"../datasets/github_data_07_03_2024.csv\",keep_default_na=False)\n",
    "df_github[\"repo_id\"] = df_github[\"owner.name\"].str.lower() + \"_\" + df_github[\"name\"].str.lower()\n",
    "df_github = df_github[~df_github['ignored']]\n",
    "df_github = df_github.set_index('repo_id')"
   ]
  },
  {
   "cell_type": "code",
   "execution_count": null,
   "id": "4f11676b-55c8-4ca8-a824-32e731042a5c",
   "metadata": {},
   "outputs": [],
   "source": [
    "import yaml\n",
    "linguist_langs = yaml.safe_load(open(\"../datasets/linguist/languages.yml\", \"r\"))"
   ]
  },
  {
   "cell_type": "code",
   "execution_count": null,
   "id": "63215498-eaaf-47f8-9f90-ee43365160e7",
   "metadata": {},
   "outputs": [],
   "source": [
    "linguist_types = set(linguist_langs[x]['type'] for x in linguist_langs)\n",
    "linguist_types"
   ]
  },
  {
   "cell_type": "code",
   "execution_count": null,
   "id": "1456da86-0953-4e6e-86c9-45336e4aab42",
   "metadata": {},
   "outputs": [],
   "source": [
    "# ddf_all_commits = ddf_all_commits.set_index(\"repo_id\")\n",
    "# ddf_commits = ddf_commits.set_index(\"commit_id\") \n",
    "# df_repoinfos = df_repoinfos.set_index(\"repo_id\")\n",
    "# ddf = ddf.set_index(\"repo_id\")"
   ]
  },
  {
   "cell_type": "code",
   "execution_count": null,
   "id": "59d850d5-a5c3-4988-a4a8-58485b4fc166",
   "metadata": {},
   "outputs": [],
   "source": [
    "ddf_commits.columns"
   ]
  },
  {
   "cell_type": "code",
   "execution_count": null,
   "id": "f9f4d3a0-2b8a-480f-8a19-0e270ad84db0",
   "metadata": {},
   "outputs": [],
   "source": [
    "df_github"
   ]
  },
  {
   "cell_type": "code",
   "execution_count": null,
   "id": "2f343a0f-8254-4890-896c-bba04f2e5f24",
   "metadata": {},
   "outputs": [],
   "source": [
    "df_repoinfos"
   ]
  },
  {
   "cell_type": "code",
   "execution_count": null,
   "id": "30ce3a4b-d29f-4376-ba91-e410c0419708",
   "metadata": {},
   "outputs": [],
   "source": [
    "gh_info_cols = ['lang', 'stargazers_count', 'owner.type']\n",
    "df_repoinfos = df_repoinfos.merge(df_github[gh_info_cols], on='repo_id')\n",
    "# df_repoinfos = ddf_repoinfos.compute()"
   ]
  },
  {
   "cell_type": "markdown",
   "id": "8ad5494c-f153-4bbb-a148-f53c60bade29",
   "metadata": {},
   "source": [
    "# Computing of difference in depth between commits\n",
    "Copmute the difference in depth between consecutive commits, save this into a dataframe and store a extended dataset to disk. "
   ]
  },
  {
   "cell_type": "raw",
   "id": "76eb088c-bc7c-46ff-9f9f-46d60410f634",
   "metadata": {},
   "source": [
    "def compute_max_depth_diff(df):\n",
    "    df[\"max_file_depth_diff\"] = (df[\"max_file_depth\"]-df[\"max_file_depth\"].shift(1).fillna(0))\n",
    "    return df\n",
    "\n",
    "ddf_commits_2 = ddf_commits.groupby('repo_id').apply(compute_max_depth_diff).compute()"
   ]
  },
  {
   "cell_type": "raw",
   "id": "8009b7c7-409c-403b-ae52-8892bf547016",
   "metadata": {},
   "source": [
    "ddf_commits_2 = ddf_commits_2.drop('repo_id',axis=1).reset_index()"
   ]
  },
  {
   "cell_type": "raw",
   "id": "0b983fd1-c9b9-4277-ab3e-907077a4a059",
   "metadata": {},
   "source": [
    "ddf_commits_2.to_parquet(\"../hpc-datasets/commits_ext.parquet\", partition_cols='bucket')"
   ]
  },
  {
   "cell_type": "raw",
   "id": "2e3077ad-382f-4867-91bd-595d33885b86",
   "metadata": {},
   "source": [
    "del ddf_commits_2"
   ]
  },
  {
   "cell_type": "code",
   "execution_count": null,
   "id": "8b991da1-720b-49e4-82ad-97fdba51a321",
   "metadata": {},
   "outputs": [],
   "source": [
    "df_repoinfos.loc['conradkleinespel_rooster']"
   ]
  },
  {
   "cell_type": "code",
   "execution_count": null,
   "id": "7c36cf52-ac28-40a2-b70b-67e618a4a79a",
   "metadata": {},
   "outputs": [],
   "source": [
    "tmp_all_commits = ddf_all_commits[ddf_all_commits['repo_id'] == 'conradkleinespel_rooster'].compute()"
   ]
  },
  {
   "cell_type": "code",
   "execution_count": null,
   "id": "5066ce24-35d8-4a99-a10f-4caf6b924874",
   "metadata": {},
   "outputs": [],
   "source": [
    "tmp_all_commits"
   ]
  },
  {
   "cell_type": "code",
   "execution_count": null,
   "id": "520943f7-1c42-4d35-9c80-ccf0d5fc16a7",
   "metadata": {},
   "outputs": [],
   "source": [
    "tmp_commits = ddf_commits[ddf_commits['repo_id'] == 'conradkleinespel_rooster'].compute()"
   ]
  },
  {
   "cell_type": "code",
   "execution_count": null,
   "id": "b149fee9-3446-4917-872b-d59e876dfe33",
   "metadata": {},
   "outputs": [],
   "source": [
    "tmp_commits = tmp_commits.sort_values('commit_index', ascending=True)"
   ]
  },
  {
   "cell_type": "code",
   "execution_count": null,
   "id": "3f523de1-1a64-4d54-bd74-1fd323175db9",
   "metadata": {},
   "outputs": [],
   "source": [
    "tmp_muts = ddf[ddf['repo_id'] == 'conradkleinespel_rooster'].compute()"
   ]
  },
  {
   "cell_type": "code",
   "execution_count": null,
   "id": "427762fd-b6bc-4a72-8625-ea081b412b66",
   "metadata": {},
   "outputs": [],
   "source": [
    "tmp_muts[tmp_muts['old_path'].str.contains('safe_vec.rs') | tmp_muts['new_path'].str.contains('safe_vec.rs')]"
   ]
  },
  {
   "cell_type": "code",
   "execution_count": null,
   "id": "953024b8-fdd2-4205-83e7-65373a7c65bc",
   "metadata": {},
   "outputs": [],
   "source": [
    "tmp_commits[tmp_commits['commit_id'] == '53e03787430b7f135bb86bc495fe712f776f7d32']"
   ]
  },
  {
   "cell_type": "code",
   "execution_count": null,
   "id": "1fabc868-9ede-4859-bac0-bbd9f23c1f6c",
   "metadata": {},
   "outputs": [],
   "source": [
    "tmp_commits[tmp_commits['commit_id'] == 'cbf0680a48986857a97424b6b0f49ae02fcdf147']"
   ]
  },
  {
   "cell_type": "code",
   "execution_count": null,
   "id": "2f99df68-bc75-4709-b3af-9412cdc93b85",
   "metadata": {},
   "outputs": [],
   "source": [
    "tmp_commits[tmp_commits['commit_id'] == '3f12c511db10118d5c320e5af7b0bb0941048ba2']"
   ]
  },
  {
   "cell_type": "code",
   "execution_count": null,
   "id": "1fc1a03d-f840-446b-a04b-df2f8e96e234",
   "metadata": {},
   "outputs": [],
   "source": [
    "tmp_commits.to_csv('test.csv')"
   ]
  },
  {
   "cell_type": "code",
   "execution_count": null,
   "id": "374302ca-c74a-4ecc-823c-932937b10123",
   "metadata": {},
   "outputs": [],
   "source": [
    "ddf_commits[(ddf_commits['max_file_depth_diff'] > 0) & (ddf_commits['n_added'] == 0) & (ddf_commits['n_moved'] == 0)].compute()"
   ]
  },
  {
   "cell_type": "markdown",
   "id": "7594498f-65b9-46db-b3a7-e91df5e84125",
   "metadata": {},
   "source": [
    "# Investigating the data"
   ]
  },
  {
   "cell_type": "code",
   "execution_count": null,
   "id": "d4df35db-da50-44e6-ac08-e1b261c608ca",
   "metadata": {},
   "outputs": [],
   "source": []
  },
  {
   "cell_type": "code",
   "execution_count": null,
   "id": "c6041668-1f0f-40af-b498-dd1088291a61",
   "metadata": {},
   "outputs": [],
   "source": [
    "# What percentage of commits have file structural changes\n",
    "ddf_commits.shape[0].compute()/ddf_all_commits.shape[0].compute()"
   ]
  },
  {
   "cell_type": "code",
   "execution_count": null,
   "id": "e7b314e6-ba63-4fca-bd53-e76f238876ac",
   "metadata": {},
   "outputs": [],
   "source": [
    "(ddf_commits.groupby('repo_id').count().compute()/ddf_all_commits.groupby('repo_id').count().compute()).mean()"
   ]
  },
  {
   "cell_type": "code",
   "execution_count": null,
   "id": "667c1312-b241-41b0-b11e-14658ac8cabf",
   "metadata": {},
   "outputs": [],
   "source": [
    "ddf_commits['n_struc_changes'].describe().compute()"
   ]
  },
  {
   "cell_type": "code",
   "execution_count": null,
   "id": "a6a74ac8-c675-49c6-88b0-62ccf04453cb",
   "metadata": {},
   "outputs": [],
   "source": [
    "ddf_commits[['n_added', 'n_deleted', 'n_moved', 'n_renamed']].describe().compute()"
   ]
  },
  {
   "cell_type": "code",
   "execution_count": null,
   "id": "08bd2d16-18f8-45f5-b64c-6351c4a98b40",
   "metadata": {},
   "outputs": [],
   "source": [
    "ddf_commits[['message', 'n_added', 'n_deleted', 'n_moved', 'n_renamed']].describe().compute()"
   ]
  },
  {
   "cell_type": "code",
   "execution_count": null,
   "id": "4dbbfe98-6e99-4400-8ec1-b9a85b779e49",
   "metadata": {},
   "outputs": [],
   "source": [
    "fig_data = ddf_commits[['message', 'n_added', 'n_deleted', 'n_moved', 'n_renamed']].compute()"
   ]
  },
  {
   "cell_type": "code",
   "execution_count": null,
   "id": "efb2076a-6f79-40af-8049-c151d129cc69",
   "metadata": {},
   "outputs": [],
   "source": [
    "(fig_data[fig_data['n_added']> 0]['n_added'].describe(),\n",
    "fig_data[fig_data['n_deleted']> 0]['n_deleted'].describe(),\n",
    "fig_data[fig_data['n_moved']> 0]['n_moved'].describe(),\n",
    "fig_data[fig_data['n_renamed']> 0]['n_renamed'].describe())"
   ]
  },
  {
   "cell_type": "code",
   "execution_count": null,
   "id": "e917962d-ff7e-4bb0-8293-3d026bfd9dba",
   "metadata": {},
   "outputs": [],
   "source": [
    "(np.log10(fig_data[fig_data['n_added']> 0]['n_added']).describe(),\n",
    "np.log10(fig_data[fig_data['n_deleted']> 0]['n_deleted']).describe(),\n",
    "np.log10(fig_data[fig_data['n_moved']> 0]['n_moved']).describe(),\n",
    "np.log10(fig_data[fig_data['n_renamed']> 0]['n_renamed']).describe())"
   ]
  },
  {
   "cell_type": "code",
   "execution_count": null,
   "id": "ccb5956c-d1f3-4ca0-b9d9-7b932c9e68ba",
   "metadata": {},
   "outputs": [],
   "source": [
    "# Step 1: Filter the data\n",
    "def plot_struc_changes(col: str):\n",
    "    filtered_data = fig_data[fig_data[col] > 0][col]\n",
    "    \n",
    "    # Step 2: Bin the data using logarithmic bins for integers\n",
    "    bin_edges = np.unique(np.logspace(np.log10(1), np.log10(filtered_data.max()), num=50).astype(int))\n",
    "    \n",
    "    # Compute the counts for each bin\n",
    "    counts, bin_edges = np.histogram(filtered_data, bins=bin_edges)\n",
    "    \n",
    "    # Prepare data for plotting\n",
    "    bin_labels = [f\"{int(edge1)}-{int(edge2-1)}\" for edge1, edge2 in zip(bin_edges[:-1], bin_edges[1:])]\n",
    "    \n",
    "    # Step 3: Create the bar plot\n",
    "    fig = go.Figure(go.Bar(x=bin_labels, y=counts, name=\"Counts\"))\n",
    "    fig.update_layout(\n",
    "        title=\"Bar Plot of Binned Additions\",\n",
    "        xaxis_title=\"Bins of Number of Additions\",\n",
    "        yaxis_title=\"Counts\",\n",
    "        xaxis_type=\"category\",  # Binned categories\n",
    "        yaxis_type=\"log\"  # Logarithmic scale to handle wide range of counts\n",
    "    )\n",
    "    fig.show()\n",
    "plot_struc_changes('n_added')\n"
   ]
  },
  {
   "cell_type": "code",
   "execution_count": null,
   "id": "90039cf2-8d2c-4260-ac1d-62207691c0ca",
   "metadata": {},
   "outputs": [],
   "source": [
    "plot_struc_changes('n_deleted')\n"
   ]
  },
  {
   "cell_type": "code",
   "execution_count": null,
   "id": "41dce472-5e60-4157-b9d3-1a98ff40e9db",
   "metadata": {},
   "outputs": [],
   "source": [
    "plot_struc_changes('n_moved')\n"
   ]
  },
  {
   "cell_type": "code",
   "execution_count": null,
   "id": "8cb84475-6aa9-4f5e-97e1-7b278ab9882c",
   "metadata": {},
   "outputs": [],
   "source": [
    "plot_struc_changes('n_renamed')\n"
   ]
  },
  {
   "cell_type": "code",
   "execution_count": null,
   "id": "403119bc-7406-43f7-a469-282e6b965989",
   "metadata": {},
   "outputs": [],
   "source": [
    "filtered_data[filtered_data['n_deleted'] > filtered_data['n_deleted'].quantile(0.9999)]"
   ]
  },
  {
   "cell_type": "code",
   "execution_count": null,
   "id": "b7db93b2-35ff-48de-b78e-0a518c2c3243",
   "metadata": {},
   "outputs": [],
   "source": [
    "\n",
    "np.random.seed(42)  # For reproducibility\n",
    "subsample_size = 500_000\n",
    "subsample_add = np.random.choice(fig_data[fig_data['n_added']> 0]['n_added'], size=subsample_size, replace=False)\n",
    "subsample_del = np.random.choice(fig_data[fig_data['n_deleted']> 0]['n_deleted'], size=subsample_size, replace=False)\n",
    "subsample_mov = np.random.choice(fig_data[fig_data['n_moved']> 0]['n_moved'], size=subsample_size, replace=False)\n",
    "subsample_ren = np.random.choice(fig_data[fig_data['n_renamed']> 0]['n_renamed'], size=subsample_size, replace=False)\n",
    "\n",
    "fig = go.Figure()\n",
    "fig.add_trace(go.Violin(y=np.log10(subsample_add)))\n",
    "fig.add_trace(go.Violin(y=np.log10(subsample_del)))\n",
    "fig.add_trace(go.Violin(y=np.log10(subsample_mov)))\n",
    "fig.add_trace(go.Violin(y=np.log10(subsample_ren)))\n",
    "# fig.update_yaxes(type='log')\n",
    "fig.update_traces(box_visible=True, meanline_visible=True,)\n",
    "fig.write_image('tmp.pdf')\n",
    "fig.show()"
   ]
  },
  {
   "cell_type": "code",
   "execution_count": null,
   "id": "b2a63450-b52f-4fea-900a-2c740224c3b2",
   "metadata": {},
   "outputs": [],
   "source": [
    "bar_data_add = fig_data[fig_data['n_added']> 0]['n_added'].value_counts()\n",
    "bar_data_del = fig_data[fig_data['n_deleted']> 0]['n_deleted'].value_counts()\n",
    "bar_data_mov = fig_data[fig_data['n_moved']> 0]['n_moved'].value_counts()\n",
    "bar_data_ren = fig_data[fig_data['n_renamed']> 0]['n_renamed'].value_counts()\n",
    "\n",
    "fig = go.Figure()\n",
    "fig.add_trace(go.Bar(y=bar_data_add))\n",
    "fig.add_trace(go.Bar(y=bar_data_del))\n",
    "fig.add_trace(go.Bar(y=bar_data_mov))\n",
    "fig.add_trace(go.Bar(y=bar_data_ren))\n",
    "fig.write_image('tmp.pdf')"
   ]
  },
  {
   "cell_type": "code",
   "execution_count": null,
   "id": "ee262175-f72d-483b-b390-8499907bcd66",
   "metadata": {},
   "outputs": [],
   "source": [
    "(ddf_commits[['n_added', 'n_deleted', 'n_moved', 'n_renamed']] > 0).sum().compute()/ddf_commits.shape[0].compute()"
   ]
  },
  {
   "cell_type": "code",
   "execution_count": null,
   "id": "98abf3fd-6c01-4e16-a451-35199f1b1390",
   "metadata": {},
   "outputs": [],
   "source": [
    "upsetData = pd.DataFrame({\n",
    "    'add': ddf_commits['n_added'] > 0,\n",
    "    'delete': ddf_commits['n_deleted'] > 0,\n",
    "    'move': ddf_commits['n_moved'] > 0,\n",
    "    'rename': ddf_commits['n_renamed'] > 0\n",
    "})"
   ]
  },
  {
   "cell_type": "code",
   "execution_count": null,
   "id": "589c9842-1fe0-45d0-926e-cad6bdd32de2",
   "metadata": {},
   "outputs": [],
   "source": [
    "upset_grouped_df = upsetData.groupby(['add','delete','move','rename']).size()"
   ]
  },
  {
   "cell_type": "code",
   "execution_count": null,
   "id": "841cf279-aaab-4d16-b6d7-89a0983b5d3c",
   "metadata": {},
   "outputs": [],
   "source": [
    "matplotlib.rcParams[\"font.size\"] = 6\n",
    "matplotlib.rcParams[\"axes.facecolor\"] = \"white\"\n",
    "\n",
    "ax_dict = UpSet(upset_grouped_df, show_percentages=\"{:.2%}\", sort_by=\"cardinality\", facecolor=\"#c81919\").plot()\n",
    "pyplot.savefig(\"Figures/upset_file_structure_changes.pdf\")"
   ]
  },
  {
   "cell_type": "code",
   "execution_count": null,
   "id": "c3e6feff-a43c-4347-b959-b564b9fcada1",
   "metadata": {},
   "outputs": [],
   "source": []
  },
  {
   "cell_type": "code",
   "execution_count": null,
   "id": "b2609b73-e967-4a6f-a626-1b7a8d280152",
   "metadata": {},
   "outputs": [],
   "source": [
    "ddf_commits.head()"
   ]
  },
  {
   "cell_type": "code",
   "execution_count": null,
   "id": "b01f8024-8335-4553-96a4-fc6e3cdc2b69",
   "metadata": {},
   "outputs": [],
   "source": [
    "%%time\n",
    "ddf_repoinfos.groupby('repo_id').count().compute()"
   ]
  },
  {
   "cell_type": "code",
   "execution_count": null,
   "id": "168e5732-f994-4911-b8e3-1ea9afb29939",
   "metadata": {},
   "outputs": [],
   "source": [
    "%%time\n",
    "ddf.groupby('repo_id').count().compute()"
   ]
  },
  {
   "cell_type": "code",
   "execution_count": null,
   "id": "04676ba7-7974-4c51-be1c-b25247bfbd52",
   "metadata": {},
   "outputs": [],
   "source": [
    "%%time\n",
    "ddf_commits.groupby('repo_id').count().compute()"
   ]
  },
  {
   "cell_type": "code",
   "execution_count": null,
   "id": "82b14a6e-531f-42be-bbd5-9b29c2d8cd83",
   "metadata": {},
   "outputs": [],
   "source": [
    "%%time\n",
    "ddf_all_commits.groupby('repo_id').count().compute()"
   ]
  },
  {
   "cell_type": "code",
   "execution_count": null,
   "id": "6473c5c4-5181-4941-9655-9dadc16fb547",
   "metadata": {},
   "outputs": [],
   "source": [
    "%%time\n",
    "# merged_commits_ddf = ddf_all_commits.join(ddf_commits, rsuffix=\"_commit\", how=\"left\").groupby('repo_id')"
   ]
  },
  {
   "cell_type": "code",
   "execution_count": null,
   "id": "8345aa66-706c-4dae-bd05-b237585e282e",
   "metadata": {},
   "outputs": [],
   "source": [
    "%%time\n",
    "# merged_commits_ddf.count().compute()"
   ]
  },
  {
   "cell_type": "markdown",
   "id": "7c6ab798-5c73-41a6-90c3-34f81985b387",
   "metadata": {},
   "source": [
    "# General Statistics"
   ]
  },
  {
   "cell_type": "code",
   "execution_count": null,
   "id": "3981c550-5e7e-499a-880b-ee38661fef06",
   "metadata": {},
   "outputs": [],
   "source": [
    "df_repoinfos"
   ]
  },
  {
   "cell_type": "markdown",
   "id": "eec15872-f640-4784-b85d-8fbf65105f0e",
   "metadata": {},
   "source": [
    "## Number of contributors"
   ]
  },
  {
   "cell_type": "code",
   "execution_count": null,
   "id": "f8e61500-6699-4a31-ae31-e6cb6d573250",
   "metadata": {},
   "outputs": [],
   "source": [
    "df_repoinfos[\"no_contributors\"].describe()"
   ]
  },
  {
   "cell_type": "code",
   "execution_count": null,
   "id": "948fa61d-7d7d-4ffa-aa5f-8ffd04a14855",
   "metadata": {},
   "outputs": [],
   "source": [
    "fig = go.Figure()\n",
    "\n",
    "fig.add_trace(go.Box(y=df_repoinfos[\"no_contributors\"]))\n",
    "\n",
    "fig.update_layout(title='Number of Contributors',\n",
    "                  yaxis_title='Number of Contributors')\n",
    "\n",
    "fig.show()\n"
   ]
  },
  {
   "cell_type": "code",
   "execution_count": null,
   "id": "a72636d4-58d6-42a3-950b-2bc25460e635",
   "metadata": {},
   "outputs": [],
   "source": [
    "fig = go.Figure()\n",
    "\n",
    "fig.add_trace(go.Box(y=np.log10(df_repoinfos[\"no_contributors\"])))\n",
    "\n",
    "fig.update_layout(title='Number of Contributors',\n",
    "                  yaxis_title='Number of Contributors')\n",
    "\n",
    "fig.show()\n"
   ]
  },
  {
   "cell_type": "markdown",
   "id": "0641dd3e-ea1c-4056-a122-920897520bf1",
   "metadata": {},
   "source": [
    "## Nuber of commits"
   ]
  },
  {
   "cell_type": "code",
   "execution_count": null,
   "id": "cb9604ac-9147-4929-b6fe-e61b741a52b8",
   "metadata": {},
   "outputs": [],
   "source": [
    "df_repoinfos[\"no_commits\"].describe()"
   ]
  },
  {
   "cell_type": "code",
   "execution_count": null,
   "id": "6d8836f9-bd67-4d00-bef8-43dec51e37c1",
   "metadata": {},
   "outputs": [],
   "source": [
    "fig = go.Figure()\n",
    "\n",
    "fig.add_trace(go.Box(y=df_repoinfos[\"no_commits\"]))\n",
    "\n",
    "fig.update_layout(title='Number of Commits',\n",
    "                  yaxis_title='Number of Commits')\n",
    "\n",
    "fig.show()\n"
   ]
  },
  {
   "cell_type": "code",
   "execution_count": null,
   "id": "0bf7033f-685a-4292-b850-a8d3012bff0a",
   "metadata": {},
   "outputs": [],
   "source": [
    "fig = go.Figure()\n",
    "\n",
    "fig.add_trace(go.Box(y=np.log10(df_repoinfos[\"no_commits\"])))\n",
    "\n",
    "fig.update_layout(title='Number of Commits',\n",
    "                  yaxis_title='Number of Commits')\n",
    "\n",
    "fig.show()\n"
   ]
  },
  {
   "cell_type": "code",
   "execution_count": null,
   "id": "5d361c89-d551-46e7-87a8-e9aefeb27776",
   "metadata": {},
   "outputs": [],
   "source": [
    "df_repoinfos[df_repoinfos[\"no_commits\"] > 250000]"
   ]
  },
  {
   "cell_type": "code",
   "execution_count": null,
   "id": "c87d7e68-8792-46d3-80e6-110350d1f4c5",
   "metadata": {},
   "outputs": [],
   "source": [
    "df_repoinfos[df_repoinfos[\"no_commits\"] == 1]"
   ]
  },
  {
   "cell_type": "markdown",
   "id": "ed9e8727-57b4-4b2a-85fb-9b0ab45999eb",
   "metadata": {},
   "source": [
    "## Max file depth"
   ]
  },
  {
   "cell_type": "code",
   "execution_count": null,
   "id": "15d24aeb-5ec6-41be-9369-4b3a3164d5e3",
   "metadata": {},
   "outputs": [],
   "source": [
    "df_repoinfos[\"max_file_depth\"].describe()"
   ]
  },
  {
   "cell_type": "code",
   "execution_count": null,
   "id": "0aac5906-9ae3-4f44-b3f2-55f97adbb640",
   "metadata": {},
   "outputs": [],
   "source": [
    "df_repoinfos[\"max_file_depth\"].describe()"
   ]
  },
  {
   "cell_type": "code",
   "execution_count": null,
   "id": "4a70a3fe-d149-4a16-9ede-a0eaabcb088e",
   "metadata": {},
   "outputs": [],
   "source": [
    "print(df_repoinfos[\"max_file_depth\"].describe().to_latex())"
   ]
  },
  {
   "cell_type": "code",
   "execution_count": null,
   "id": "071024d6-c16f-4be0-a2d9-64aa8678e946",
   "metadata": {},
   "outputs": [],
   "source": [
    "fig = go.Figure()\n",
    "\n",
    "fig.add_trace(go.Box(y=df_repoinfos[\"max_file_depth\"]))\n",
    "\n",
    "fig.update_layout(title='Max File Depth',\n",
    "                  yaxis_title='Max File Depth')\n",
    "\n",
    "fig.show()\n",
    "# fig.write_image('Figures/max_file_depth.pdf')"
   ]
  },
  {
   "cell_type": "code",
   "execution_count": null,
   "id": "f4290f43-3edb-450c-922f-1aefff80f8d5",
   "metadata": {},
   "outputs": [],
   "source": [
    "outlier_data.index"
   ]
  },
  {
   "cell_type": "code",
   "execution_count": null,
   "id": "8a3b92ed-cbb8-454f-b14c-511c6cedd928",
   "metadata": {},
   "outputs": [],
   "source": [
    "df_repoinfos[\"max_file_depth\"].mean()"
   ]
  },
  {
   "cell_type": "code",
   "execution_count": null,
   "id": "9d3a25ae-4be4-4830-b0c0-b6cb56fb99d8",
   "metadata": {},
   "outputs": [],
   "source": [
    "fig = go.Figure()\n",
    "\n",
    "# Filtered version\n",
    "tmp_box_data = df_repoinfos[\"max_file_depth\"]\n",
    "thresh = 40\n",
    "\n",
    "box_data = tmp_box_data[tmp_box_data <= thresh]\n",
    "outlier_data = tmp_box_data[tmp_box_data > thresh]\n",
    "\n",
    "boxplot_trace = go.Box(y=box_data, name='Data')\n",
    "outlier_trace = go.Scatter(\n",
    "    x=['Data']*len(outlier_data),\n",
    "    y=outlier_data,\n",
    "    mode='markers+text',\n",
    "    marker=dict(color='red', size=5),\n",
    "    text=outlier_data,\n",
    "    textposition='middle right',\n",
    ")\n",
    "\n",
    "# Create the figure\n",
    "fig = make_subplots(rows=2, cols=1, vertical_spacing = 0.02, row_heights=[0.25, 0.75])\n",
    "fig.add_trace(boxplot_trace, row=2, col=1)\n",
    "\n",
    "# Add outlier scatter traces to the figure\n",
    "fig.add_trace(outlier_trace, row=1, col=1)\n",
    "\n",
    "# Hide the legend\n",
    "fig.update_layout(showlegend=False, height=500, width=1000, template=\"ggplot2\")\n",
    "\n",
    "# Hide axis labels in the upper subplot\n",
    "fig.update_xaxes(showticklabels=False, showgrid=False, row=1, col=1)\n",
    "fig.update_yaxes(title_text='', row=1, col=1)\n",
    "fig.update_xaxes(showticklabels=False, showgrid=False, row=2, col=1)\n",
    "fig.update_traces(marker_color='rgb(200, 25, 25)')\n",
    "\n",
    "# fig.update_yaxes(title_text='Maximum file structure depth', row=2, col=1)\n",
    "\n",
    "# Add x-axis title\n",
    "# fig.update_xaxes(title_text='Maximum Project Depth', row=2, col=1)\n",
    "\n",
    "# Synchronize y-axis ranges between subplots\n",
    "# fig.update_yaxes(range=[35, outlier_data['max_file_depth'].max()+15], row=1, col=1)\n",
    "# fig.update_yaxes(range=[box_data['max_file_depth'].min()-5, 35], row=2, col=1)\n",
    "fig.update_layout(\n",
    "    margin=dict(l=20, r=20, t=20, b=20),\n",
    ")\n",
    "# Show the plot\n",
    "fig.show()\n",
    "fig.write_image('Figures/max_file_depth.pdf')\n"
   ]
  },
  {
   "cell_type": "code",
   "execution_count": null,
   "id": "94332d15-ef59-4b0a-838d-a650aebac4b1",
   "metadata": {},
   "outputs": [],
   "source": [
    "tmp_box_data.describe(percentiles=[0.25,0.5,0.75,0.90,0.95,.99,0.999])"
   ]
  },
  {
   "cell_type": "code",
   "execution_count": null,
   "id": "b8d82121",
   "metadata": {},
   "outputs": [],
   "source": [
    "tmp_box_data.describe(percentiles=[0.25,0.5,0.75,0.90,0.95,.99,0.999])"
   ]
  },
  {
   "cell_type": "code",
   "execution_count": null,
   "id": "4ad72ab0-edbe-4052-bb2b-1eeb8af8046b",
   "metadata": {},
   "outputs": [],
   "source": [
    "df_repoinfos[\"max_file_depth\"].describe(percentiles=[0.25,0.5,0.75,0.90,0.95,.99])"
   ]
  },
  {
   "cell_type": "code",
   "execution_count": null,
   "id": "071a3d8d-9682-40e4-bff5-cc2e243f2555",
   "metadata": {},
   "outputs": [],
   "source": [
    "ddf_commits[\"max_file_depth\"].describe(percentiles=[0.25,0.5,0.75,0.90,0.95,.99]).compute()"
   ]
  },
  {
   "cell_type": "code",
   "execution_count": null,
   "id": "aa45a8a5-8a07-4919-9b4a-e0c595cc40cc",
   "metadata": {},
   "outputs": [],
   "source": [
    "ddf_commits['max_file_depth_diff'].describe(percentiles=[0.25,0.5,0.75,0.90,0.95,.99]).compute()"
   ]
  },
  {
   "cell_type": "code",
   "execution_count": null,
   "id": "dc547430-055b-42c9-9333-27544d610dc0",
   "metadata": {},
   "outputs": [],
   "source": [
    "ddf_commits['max_file_depth_diff'].abs().describe(percentiles=[0.25,0.5,0.75,0.90,0.95,.99]).compute()"
   ]
  },
  {
   "cell_type": "code",
   "execution_count": null,
   "id": "babc2ad7-c9bc-452a-b7f3-93089978273a",
   "metadata": {},
   "outputs": [],
   "source": [
    "initial_outlier_proj = df_repoinfos[(df_repoinfos['max_file_depth'] >= 16)]\n",
    "initial_outlier_proj.shape[0]"
   ]
  },
  {
   "cell_type": "code",
   "execution_count": null,
   "id": "2608fe23-d1c9-4176-8845-23c0ec42c81e",
   "metadata": {},
   "outputs": [],
   "source": [
    "initial_outlier_proj"
   ]
  },
  {
   "cell_type": "code",
   "execution_count": null,
   "id": "d10f69cc-1b1e-4e4a-910d-904b917c5bab",
   "metadata": {},
   "outputs": [],
   "source": [
    "initial_outlier_proj.groupby(['lang']).count()"
   ]
  },
  {
   "cell_type": "code",
   "execution_count": null,
   "id": "ff1b40cd-a4fe-4a6f-8beb-91db5a68e007",
   "metadata": {},
   "outputs": [],
   "source": [
    "temp_data = ddf_commits[ddf_commits[\"max_file_depth_diff\"].abs() > 0]"
   ]
  },
  {
   "cell_type": "code",
   "execution_count": null,
   "id": "9169ed8b-ce75-40cc-a14e-7f041396d6aa",
   "metadata": {},
   "outputs": [],
   "source": [
    "commits_depth_inc = ddf_commits[(ddf_commits[\"max_file_depth_diff\"] > 0) & (~ddf_commits[\"max_file_depth_diff\"].isin([123,50,40]))]\n",
    "commits_depth_inc[\"max_file_depth_diff\"].describe(percentiles=[0.25,0.5,0.75,0.90,0.95,.99,.999,.9999]).compute()"
   ]
  },
  {
   "cell_type": "code",
   "execution_count": null,
   "id": "1105df60-7799-4963-9ad0-6c6e7c621631",
   "metadata": {},
   "outputs": [],
   "source": [
    "commits_depth_inc.compute().groupby('lang')[\"max_file_depth_diff\"].describe(percentiles=[0.25,0.5,0.75,0.90,0.95,.99,.999,.9999])"
   ]
  },
  {
   "cell_type": "code",
   "execution_count": null,
   "id": "2090c999-d129-4d6e-80b0-62e40e2df58c",
   "metadata": {},
   "outputs": [],
   "source": [
    "fig = px.box(commits_depth_inc[\"max_file_depth_diff\"])\n",
    "fig.show()"
   ]
  },
  {
   "cell_type": "code",
   "execution_count": null,
   "id": "edebbccf-45a4-4703-8118-352ce786bf2f",
   "metadata": {},
   "outputs": [],
   "source": [
    "df_repoinfos[df_repoinfos[\"max_file_depth\"].isin([123,57,49])]"
   ]
  },
  {
   "cell_type": "code",
   "execution_count": null,
   "id": "41800db6-ea52-41e1-8a6f-33a23e078851",
   "metadata": {},
   "outputs": [],
   "source": [
    "ddf_commits[ddf_commits[\"max_file_depth\"].isin([123,57,49]) & (ddf_commits[\"max_file_depth_diff\"] > 0)].compute()"
   ]
  },
  {
   "cell_type": "code",
   "execution_count": null,
   "id": "abdf6d4c-7909-43bc-b2ee-10eec96dd849",
   "metadata": {},
   "outputs": [],
   "source": [
    "ddf_commits[ddf_commits['commit_id'] == \"8afe8378a69a39616daba30b4eafa4b2602e17b2\"].compute()"
   ]
  },
  {
   "cell_type": "code",
   "execution_count": null,
   "id": "8c1129f3-c4c7-4252-938e-b6d4539d52ee",
   "metadata": {},
   "outputs": [],
   "source": [
    "ddf[ddf[\"old_file_depth\"].isin([122,56,48])].compute()"
   ]
  },
  {
   "cell_type": "code",
   "execution_count": null,
   "id": "3f8a3a47-bb71-408e-ad11-6c25c599a118",
   "metadata": {},
   "outputs": [],
   "source": [
    "commits_depth_dec = ddf_commits[(ddf_commits[\"max_file_depth_diff\"] < 0) & (~ddf_commits[\"max_file_depth_diff\"].isin([-119,-50]))]\n",
    "commits_depth_dec[\"max_file_depth_diff\"].describe(percentiles=[0.01,0.1,0.25,0.5,0.75]).compute()"
   ]
  },
  {
   "cell_type": "code",
   "execution_count": null,
   "id": "95b5ed8e-71ac-4486-9c91-e5035e1c2d81",
   "metadata": {},
   "outputs": [],
   "source": [
    "commits_depth_dec.compute().groupby('lang')[\"max_file_depth_diff\"].describe(percentiles=[0.01,0.05,0.1,0.25,0.5,0.75])"
   ]
  },
  {
   "cell_type": "code",
   "execution_count": null,
   "id": "37e0adea-6c7f-42fb-ae65-9fd31d8ea6f9",
   "metadata": {},
   "outputs": [],
   "source": [
    "fig = make_subplots(rows=len(df_repoinfos['lang'].unique()), cols=2)\n",
    "\n",
    "for i, lang in enumerate(df_repoinfos['lang'].unique()):\n",
    "    lang_commits_depth_inc = commits_depth_inc[commits_depth_inc['lang'] == lang]\n",
    "    fig.add_trace(\n",
    "        go.Violin(\n",
    "            x=[lang] * len(lang_commits_depth_inc[\"max_file_depth_diff\"]), \n",
    "            y=lang_commits_depth_inc[\"max_file_depth_diff\"]), \n",
    "        row=i+1, col=1\n",
    "    )\n",
    "        \n",
    "    lang_commits_depth_dec = commits_depth_dec[commits_depth_dec['lang'] == lang]\n",
    "    fig.add_trace(\n",
    "        go.Violin(\n",
    "            x=[lang] * len(lang_commits_depth_dec[\"max_file_depth_diff\"]), \n",
    "            y=-lang_commits_depth_dec[\"max_file_depth_diff\"]),\n",
    "        row=i+1, col=2\n",
    "    )\n",
    "\n",
    "fig.update_traces(box_visible=False, meanline_visible=False)\n",
    "fig.update_layout(height=750, template=\"ggplot2\", showlegend=False)\n",
    "\n",
    "# fig.add_hline(y=12, opacity=1, line_width=2, line_color=\"black\", row=1, col=1)\n",
    "# fig.add_hline(y=8.32, opacity=1, line_width=2, line_color=\"black\", row=1, col=2)\n",
    "\n",
    "fig.show()\n",
    "fig.write_image(\"Figures/violin_depth_difference.pdf\")"
   ]
  },
  {
   "cell_type": "code",
   "execution_count": null,
   "id": "7b3d8dca-569a-4a19-9e05-3358b97e62d8",
   "metadata": {},
   "outputs": [],
   "source": [
    "fig = make_subplots(rows=1, cols=2)\n",
    "# fig = go.Figure()\n",
    "\n",
    "fig.add_trace(\n",
    "    go.Violin(\n",
    "        x=['Depth Increase'] * len(commits_depth_inc), \n",
    "        y=commits_depth_inc[\"max_file_depth_diff\"]), \n",
    "                        # legendgroup='INC', scalegroup='INC', name='INC',\n",
    "                        # side='negative'),\n",
    "    row=1, col=1\n",
    ")\n",
    "        \n",
    "    # lang_commits_depth_dec = commits_depth_dec[commits_depth_dec['lang'] == lang].compute()\n",
    "fig.add_trace(\n",
    "    go.Violin(\n",
    "        x=['Depth Decrease'] * len(commits_depth_dec), \n",
    "        y=-commits_depth_dec[\"max_file_depth_diff\"]),\n",
    "                        # legendgroup='DEC', scalegroup='DEC', name='DEC',\n",
    "                        # side='positive'),\n",
    "    row=1, col=2\n",
    ")\n",
    "\n",
    "fig.update_traces(box_visible=True, meanline_visible=True)\n",
    "fig.update_layout(height=750, template=\"ggplot2\", showlegend=False)\n",
    "\n",
    "fig.add_hline(y=12, opacity=1, line_width=2, line_color=\"black\", row=1, col=1)\n",
    "fig.add_hline(y=9, opacity=1, line_width=2, line_color=\"black\", row=1, col=2)\n",
    "\n",
    "fig.update_traces(marker_color=\"rgb(200,25,25)\", row=1, col=1)\n",
    "fig.update_layout(\n",
    "    margin=dict(l=20, r=20, t=20, b=20),\n",
    ")\n",
    "\n",
    "fig.show()\n",
    "fig.write_image(\"Figures/violin_depth_difference.pdf\")"
   ]
  },
  {
   "cell_type": "code",
   "execution_count": null,
   "id": "c3111517-9adf-48c5-843d-7b7a6e09fe25",
   "metadata": {},
   "outputs": [],
   "source": [
    "fig = make_subplots(rows=2, cols=1)\n",
    "# fig = go.Figure()\n",
    "# for i, lang in enumerate(df_repoinfos['lang'].unique()):\n",
    "# lang_commits_depth_inc = commits_depth_inc[commits_depth_inc['lang'] == lang].compute()\n",
    "fig.add_trace(\n",
    "    go.Box(\n",
    "        x=commits_depth_inc[\"lang\"], \n",
    "        y=commits_depth_inc[\"max_file_depth_diff\"]), \n",
    "                        # legendgroup='INC', scalegroup='INC', name='INC',\n",
    "                        # side='negative'),\n",
    "    row=1, col=1\n",
    ")\n",
    "        \n",
    "    # lang_commits_depth_dec = commits_depth_dec[commits_depth_dec['lang'] == lang].compute()\n",
    "fig.add_trace(\n",
    "    go.Box(\n",
    "        x=commits_depth_dec[\"lang\"], \n",
    "        y=-commits_depth_dec[\"max_file_depth_diff\"]),\n",
    "                        # legendgroup='DEC', scalegroup='DEC', name='DEC',\n",
    "                        # side='positive'),\n",
    "    row=2, col=1\n",
    ")\n",
    "\n",
    "fig.update_traces(box_visible=False, meanline_visible=False)\n",
    "fig.update_layout(height=1024, template=\"ggplot2\", showlegend=False)\n",
    "\n",
    "# fig.add_hline(y=12, opacity=1, line_width=2, line_color=\"black\", row=1, col=1)\n",
    "# fig.add_hline(y=8.32, opacity=1, line_width=2, line_color=\"black\", row=1, col=2)\n",
    "\n",
    "fig.show()\n",
    "fig.write_image(\"Figures/violin_pc_depth_difference.pdf\")"
   ]
  },
  {
   "cell_type": "code",
   "execution_count": null,
   "id": "5a84a4f5-c632-4b06-b33e-93b4422da71f",
   "metadata": {},
   "outputs": [],
   "source": [
    "fig = px.violin(commits_depth_inc.compute(), x='lang', y=\"max_file_depth_diff\")\n",
    "fig.update_layout(height=800)\n",
    "fig.show()"
   ]
  },
  {
   "cell_type": "code",
   "execution_count": null,
   "id": "67655a0d-dc6c-4afd-afd7-cc9296ecdd2b",
   "metadata": {},
   "outputs": [],
   "source": []
  },
  {
   "cell_type": "code",
   "execution_count": null,
   "id": "fb2be070-94f3-4af5-8947-08b6d4dee27c",
   "metadata": {},
   "outputs": [],
   "source": [
    "fig = px.violin(commits_depth_dec.compute(), x='lang', y=\"max_file_depth_diff\")\n",
    "fig.update_layout(height=800)\n",
    "fig.show()"
   ]
  },
  {
   "cell_type": "code",
   "execution_count": null,
   "id": "5a7f7b91-db17-4c62-b3b8-d88b9d07608b",
   "metadata": {},
   "outputs": [],
   "source": [
    "commits_depth_dec.compute().groupby('lang')[\"max_file_depth_diff\"].describe(percentiles=[0.01,0.05,0.1,0.25,0.5,0.75])"
   ]
  },
  {
   "cell_type": "code",
   "execution_count": null,
   "id": "ec288183-2c08-46d4-8b90-24c1f305f04a",
   "metadata": {},
   "outputs": [],
   "source": []
  },
  {
   "cell_type": "code",
   "execution_count": null,
   "id": "4a3add05-0b7d-48ed-af7f-3903d36b4ecf",
   "metadata": {},
   "outputs": [],
   "source": [
    "large_increase_commits = ddf_commits[(ddf_commits[\"max_file_depth_diff\"] >= commits_depth_inc[\"max_file_depth_diff\"].quantile(0.99)) & (ddf_commits['commit_index'] != 0)].compute()"
   ]
  },
  {
   "cell_type": "code",
   "execution_count": null,
   "id": "71d13fc3-24a5-4e18-bab8-737afe8c593f",
   "metadata": {},
   "outputs": [],
   "source": [
    "ddf_commits[ddf_commits[\"max_file_depth_diff\"] < 0][\"max_file_depth_diff\"].describe(percentiles=[0.01,0.1,0.25,0.5,0.75]).compute()"
   ]
  },
  {
   "cell_type": "code",
   "execution_count": null,
   "id": "1c332b20-0831-4e11-90a1-2690ffd3fcc3",
   "metadata": {},
   "outputs": [],
   "source": [
    "df_repoinfos"
   ]
  },
  {
   "cell_type": "code",
   "execution_count": null,
   "id": "dfa4c825-cc40-47c8-bf79-209835152fd4",
   "metadata": {},
   "outputs": [],
   "source": [
    "ddf_commits = ddf_commits.merge(df_repoinfos[['lang']], left_on='repo_id', right_index=True)"
   ]
  },
  {
   "cell_type": "code",
   "execution_count": null,
   "id": "b984717c-e03d-4625-8591-503d6c64f732",
   "metadata": {},
   "outputs": [],
   "source": [
    "ddf_commits"
   ]
  },
  {
   "cell_type": "code",
   "execution_count": null,
   "id": "31416e9c-5421-4b4f-9ea7-ba7b9556fa99",
   "metadata": {},
   "outputs": [],
   "source": [
    "large_increase_commits = large_increase_commits"
   ]
  },
  {
   "cell_type": "code",
   "execution_count": null,
   "id": "1df2f558-5ac6-408e-9fe8-5a286a88564d",
   "metadata": {},
   "outputs": [],
   "source": [
    "lic_class = large_increase_commits.merge(df_intro_classified[['repo_id', 'commit_id','Reason 1', 'Reason 2']], on=['repo_id', 'commit_id'], how='left')\n"
   ]
  },
  {
   "cell_type": "code",
   "execution_count": null,
   "id": "75ec7ea8-4ac1-44f8-bd2f-dd9e8527fccb",
   "metadata": {},
   "outputs": [],
   "source": [
    "lic_class"
   ]
  },
  {
   "cell_type": "code",
   "execution_count": null,
   "id": "b56709fe-1dfa-427e-ac35-652c602c5712",
   "metadata": {},
   "outputs": [],
   "source": [
    "lic_class.groupby(['lang']).count()"
   ]
  },
  {
   "cell_type": "code",
   "execution_count": null,
   "id": "113790a5-1577-4a5f-bc47-988455ba8074",
   "metadata": {},
   "outputs": [],
   "source": [
    "tmp_muts = ddf[ddf['repo_id'].isin(lic_class['repo_id']) & ddf['commit_id'].isin(lic_class['commit_id'])].compute()"
   ]
  },
  {
   "cell_type": "code",
   "execution_count": null,
   "id": "42a707cd-cab5-4005-9e33-bfd360b1deeb",
   "metadata": {},
   "outputs": [],
   "source": [
    "grouped_tmp_muts = tmp_muts.set_index(['repo_id', 'commit_id', 'new_file_depth'])"
   ]
  },
  {
   "cell_type": "code",
   "execution_count": null,
   "id": "58d37bc3-77de-42f4-876c-6f328df5b646",
   "metadata": {},
   "outputs": [],
   "source": [
    "tmp_intro_commits = lic_class\n",
    "tmp_intro_commits['new_file_depth'] = tmp_intro_commits['max_file_depth']-1\n",
    "tmp_intro_commits = tmp_intro_commits.set_index(['repo_id', 'commit_id', 'new_file_depth'])\n",
    "tmp_intro_commits"
   ]
  },
  {
   "cell_type": "code",
   "execution_count": null,
   "id": "97b30d32-5028-4782-b905-7d3587d1e3ee",
   "metadata": {},
   "outputs": [],
   "source": [
    "df_intro_commits = tmp_intro_commits.merge(\n",
    "    grouped_tmp_muts[['new_path']],\n",
    "    left_index=True,\n",
    "    right_index=True,\n",
    "    how='left'\n",
    ").reset_index().drop_duplicates(['repo_id', 'commit_id', 'new_file_depth']).rename(columns={'new_path': 'long_path'})\n",
    "df_intro_commits.head()"
   ]
  },
  {
   "cell_type": "code",
   "execution_count": null,
   "id": "f21ca0d6-6aa7-491d-95de-0a65f99d32b2",
   "metadata": {},
   "outputs": [],
   "source": [
    "df_intro_commits.to_excel('diff_not_classified.xlsx')"
   ]
  },
  {
   "cell_type": "code",
   "execution_count": null,
   "id": "390f34b8-9dfe-4586-bcef-edcc9eadc027",
   "metadata": {},
   "outputs": [],
   "source": [
    "lic_class = pd.read_excel('diff_with_classified.xlsx')\n",
    "lic_class.loc[lic_class['Reason 1'].isin(['Node Modules', 'Vendor',\"Pods\",\"Python Packages\",\"Carthage\"]),\"Reason 1\"] = \"Vendor\""
   ]
  },
  {
   "cell_type": "code",
   "execution_count": null,
   "id": "50527b58-db59-4986-b6bf-a2effbd4f936",
   "metadata": {},
   "outputs": [],
   "source": [
    "lic_class.merge(ddf_commits[['repo_id', 'commit_id', 'pct_added', 'pct_deleted']].compute(), on=['repo_id', 'commit_id'])"
   ]
  },
  {
   "cell_type": "code",
   "execution_count": null,
   "id": "178e87bb-445f-4393-aca6-9ab66102c233",
   "metadata": {},
   "outputs": [],
   "source": [
    "lic_class[lic_class['Reason 1'].isna()]"
   ]
  },
  {
   "cell_type": "code",
   "execution_count": null,
   "id": "c9cca93b-8102-49eb-a5d2-46f6318f6255",
   "metadata": {},
   "outputs": [],
   "source": [
    "print(lic_class['Reason 1'].value_counts().to_latex(escape=True))"
   ]
  },
  {
   "cell_type": "code",
   "execution_count": null,
   "id": "71ea8fc1-2293-41a3-a26c-a6eb432b4022",
   "metadata": {},
   "outputs": [],
   "source": [
    "lic_class.groupby('commit_index')['Reason 1'].value_counts().head(50)"
   ]
  },
  {
   "cell_type": "code",
   "execution_count": null,
   "id": "b9f9b2f1-9d3a-45bf-8076-95cbd1197ebd",
   "metadata": {},
   "outputs": [],
   "source": [
    "tmp_data = lic_class.groupby('Reason 1')['commit_id'].count()\n",
    "fig = px.box(tmp_data)\n",
    "fig.show()"
   ]
  },
  {
   "cell_type": "code",
   "execution_count": null,
   "id": "a3f4544a-52e1-431d-9b3c-0e9a4ae6ab01",
   "metadata": {},
   "outputs": [],
   "source": [
    "commits_depth_dec = commits_depth_dec.merge(df_repoinfos[['lang']], on='repo_id')\n",
    "decrease_99 = commits_depth_dec[commits_depth_dec['max_file_depth_diff'] <= -8.320000].compute()\n",
    "\n",
    "pd.concat([decrease_99,lic_class]).to_excel('depth_dec_unclassified.xlsx')"
   ]
  },
  {
   "cell_type": "code",
   "execution_count": null,
   "id": "683f9a09-8d92-4ba3-aed1-7bbc3bda415b",
   "metadata": {},
   "outputs": [],
   "source": [
    "df_intro_classified['Reason 1'].value_counts()"
   ]
  },
  {
   "cell_type": "code",
   "execution_count": null,
   "id": "eed34e13-4dcf-4e47-9b5d-e6fa157004c9",
   "metadata": {},
   "outputs": [],
   "source": [
    "len(df_intro_classified['Reason 1'])"
   ]
  },
  {
   "cell_type": "code",
   "execution_count": null,
   "id": "4d711674-69d8-4270-9855-4b7fe7a4af6a",
   "metadata": {},
   "outputs": [],
   "source": [
    "tuples1 = [tuple(x) for x in lic_class[['repo_id', 'commit_id']].to_records(index=False)]\n",
    "tuples2 = [tuple(x) for x in df_intro_classified[['repo_id', 'commit_id']].to_records(index=False)]\n",
    "\n",
    "# Find the subset of tuples that are present in both DataFrames\n",
    "subset = set(tuples1).intersection(tuples2)\n",
    "len(subset)"
   ]
  },
  {
   "cell_type": "code",
   "execution_count": null,
   "id": "f927c03a-63bf-4529-9249-58e8e90d9df9",
   "metadata": {},
   "outputs": [],
   "source": [
    "max_old_file_depths = ddf[ddf['repo_id'].isin(decrease_99['repo_id']) & ddf['commit_id'].isin(decrease_99['commit_id'])].groupby(['repo_id', 'commit_id'])['old_file_depth'].max().compute()"
   ]
  },
  {
   "cell_type": "code",
   "execution_count": null,
   "id": "ec5662bc-acb0-4207-af0f-d350c7a3cb1f",
   "metadata": {},
   "outputs": [],
   "source": [
    "tmp_del_commits = decrease_99 # pd.read_excel('depth_dec_classified.xlsx')\n",
    "tmp_del_commits = tmp_del_commits.set_index(['repo_id', 'commit_id'])\n",
    "tmp_del_commits['old_file_depth'] = max_old_file_depths\n",
    "tmp_del_commits = tmp_del_commits.reset_index().set_index(['repo_id', 'commit_id', 'old_file_depth'])\n",
    "tmp_del_commits"
   ]
  },
  {
   "cell_type": "code",
   "execution_count": null,
   "id": "feb24267-8dbc-4cbc-b41b-0139ca0b3918",
   "metadata": {},
   "outputs": [],
   "source": [
    "grouped_tmp_muts = ddf[ddf['repo_id'].isin(decrease_99['repo_id']) & ddf['commit_id'].isin(decrease_99['commit_id'])].compute().set_index(['repo_id', 'commit_id', 'old_file_depth'])"
   ]
  },
  {
   "cell_type": "code",
   "execution_count": null,
   "id": "9a1ac331-9de0-4bc2-b143-589d25835459",
   "metadata": {},
   "outputs": [],
   "source": [
    "df_tmp_del_commits = tmp_del_commits.merge(\n",
    "    grouped_tmp_muts[['old_path']],\n",
    "    left_index=True,\n",
    "    right_index=True,\n",
    "    how='left'\n",
    ").reset_index().drop_duplicates(['repo_id', 'commit_id', 'old_file_depth']).rename(columns={'old_path': 'long_path'})\n",
    "df_tmp_del_commits.head()"
   ]
  },
  {
   "cell_type": "code",
   "execution_count": null,
   "id": "b206df6a-a7e0-4cd7-bbb7-5780970d5867",
   "metadata": {},
   "outputs": [],
   "source": [
    "pd.concat([df_tmp_del_commits,lic_class]).to_excel('depth_dec_unclassified.xlsx')"
   ]
  },
  {
   "cell_type": "code",
   "execution_count": null,
   "id": "96744e9d-f7b4-408d-9981-9b9839fc1d3a",
   "metadata": {},
   "outputs": [],
   "source": []
  },
  {
   "cell_type": "code",
   "execution_count": null,
   "id": "a22456e4-1369-4cf9-8a9a-b02bc74803f4",
   "metadata": {},
   "outputs": [],
   "source": []
  },
  {
   "cell_type": "code",
   "execution_count": null,
   "id": "a221904b-34b1-48e8-94ea-c275054a4990",
   "metadata": {},
   "outputs": [],
   "source": []
  },
  {
   "cell_type": "code",
   "execution_count": null,
   "id": "c1506a0f-60d3-497a-81c5-91bb1de99480",
   "metadata": {},
   "outputs": [],
   "source": [
    "print(lic_class.groupby('Reason 1')['lang'].value_counts().to_latex(escape=True, longtable=True))"
   ]
  },
  {
   "cell_type": "code",
   "execution_count": null,
   "id": "e76436fc-ad93-4e84-bb74-92a8d3a67b0b",
   "metadata": {},
   "outputs": [],
   "source": []
  },
  {
   "cell_type": "code",
   "execution_count": null,
   "id": "052ec226-658f-496b-a27b-dec098121d2a",
   "metadata": {},
   "outputs": [],
   "source": []
  },
  {
   "cell_type": "markdown",
   "id": "ab5ad785-9530-4f04-b861-a4e71da7c8bf",
   "metadata": {},
   "source": [
    "# Percentage of files changes to total files"
   ]
  },
  {
   "cell_type": "code",
   "execution_count": null,
   "id": "793ec4ce-a13f-4861-a865-cb39747aef6d",
   "metadata": {},
   "outputs": [],
   "source": [
    "ddf_commits['pct_added'] = dd.Series.round(ddf_commits['n_added']/(ddf_commits['total_files']+1)*100, 1)\n",
    "ddf_commits['pct_deleted'] = dd.Series.round(ddf_commits['n_deleted']/(ddf_commits['total_files']+ddf_commits['n_deleted'])*100, 1)\n",
    "ddf_commits['pct_touched'] = dd.Series.round(ddf_commits['n_struc_changes']/(ddf_commits['total_files']+ddf_commits['n_deleted']+1)*100, 1)"
   ]
  },
  {
   "cell_type": "code",
   "execution_count": null,
   "id": "5170bc51-5127-4bd5-816d-b8942c80538c",
   "metadata": {},
   "outputs": [],
   "source": [
    "ddf_commits['pct_added'].describe().compute()"
   ]
  },
  {
   "cell_type": "code",
   "execution_count": null,
   "id": "9b54bbf1-2288-4433-bf50-b4574f7995e4",
   "metadata": {},
   "outputs": [],
   "source": [
    "ddf_commits['pct_touched'].describe().compute()"
   ]
  },
  {
   "cell_type": "code",
   "execution_count": null,
   "id": "211c4625-6c36-4e3e-a02f-97898dde2e87",
   "metadata": {},
   "outputs": [],
   "source": [
    "ddf_commits[ddf_commits['pct_deleted'] > 100].compute()"
   ]
  },
  {
   "cell_type": "code",
   "execution_count": null,
   "id": "08cd0ad2-1865-441e-9509-e868926b99c6",
   "metadata": {},
   "outputs": [],
   "source": [
    "fig = px.scatter(ddf_commits.compute(), x='commit_index', y='pct_touched')\n",
    "fig.write_image('tmp.pdf')"
   ]
  },
  {
   "cell_type": "code",
   "execution_count": null,
   "id": "8778c5ec-8625-4449-8e91-1ed3ec8848bb",
   "metadata": {},
   "outputs": [],
   "source": [
    "fig=px.box(ddf_commits['pct_touched'])\n",
    "fig.write_image('tmp2.pdf')"
   ]
  },
  {
   "cell_type": "markdown",
   "id": "0d564553-52b1-41d9-88a5-4cbb45184db7",
   "metadata": {},
   "source": [
    "# End"
   ]
  },
  {
   "cell_type": "code",
   "execution_count": null,
   "id": "83d200f9-caaa-418e-bf7e-24a198b894bf",
   "metadata": {},
   "outputs": [],
   "source": []
  },
  {
   "cell_type": "code",
   "execution_count": null,
   "id": "2bfd6d0e-8bee-43be-bbc5-b6595eb5ee60",
   "metadata": {},
   "outputs": [],
   "source": [
    "# Create a box plot of the filtered data\n",
    "fig = go.Figure()\n",
    "\n",
    "fig.add_trace(go.Box(y=temp_data[\"max_file_depth_diff\"].abs()))\n",
    "\n",
    "# Update layout with titles and axis labels\n",
    "fig.update_layout(\n",
    "    title='Max File Depth Diff',\n",
    "    yaxis_title='Max File Depth Difference'\n",
    ")\n",
    "\n",
    "# Show the plot\n",
    "fig.show()\n",
    "# fig.write_image('Figures/.pdf')"
   ]
  },
  {
   "cell_type": "code",
   "execution_count": null,
   "id": "95f8f6b0-3c66-471b-af1e-d44c53138294",
   "metadata": {},
   "outputs": [],
   "source": [
    "temp_data[\"max_file_depth_diff\"].abs().describe(percentiles=[0.25,0.5,0.75,0.90,0.95,.99,.999])"
   ]
  },
  {
   "cell_type": "code",
   "execution_count": null,
   "id": "36749c16-b988-4be5-94ac-689f0992254c",
   "metadata": {},
   "outputs": [],
   "source": [
    "# outlier_data_2 = ddf[~((ddf['new_file_depth'] >= lower_bound) & (ddf['new_file_depth'] <= upper_bound))].compute()\n",
    "# outlier_data_2.sort_values('new_file_depth', ascending=False).drop_duplicates(subset='commit_id')"
   ]
  },
  {
   "cell_type": "code",
   "execution_count": null,
   "id": "d4a8f265-b58f-4b3f-a35c-af443b3fc1b7",
   "metadata": {},
   "outputs": [],
   "source": [
    "# outlier_data.sort_values(\"max_file_depth\", ascending=False)"
   ]
  },
  {
   "cell_type": "code",
   "execution_count": null,
   "id": "e38e9c87-1df6-4205-a9d7-4ba6ee3b34de",
   "metadata": {},
   "outputs": [],
   "source": [
    "depth_occurences = df_repoinfos.groupby(\"max_file_depth\")[\"first_commit\"].count()"
   ]
  },
  {
   "cell_type": "code",
   "execution_count": null,
   "id": "5cf3b5d8-0b7d-4f6c-a5e4-814dee13b09d",
   "metadata": {},
   "outputs": [],
   "source": [
    "import scipy.stats as stats\n",
    "\n",
    "mean = 3.10\n",
    "std_dev = 2.05\n",
    "\n",
    "# Generate x values for the distribution curve\n",
    "x = np.linspace(0, np.max(depth_occurences), 100)\n",
    "# Calculate corresponding y values from the normal distribution\n",
    "y = len(depth_occurences)*stats.norm.pdf(x, loc=mean, scale=std_dev)"
   ]
  },
  {
   "cell_type": "code",
   "execution_count": null,
   "id": "f59b9bdc-3dfe-4e4f-8671-fe6e05251368",
   "metadata": {},
   "outputs": [],
   "source": [
    "fig = px.bar(depth_occurences)\n",
    "fig.show()# Add the distribution curve as a line plot"
   ]
  },
  {
   "cell_type": "code",
   "execution_count": null,
   "id": "de828383-a4b5-4113-bf3b-fd2ff99545ed",
   "metadata": {},
   "outputs": [],
   "source": [
    "fig = px.bar(depth_occurences)\n",
    "fig.show()# Add the distribution curve as a line plot"
   ]
  },
  {
   "cell_type": "code",
   "execution_count": null,
   "id": "917aa564-c6ad-4833-a98b-0eb200d3f6a4",
   "metadata": {},
   "outputs": [],
   "source": [
    "# If you want to handle multiple modes and select the first or maximum, you can do:\n",
    "def select_mode(modes):\n",
    "    if len(modes) > 1:\n",
    "        return modes.max()  # or modes.min() or modes.iloc[0] depending on your requirement\n",
    "    else:\n",
    "        return modes[0]\n",
    "\n",
    "depth_occurences_commits = ddf_commits.compute().groupby(['repo_id'])[\"max_file_depth\"].agg(lambda x: select_mode(pd.Series.mode(x)))"
   ]
  },
  {
   "cell_type": "code",
   "execution_count": null,
   "id": "830a774d-c1f3-4796-a8ff-fdda3032cafa",
   "metadata": {},
   "outputs": [],
   "source": [
    "depth_occurences_commits.mean()"
   ]
  },
  {
   "cell_type": "code",
   "execution_count": null,
   "id": "ca3e549e-10f5-4da4-a555-fa7f9db9ece6",
   "metadata": {},
   "outputs": [],
   "source": [
    "depth_occurences_commits.value_counts()"
   ]
  },
  {
   "cell_type": "code",
   "execution_count": null,
   "id": "5cfb172a-7698-4b8e-82b7-99808c7670e5",
   "metadata": {},
   "outputs": [],
   "source": [
    "fig = px.bar(depth_occurences_commits.value_counts())\n",
    "fig.update_layout(template='ggplot2', height=300, width=1000, showlegend=False)\n",
    "fig.update_traces(marker_color='rgb(200,25,25)')\n",
    "fig.update_xaxes(title=\"File Tree Depth\")\n",
    "fig.update_yaxes(title=\"Number of Projects\")\n",
    "fig.show()# Add the distribution curve as a line plot\n",
    "fig.update_layout(\n",
    "    margin=dict(l=20, r=20, t=20, b=20),\n",
    ")\n",
    "fig.write_image('Figures/average_file_tree_depth.pdf')"
   ]
  },
  {
   "cell_type": "code",
   "execution_count": null,
   "id": "d8622f7c-4e47-42da-8638-a4b3db9690ce",
   "metadata": {},
   "outputs": [],
   "source": [
    "(ddf_repoinfos['no_commits'] == 3).sum().compute()"
   ]
  },
  {
   "cell_type": "code",
   "execution_count": null,
   "id": "95062db4-f81d-4bb6-be3c-acf643753b3f",
   "metadata": {},
   "outputs": [],
   "source": [
    "# Calculate counts of occurrences for each file depth level\n",
    "counts = df_repoinfos['max_file_depth'].value_counts()\n",
    "\n",
    "# Perform the Kolmogorov-Smirnov test on the counts data\n",
    "mean_counts = counts.mean()\n",
    "std_dev_counts = counts.std()\n",
    "\n",
    "statistic, p_value = stats.kstest(counts, 'norm', args=(mean_counts, std_dev_counts))\n",
    "\n",
    "# Interpret the test result\n",
    "alpha = 0.05  # Significance level\n",
    "print(f\"Kolmogorov-Smirnov Test on Counts:\")\n",
    "print(f\"Test Statistic: {statistic:.4f}\")\n",
    "print(f\"P-value: {p_value:.4f}\")\n",
    "\n",
    "if p_value < alpha:\n",
    "    print(\"The counts do not follow a normal distribution.\")\n",
    "else:\n",
    "    print(\"The counts follow a normal distribution.\")"
   ]
  },
  {
   "cell_type": "code",
   "execution_count": null,
   "id": "0972811a-fe61-4f61-96fc-9d82b7372787",
   "metadata": {},
   "outputs": [],
   "source": [
    "df_repoinfos[df_repoinfos[\"max_file_depth\"] > 40]"
   ]
  },
  {
   "cell_type": "code",
   "execution_count": null,
   "id": "025a6361-0f96-4d64-a5a6-67a35fb042bd",
   "metadata": {},
   "outputs": [],
   "source": [
    "df_repoinfos[\"max_file_depth\"].quantile(0.99)"
   ]
  },
  {
   "cell_type": "code",
   "execution_count": null,
   "id": "0f33efbd-49af-45c5-a3c2-5eaf9101e31d",
   "metadata": {},
   "outputs": [],
   "source": [
    "fig = px.scatter(df_repoinfos, x=\"no_contributors\", y=\"no_commits\")\n",
    "fig.show()\n"
   ]
  },
  {
   "cell_type": "code",
   "execution_count": null,
   "id": "a52aa84e-b9c5-4649-826d-cab1f8961d6c",
   "metadata": {},
   "outputs": [],
   "source": [
    "fig = px.scatter(df_repoinfos, x=\"stargazers_count\", y=\"no_commits\")\n",
    "fig.show()"
   ]
  },
  {
   "cell_type": "code",
   "execution_count": null,
   "id": "4df24c80-d814-4dd9-b02a-68e7d0894a23",
   "metadata": {},
   "outputs": [],
   "source": [
    "fig = px.scatter(df_repoinfos, x=\"stargazers_count\", y=\"no_contributors\")\n",
    "fig.show()"
   ]
  },
  {
   "cell_type": "code",
   "execution_count": null,
   "id": "2c784c02-5c29-41aa-95be-f3e6be29a412",
   "metadata": {},
   "outputs": [],
   "source": [
    "# ddf_all_commits = ddf_all_commits.set_index(\"commit_id\")\n",
    "# df_repoinfos_first = ddf_repoinfos.merge(ddf_all_commits, left_on=\"first_commit\", right_index=True, how=\"left\")\n",
    "# df_repoinfos_last = ddf_repoinfos.merge(ddf_all_commits, left_on=\"last_commit\", right_index=True, how=\"left\")"
   ]
  },
  {
   "cell_type": "code",
   "execution_count": null,
   "id": "9b4d55be-9dbb-44ce-8751-02599e754122",
   "metadata": {},
   "outputs": [],
   "source": [
    "# df_repoinfos_first.compute()"
   ]
  },
  {
   "cell_type": "markdown",
   "id": "0cc0158a-23fc-44ee-93b0-ba126235be0d",
   "metadata": {},
   "source": [
    "# Differentiate by Programming Language"
   ]
  },
  {
   "cell_type": "code",
   "execution_count": null,
   "id": "dc6077bc-8f6f-4578-8577-2be18fc08642",
   "metadata": {},
   "outputs": [],
   "source": [
    "df_repoinfos.head()"
   ]
  },
  {
   "cell_type": "code",
   "execution_count": null,
   "id": "6803c575-6ed0-45a3-a7e7-5f03a730070b",
   "metadata": {},
   "outputs": [],
   "source": [
    "ddf_repoinfos[ddf_repoinfos[\"lang\"] == ''].compute()"
   ]
  },
  {
   "cell_type": "code",
   "execution_count": null,
   "id": "7082768d-3f1d-429e-963b-41ab9c33fc8b",
   "metadata": {},
   "outputs": [],
   "source": [
    "df_github.loc['duo001_evil.js']"
   ]
  },
  {
   "cell_type": "code",
   "execution_count": null,
   "id": "53c71f8d-e78b-43e7-a9b7-6639defaed13",
   "metadata": {},
   "outputs": [],
   "source": [
    "fig = px.box(df_repoinfos, x='lang', y='max_file_depth')\n",
    "fig.update_xaxes(categoryorder='category ascending')\n",
    "fig.show()"
   ]
  },
  {
   "cell_type": "code",
   "execution_count": null,
   "id": "9a5f508e-b030-49b9-9b85-2549a8918fa1",
   "metadata": {},
   "outputs": [],
   "source": [
    "# Filtered version for making the graph easier to read\n",
    "tmp_box_data = df_repoinfos\n",
    "thresh = 40\n",
    "\n",
    "box_data = tmp_box_data[tmp_box_data['max_file_depth'] <= thresh]\n",
    "outlier_data = tmp_box_data[tmp_box_data['max_file_depth'] > thresh]\n",
    "\n",
    "categories = box_data.sort_values(by='lang')['lang'].unique()\n",
    "count_per_lang = tmp_box_data.groupby('lang').count()['first_commit']\n",
    "xlabels = {name: f\"{name}<br>({count})\" for name, count in count_per_lang.items()}\n",
    "print (xlabels)\n",
    "\n",
    "# Create the figure\n",
    "fig = make_subplots(rows=2, cols=1, vertical_spacing = 0.02, row_heights=[0.25, 0.75])\n",
    "\n",
    "for lang in categories:\n",
    "    cat_data = box_data[box_data['lang'] == lang]\n",
    "    fig.add_trace(go.Box(\n",
    "        x=[xlabels[lang]] * cat_data.shape[0], \n",
    "        y=cat_data['max_file_depth']), \n",
    "                  row=2, \n",
    "                  col=1\n",
    "    )\n",
    "\n",
    "outlier_traces = []\n",
    "for lang in categories:\n",
    "    lang_outlier_data = outlier_data[outlier_data['lang'] == lang]\n",
    "    if not lang_outlier_data.empty:\n",
    "        trace = go.Scatter(\n",
    "            x=[lang] * len(lang_outlier_data),\n",
    "            y=lang_outlier_data['max_file_depth'],\n",
    "            mode='markers+text',\n",
    "            name=lang,\n",
    "            marker=dict(color='red', size=5),\n",
    "            text=lang_outlier_data['max_file_depth'],\n",
    "            textposition='middle right',\n",
    "        )\n",
    "        outlier_traces.append(trace)\n",
    "    else:\n",
    "        # Create an empty trace with category name\n",
    "        trace = go.Scatter(\n",
    "            x=[lang],\n",
    "            y=[None],  # Provide empty y-values\n",
    "            mode='markers',\n",
    "            name=lang,\n",
    "            marker=dict(color='red', size=0)  # Set size to 0 for invisible markers\n",
    "        )\n",
    "        outlier_traces.append(trace)\n",
    "\n",
    "fig.update_xaxes(categoryorder='category ascending', row=2, col=1)\n",
    "\n",
    "# fig.add_trace(outliers_trace, row=1, col=1)\n",
    "# Add outlier scatter traces to the figure\n",
    "for trace in outlier_traces:\n",
    "    fig.add_trace(trace, row=1, col=1)\n",
    "\n",
    "# Update layout for clarity (optional)\n",
    "# fig.update_layout(title='Maximum File Tree Depth per Programming Language', yaxis_title='Value')\n",
    "\n",
    "# Hide the legend\n",
    "fig.update_layout(showlegend=False, height=500, template=\"ggplot2\", width=1000)\n",
    "\n",
    "# Hide axis labels in the upper subplot\n",
    "fig.update_xaxes(showticklabels=False, showgrid=False, row=1, col=1)\n",
    "fig.update_yaxes(title_text='', row=1, col=1)\n",
    "fig.update_traces(marker_color=\"rgb(200,25,25)\")\n",
    "\n",
    "# Synchronize y-axis ranges between subplots\n",
    "# fig.update_yaxes(range=[35, outlier_data['max_file_depth'].max()+15], row=1, col=1)\n",
    "# fig.update_yaxes(range=[box_data['max_file_depth'].min()-5, 35], row=2, col=1)\n",
    "\n",
    "fig.update_layout(\n",
    "    margin=dict(l=20, r=20, t=20, b=20),\n",
    ")\n",
    "\n",
    "# Show the plot\n",
    "fig.show()\n",
    "fig.write_image('Figures/max_file_depth_per_lang.pdf')"
   ]
  },
  {
   "cell_type": "markdown",
   "id": "2c3c2111-424d-46ec-b1ba-9d3ee63687ba",
   "metadata": {},
   "source": [
    "## Analyse outliers per programming language"
   ]
  },
  {
   "cell_type": "code",
   "execution_count": null,
   "id": "198c34d4-9aca-41f5-94f2-bd6cf5fe40e0",
   "metadata": {},
   "outputs": [],
   "source": [
    "# TEST"
   ]
  },
  {
   "cell_type": "code",
   "execution_count": null,
   "id": "d347eaff-b0d3-4d05-9c8f-1d3f0da31e7a",
   "metadata": {},
   "outputs": [],
   "source": [
    "outlier_project_commits[outlier_project_commits['max_file_depth_diff'] > 0]['max_file_depth_diff'].describe(percentiles=[0.25, 0.75, 0.9, 0.99]).compute()"
   ]
  },
  {
   "cell_type": "code",
   "execution_count": null,
   "id": "cd2a313f-5613-417b-a3fd-5900378762e1",
   "metadata": {},
   "outputs": [],
   "source": [
    "outlier_project_commits[outlier_project_commits['max_file_depth_diff'] >= 10.3].compute()"
   ]
  },
  {
   "cell_type": "code",
   "execution_count": null,
   "id": "ca381738-8114-443c-9841-afd8d42dd563",
   "metadata": {},
   "outputs": [],
   "source": []
  },
  {
   "cell_type": "code",
   "execution_count": null,
   "id": "0ff37c92-7def-4a86-ab58-4b8881494912",
   "metadata": {},
   "outputs": [],
   "source": [
    "outlier_project_commits[outlier_project_commits['max_file_depth_diff'] < 0]['max_file_depth_diff'].describe(percentiles=[0.001, 0.01, 0.1, 0.25, 0.75]).compute()"
   ]
  },
  {
   "cell_type": "code",
   "execution_count": null,
   "id": "e98205bd-73c5-4d83-9a07-6c5579596a0b",
   "metadata": {},
   "outputs": [],
   "source": [
    "outlier_project_commits[outlier_project_commits['max_file_depth_diff'] <= -7].compute()"
   ]
  },
  {
   "cell_type": "markdown",
   "id": "92348f19",
   "metadata": {},
   "source": [
    "## Depth decrease classes"
   ]
  },
  {
   "cell_type": "code",
   "execution_count": null,
   "id": "3d078e2a-3beb-4f5c-84c7-b74e538c3051",
   "metadata": {},
   "outputs": [],
   "source": [
    "depth_dec_classes = pd.read_excel('depth_decrease_classified.xlsx')"
   ]
  },
  {
   "cell_type": "code",
   "execution_count": null,
   "id": "ac897d48-5e34-4bf9-9dbf-f842f0e2e241",
   "metadata": {},
   "outputs": [],
   "source": [
    "depth_dec_classes = depth_dec_classes[depth_dec_classes['max_file_depth_diff'] < 0]"
   ]
  },
  {
   "cell_type": "code",
   "execution_count": null,
   "id": "e9ac8340-88fd-4df6-8c18-6bcf2fb0d19b",
   "metadata": {},
   "outputs": [],
   "source": [
    "fig = px.scatter(depth_dec_classes, x='Reason 1', y='max_file_depth_diff')\n",
    "fig.show()"
   ]
  },
  {
   "cell_type": "code",
   "execution_count": null,
   "id": "d67e1985-9758-4813-8afc-4c9812d6b4b0",
   "metadata": {},
   "outputs": [],
   "source": [
    "depth_dec_classes['Reason 1'].value_counts()"
   ]
  },
  {
   "cell_type": "code",
   "execution_count": null,
   "id": "f508a22e-43a4-49b0-8c43-ecb6a5a31cc0",
   "metadata": {},
   "outputs": [],
   "source": [
    "print(depth_dec_classes['Reason 1'].value_counts().to_latex())"
   ]
  },
  {
   "cell_type": "code",
   "execution_count": null,
   "id": "04e8cf96-2203-4305-87fd-a99c5692c3a6",
   "metadata": {},
   "outputs": [],
   "source": [
    "depth_dec_classes.shape[0]"
   ]
  },
  {
   "cell_type": "code",
   "execution_count": null,
   "id": "f88b4015-20bb-430a-afe1-ced9a020ec5c",
   "metadata": {},
   "outputs": [],
   "source": [
    "depth_dec_classes[depth_dec_classes['Reason 1'] == \"Node Modules\"].groupby('lang').count()"
   ]
  },
  {
   "cell_type": "code",
   "execution_count": null,
   "id": "796bab82-f3cf-4dd4-a251-7a3af1f4f5e2",
   "metadata": {},
   "outputs": [],
   "source": [
    "\n",
    "depth_dec_classes['commit_time'] = pd.to_datetime(depth_dec_classes['commit_time'], unit=\"s\")"
   ]
  },
  {
   "cell_type": "code",
   "execution_count": null,
   "id": "ed197339-578f-4c4d-81f0-7916b705bfc9",
   "metadata": {},
   "outputs": [],
   "source": [
    "go_mod_times = depth_dec_classes[(depth_dec_classes['Reason 1'] == \"Go Modules\")]\n",
    "non_go_mod_times = depth_dec_classes[(depth_dec_classes['lang'] == \"Go\")]\n",
    "go_mod_plotly = go_mod_times.groupby([pd.Grouper(key='commit_time', freq='1m')]).count()\n",
    "go_non_mod_plotly = non_go_mod_times.groupby([pd.Grouper(key='commit_time', freq='1m')]).count()"
   ]
  },
  {
   "cell_type": "code",
   "execution_count": null,
   "id": "b00daaee-e1b5-45df-bd69-605a91bee209",
   "metadata": {},
   "outputs": [],
   "source": [
    "fig = go.Figure()\n",
    "# fig = px.scatter(go_mod_times, x='commit_time', y=[1]*len(go_mod_times))\n",
    "fig.add_vline(pd.to_datetime(1535112000, unit=\"s\"),label=dict(\n",
    "        text=\"Go Modules introduced\",\n",
    "        textposition=\"end\",\n",
    "        font=dict(size=10, color=\"black\"),\n",
    "        yanchor=\"bottom\",\n",
    "    ), opacity=1, line_width=2, line_color=\"black\", )\n",
    "fig.add_vline(pd.to_datetime(\"26-02-2019\", dayfirst=True),\n",
    "    label=dict(\n",
    "        text=\"Go Deps deprecated\",\n",
    "        textposition=\"end\",\n",
    "        font=dict(size=10, color=\"black\"),\n",
    "        yanchor=\"bottom\",\n",
    "    ), opacity=1, line_width=2, line_color=\"black\",  )\n",
    "# fig.update_traces(marker_color='rgb(200, 25, 25)')\n",
    "fig.add_trace(go.Scatter(x=go_mod_plotly.index, y=go_mod_plotly['Column2'], mode='lines', name='Go Modules', marker_color='rgb(200, 25, 25)'))\n",
    "fig.add_trace(go.Scatter(x=go_non_mod_plotly.index, y=go_non_mod_plotly['Column2'], mode='lines', name='Total Go related'))\n",
    "\n",
    "fig.update_layout(width=800, height=300, template='ggplot2')\n",
    "\n",
    "fig.update_layout(\n",
    "    margin=dict(l=20, r=20, t=80, b=20),\n",
    ")\n",
    "\n",
    "fig.show()\n",
    "fig.write_image('Figures/go_modules_intro.pdf')"
   ]
  },
  {
   "cell_type": "code",
   "execution_count": null,
   "id": "be1910c7-dc95-4738-b20e-00bfbdc10ed4",
   "metadata": {},
   "outputs": [],
   "source": []
  },
  {
   "cell_type": "code",
   "execution_count": null,
   "id": "ce78c50f-0f56-4c18-9290-fb23bb0e07fe",
   "metadata": {},
   "outputs": [],
   "source": [
    "intro_correction_data"
   ]
  },
  {
   "cell_type": "code",
   "execution_count": null,
   "id": "98625e6b-2fe2-4f53-a780-a51ad4d13265",
   "metadata": {},
   "outputs": [],
   "source": []
  },
  {
   "cell_type": "code",
   "execution_count": null,
   "id": "969f8862-909b-428f-9d41-77555a4dea11",
   "metadata": {},
   "outputs": [],
   "source": []
  },
  {
   "cell_type": "code",
   "execution_count": null,
   "id": "b1779c00-e339-419d-88ea-31cbaeeabe07",
   "metadata": {},
   "outputs": [],
   "source": [
    "ddf_commits[ddf_commits['parents'] == 'efd78a552b9bdc3147d6ac23270a8fa61dbc9844'].compute()"
   ]
  },
  {
   "cell_type": "code",
   "execution_count": null,
   "id": "78037d4d-4c24-423e-a765-d1dc8ed8b2d3",
   "metadata": {},
   "outputs": [],
   "source": [
    "ddf[ddf['commit_id'] == '3f5a3af4ff73c3dd3b56e1b1f008bd5562b41bcd'].compute()"
   ]
  },
  {
   "cell_type": "code",
   "execution_count": null,
   "id": "dcdee368-16c6-4381-8828-1bbd81401d12",
   "metadata": {},
   "outputs": [],
   "source": [
    "df_intro_commits[df_intro_commits[\"long_path\"].isna()]['repo_id'].value_counts()"
   ]
  },
  {
   "cell_type": "code",
   "execution_count": null,
   "id": "681c40ee-9d11-4b8f-bf5f-242b6355bdf2",
   "metadata": {},
   "outputs": [],
   "source": [
    "ddf_commits.head()"
   ]
  },
  {
   "cell_type": "code",
   "execution_count": null,
   "id": "f6d629ee-bf1d-442b-81b9-b27a44298510",
   "metadata": {},
   "outputs": [],
   "source": [
    "ddf_tmp = ddf_commits[ddf_commits['repo_id'].isin(outlier_projects)]"
   ]
  },
  {
   "cell_type": "code",
   "execution_count": null,
   "id": "55a29337-5309-43c0-a85a-1402e8dcbe28",
   "metadata": {},
   "outputs": [],
   "source": [
    "ddf_tmp.head()"
   ]
  },
  {
   "cell_type": "code",
   "execution_count": null,
   "id": "a61aec25-e4fb-4258-b55a-76e7e3dab228",
   "metadata": {},
   "outputs": [],
   "source": [
    "ddf_tmp['max_file_depth_diff'].abs().describe().compute()"
   ]
  },
  {
   "cell_type": "code",
   "execution_count": null,
   "id": "bd259d1b-67fb-40c6-8e0b-796ce98140e6",
   "metadata": {},
   "outputs": [],
   "source": [
    "ddf_tmp.dtypes"
   ]
  },
  {
   "cell_type": "code",
   "execution_count": null,
   "id": "4b67ea6e-b21c-4268-9967-4c436bdc078c",
   "metadata": {},
   "outputs": [],
   "source": [
    "ddf_tmp[ddf_tmp['max_file_depth_diff'].abs() > 0.0]['max_file_depth_diff'].abs().describe(percentiles=[.25, .5, .75, 0.90, 0.95, .99, .999]).compute()"
   ]
  },
  {
   "cell_type": "code",
   "execution_count": null,
   "id": "ed6c9905-b757-4720-87a3-b49ea68ed267",
   "metadata": {},
   "outputs": [],
   "source": [
    "ddf_commits[ddf_commits['max_file_depth_diff'].abs() > 0.0]['max_file_depth_diff'].abs().describe(percentiles=[.25, .5, .75, 0.90, 0.95, .99, .999]).compute()"
   ]
  },
  {
   "cell_type": "code",
   "execution_count": null,
   "id": "63626c90-b2c8-4c4c-8ed4-b3c92b0962dc",
   "metadata": {},
   "outputs": [],
   "source": [
    "exp_tmp_data = ddf_tmp[(ddf_tmp['max_file_depth_diff'].abs() >= 9) & (ddf_tmp['parents'].str.len() > 0)]\n",
    "exp_tmp_data.compute().to_csv('exp_tmp_data_3.csv')\n",
    "exp_tmp_data"
   ]
  },
  {
   "cell_type": "code",
   "execution_count": null,
   "id": "7dbf34bd-0ee7-470d-a248-714def29787e",
   "metadata": {},
   "outputs": [],
   "source": [
    "exp_tmp_data = ddf_commits[(ddf_commits['max_file_depth_diff'].abs() >= 11) & (ddf_tmp['parents'].str.len() > 0)]\n",
    "exp_tmp_data.compute().to_csv('exp_tmp_data_4.csv')\n",
    "exp_tmp_data"
   ]
  },
  {
   "cell_type": "code",
   "execution_count": null,
   "id": "102912cc-ed79-4940-9ae7-d81f53dd5dbd",
   "metadata": {},
   "outputs": [],
   "source": [
    "exp_tmp_data = ddf_tmp[(ddf_tmp['max_file_depth_diff'].abs() >= 9)]\n",
    "exp_tmp_data.compute().to_csv('exp_tmp_data_5.csv')\n",
    "exp_tmp_data"
   ]
  },
  {
   "cell_type": "code",
   "execution_count": null,
   "id": "dc868978-c322-47ec-8e0e-31ba8dd6554f",
   "metadata": {},
   "outputs": [],
   "source": [
    "ddf_commits_with_lang = ddf_commits.merge(ddf_repoinfos[['lang']], on='repo_id')"
   ]
  },
  {
   "cell_type": "code",
   "execution_count": null,
   "id": "db95ece6-fe13-4cc9-9254-18da4fe9a584",
   "metadata": {},
   "outputs": [],
   "source": [
    "temp_data = ddf_commits_with_lang[ddf_commits_with_lang[\"max_file_depth_diff\"].abs() > 0].compute()\n",
    "temp_data[\"abs_diff\"] = temp_data[\"max_file_depth_diff\"].abs()\n",
    "p95s_diff = temp_data.groupby('lang')[\"abs_diff\"].describe(percentiles=[0.25,0.5,0.75,0.9,0.95,0.99,0.999])"
   ]
  },
  {
   "cell_type": "code",
   "execution_count": null,
   "id": "e94bd2d5-7c0c-4bca-b6e4-7c700fe7066c",
   "metadata": {},
   "outputs": [],
   "source": [
    "p95s_diff"
   ]
  },
  {
   "cell_type": "code",
   "execution_count": null,
   "id": "f2bd0efe-5df6-43af-a941-36772d28f13a",
   "metadata": {},
   "outputs": [],
   "source": [
    "ddf_commits_with_lang = ddf_commits_with_lang.merge(p95s_diff[[\"95%\",\"99%\"]], on=\"lang\")"
   ]
  },
  {
   "cell_type": "code",
   "execution_count": null,
   "id": "295e549b-6ee4-4e43-a9ec-ef41053c0b9c",
   "metadata": {},
   "outputs": [],
   "source": [
    "data = ddf_commits_with_lang[ddf_commits_with_lang['max_file_depth_diff'].abs() >= ddf_commits_with_lang['99%']].compute()\n",
    "data.to_csv('max_depth_diff_99_pc.csv')"
   ]
  },
  {
   "cell_type": "code",
   "execution_count": null,
   "id": "e804262b-0bcd-4415-86e6-b36514e8d6fb",
   "metadata": {},
   "outputs": [],
   "source": [
    "data_2 = data.copy()   # where the number of partitions is the number of cores you want to use"
   ]
  },
  {
   "cell_type": "code",
   "execution_count": null,
   "id": "a7525e40-7d43-4523-82ab-7aa6a5755644",
   "metadata": {},
   "outputs": [],
   "source": [
    "# Define function to check reason\n",
    "def check_reason_func(drow, mutations):\n",
    "    msg = drow['message'].lower()\n",
    "    if \"node_modules\" in msg:\n",
    "        return \"node_modules\"\n",
    "    if \"vendor\" in msg:\n",
    "        return \"vendor\"\n",
    "    if \"init\" in msg or \"first\" in msg:\n",
    "        return \"initial\"\n",
    "\n",
    "    commit_filter = (mutations['commit_id'] == drow[\"commit_id\"]) & (mutations['repo_id'] == drow['repo_id'])\n",
    "    if mutations[commit_filter]['new_path'].str.contains('node_modules/', na=False, regex=True).any() or \\\n",
    "            mutations[commit_filter]['old_path'].str.contains('node_modules/', na=False, regex=True).any():\n",
    "        return \"node_modules\"\n",
    "    \n",
    "    if mutations[commit_filter]['new_path'].str.contains('vendor/', na=False, regex=True).any() or \\\n",
    "            mutations[commit_filter]['old_path'].str.contains('vendor/', na=False, regex=True).any():\n",
    "        return \"vendor\"\n",
    "\n",
    "    return \"unknown\""
   ]
  },
  {
   "cell_type": "code",
   "execution_count": null,
   "id": "f7a39af8-b3e2-47cf-af8d-6bdbfca6af08",
   "metadata": {},
   "outputs": [],
   "source": [
    "# Compute mutations DataFrame once\n",
    "mutations = ddf[(ddf['new_path'].str.contains('node_modules/|vendor/', na=False, regex=True)) |\n",
    "                (ddf['old_path'].str.contains('node_modules/|vendor/', na=False, regex=True))].compute()"
   ]
  },
  {
   "cell_type": "code",
   "execution_count": null,
   "id": "99a43fdc-0c75-456e-ad7b-dfd6c6c89783",
   "metadata": {},
   "outputs": [],
   "source": [
    "# Create a Dask DataFrame\n",
    "ddf_data_dask = dd.from_pandas(data_2)  # Adjust the number of partitions as needed"
   ]
  },
  {
   "cell_type": "code",
   "execution_count": null,
   "id": "3b6b2e10-85e0-466b-a21d-3108d0f696a2",
   "metadata": {},
   "outputs": [],
   "source": [
    "# # Define function to apply check_reason_func to each partition\n",
    "# def apply_check_reason_func(partition):\n",
    "#     return partition.apply(lambda row: check_reason_func(row, mutations), axis=1)\n",
    "\n",
    "# Specify metadata for the output\n",
    "meta = ('str')\n",
    "\n",
    "# Apply function to each partition\n",
    "data_3 = data_2.apply(lambda row: check_reason_func(row, mutations), axis=1, meta=meta)"
   ]
  },
  {
   "cell_type": "code",
   "execution_count": null,
   "id": "29af0a13-6edf-4faa-89bf-c02b95c91bae",
   "metadata": {},
   "outputs": [],
   "source": [
    "ddf_data_dask['output'] = result"
   ]
  },
  {
   "cell_type": "code",
   "execution_count": null,
   "id": "3898085f-5f42-4a4b-bbe9-cdf5b70cbc06",
   "metadata": {},
   "outputs": [],
   "source": [
    "ddf_data_dask.compute().to_csv('thing_with_reason.csv')"
   ]
  },
  {
   "cell_type": "code",
   "execution_count": null,
   "id": "6f48a66f-9368-499e-bdf7-8f0a94ffe869",
   "metadata": {},
   "outputs": [],
   "source": [
    "# Filtered version\n",
    "thresh = 20\n",
    "\n",
    "box_data = ddf_commits_with_lang[ddf_commits_with_lang['max_file_depth_diff'].abs() <= thresh]\n",
    "box_data = box_data[box_data['max_file_depth_diff'].abs() > 0]\n",
    "\n",
    "# outlier_data = ddf_commits_with_lang[ddf_commits_with_lang['max_file_depth_diff'] > thresh].compute()\n",
    "\n",
    "# categories = box_data['lang'].unique()\n",
    "# print (categories)\n",
    "\n",
    "boxplot_trace = go.Box(x=box_data['lang'], y=box_data['max_file_depth_diff'].abs().compute(), name='Data')\n",
    "\n",
    "# outlier_traces = []\n",
    "# for lang in categories:\n",
    "#     lang_outlier_data = outlier_data[outlier_data['lang'] == lang]\n",
    "#     if not lang_outlier_data.empty:\n",
    "#         trace = go.Scatter(\n",
    "#             x=[lang] * len(lang_outlier_data),\n",
    "#             y=lang_outlier_data['max_file_depth_diff'],\n",
    "#             mode='markers+text',\n",
    "#             name=lang,\n",
    "#             marker=dict(color='red', size=5),\n",
    "#             text=lang_outlier_data['max_file_depth_diff'],\n",
    "#             textposition='middle right',\n",
    "#         )\n",
    "#         outlier_traces.append(trace)\n",
    "#     else:\n",
    "#         # Create an empty trace with category name\n",
    "#         trace = go.Scatter(\n",
    "#             x=[lang],\n",
    "#             y=[None],  # Provide empty y-values\n",
    "#             mode='markers',\n",
    "#             name=lang,\n",
    "#             marker=dict(color='red', size=0)  # Set size to 0 for invisible markers\n",
    "#         )\n",
    "#         outlier_traces.append(trace)\n",
    "    \n",
    "# Create the figure\n",
    "fig = make_subplots(rows=2, cols=1, vertical_spacing = 0.02, row_heights=[0.25, 0.75])\n",
    "fig.add_trace(boxplot_trace, row=2, col=1)\n",
    "\n",
    "# fig.add_trace(outliers_trace, row=1, col=1)\n",
    "# Add outlier scatter traces to the figure\n",
    "# for trace in outlier_traces:\n",
    "#     fig.add_trace(trace, row=1, col=1)\n",
    "\n",
    "# Update layout for clarity (optional)\n",
    "fig.update_layout(title='Maximum File Tree Depth Diff per Programming Language', yaxis_title='Value')\n",
    "\n",
    "# Hide the legend\n",
    "fig.update_layout(showlegend=False, height=500)\n",
    "\n",
    "# Hide axis labels in the upper subplot\n",
    "fig.update_xaxes(showticklabels=False, showgrid=False, row=1, col=1)\n",
    "fig.update_yaxes(title_text='', row=1, col=1)\n",
    "\n",
    "# Synchronize y-axis ranges between subplots\n",
    "# fig.update_yaxes(range=[35, outlier_data['max_file_depth'].max()+15], row=1, col=1)\n",
    "# fig.update_yaxes(range=[box_data['max_file_depth'].min()-5, 35], row=2, col=1)\n",
    "\n",
    "# Show the plot\n",
    "# fig.show()\n",
    "\n",
    "fig.write_image('Figures/max_file_depth_diff_per_lang.pdf')"
   ]
  },
  {
   "cell_type": "markdown",
   "id": "7f07ff78-4dfb-47a6-b837-30f29336ff27",
   "metadata": {},
   "source": [
    "# Which levels are impaced in each commit"
   ]
  },
  {
   "cell_type": "code",
   "execution_count": null,
   "id": "9e122414-cf43-438a-a116-cca6380f5896",
   "metadata": {},
   "outputs": [],
   "source": [
    "max_depth_99_9pct = int(df_repoinfos[\"max_file_depth\"].quantile(0.999))\n",
    "max_depth_99_9pct"
   ]
  },
  {
   "cell_type": "markdown",
   "id": "fa289cbd-4937-4b5b-a18e-c174dc3e042a",
   "metadata": {},
   "source": [
    "What is to be done:\n",
    "\n",
    "First remove outliers.\n",
    "\n",
    "For each commit, check which depths are affected:\n",
    "- Group by commit_id\n",
    "- File add -> only new file depth\n",
    "- File move: old and new file depth\n",
    "- File delete: old file depth"
   ]
  },
  {
   "cell_type": "code",
   "execution_count": null,
   "id": "79315bc7-d584-4934-9fa3-cec53805fe33",
   "metadata": {},
   "outputs": [],
   "source": [
    "ddf.columns"
   ]
  },
  {
   "cell_type": "code",
   "execution_count": null,
   "id": "7488802b-f97d-4a41-9677-0103b93cf899",
   "metadata": {},
   "outputs": [],
   "source": [
    "ddf[(ddf['old_file_depth'] >= 30)].compute()"
   ]
  },
  {
   "cell_type": "code",
   "execution_count": null,
   "id": "b928bb49-eb22-4d09-a240-37dec192bca3",
   "metadata": {},
   "outputs": [],
   "source": [
    "commit_exclude = ['aa5154002620e307d6463eab490c66e00eee99c7', # KGN\n",
    "                  '0b05c2a079225c618f3b2f3a29c1e2d5e481289a', # NAPALM\n",
    "                  '63a4008a7c896d28a2277cc04c195aec746f2a2a', # packtpublishing_swift-3-functional-programming\n",
    "                  # Corrections\n",
    "                  '8afe8378a69a39616daba30b4eafa4b2602e17b2', # NAPALM FIX\n",
    "                  '1eea640b1c86cf572e57bd83a86443c1b97a7e07' # KGN FIX\n",
    "                 ]\n",
    "\n",
    "# ddf_tmp = ddf\n",
    "ddf_tmp = ddf[~ddf['commit_id'].isin(commit_exclude)]\n",
    "\n",
    "affected_layers_per_add = ddf_tmp[(ddf_tmp['action'] == 'add')].groupby('new_file_depth').commit_id.nunique()\n",
    "# affected_layers_per_move = (\n",
    "#     ddf_tmp[ddf_tmp['action'] == 'move'].groupby('new_file_depth').commit_id.nunique() + \n",
    "#     ddf_tmp[ddf_tmp['action'] == 'move'].groupby('old_file_depth').commit_id.nunique() \n",
    "# )\n",
    "affected_layers_per_del = ddf_tmp[(ddf_tmp['action'] == 'delete')].groupby('old_file_depth').commit_id.nunique()\n",
    "affected_layers_per_ren = ddf_tmp[(ddf_tmp['action'] == 'rename')].groupby('new_file_depth').commit_id.nunique()\n",
    "add_commits_per_lay, del_commits_per_lay, ren_commits_per_lay = dask.compute(affected_layers_per_add, affected_layers_per_del, affected_layers_per_ren)\n",
    "\n",
    "# Count unique commits per 'new_file_depth' and 'old_file_depth' for 'move' actions, ensuring moves within the same depth are not double-counted\n",
    "affected_layers_per_move_new = ddf_tmp[ddf_tmp['action'] == 'move'].groupby('new_file_depth').commit_id.nunique().compute()\n",
    "affected_layers_per_move_old = ddf_tmp[ddf_tmp['action'] == 'move'].groupby('old_file_depth').commit_id.nunique().compute()\n",
    "\n",
    "# Count moves within the same depth only once\n",
    "moves_same_depth = ddf_tmp[(ddf_tmp['action'] == 'move') & (ddf_tmp['new_file_depth'] == ddf_tmp['old_file_depth'])].groupby('new_file_depth').commit_id.nunique().compute()\n",
    "\n",
    "# Sum up the counts while adjusting for moves within the same depth\n",
    "mov_commits_per_lay = affected_layers_per_move_new.add(affected_layers_per_move_old, fill_value=0).subtract(moves_same_depth, fill_value=0)\n"
   ]
  },
  {
   "cell_type": "code",
   "execution_count": null,
   "id": "59a4c5d4-ecc9-4602-ad35-3901d6809073",
   "metadata": {},
   "outputs": [],
   "source": [
    "add_commits_per_lay.sort_index()"
   ]
  },
  {
   "cell_type": "code",
   "execution_count": null,
   "id": "ff617e5e-fb98-44b6-9f75-4d7afd848585",
   "metadata": {},
   "outputs": [],
   "source": [
    "mov_commits_per_lay = affected_layers_per_move"
   ]
  },
  {
   "cell_type": "code",
   "execution_count": null,
   "id": "014461de-6ad1-471a-9267-ad14f0e7289b",
   "metadata": {},
   "outputs": [],
   "source": [
    "mov_commits_per_lay.sort_index()"
   ]
  },
  {
   "cell_type": "code",
   "execution_count": null,
   "id": "b1530fa9-c799-40ee-88ad-78f3ee062faf",
   "metadata": {},
   "outputs": [],
   "source": [
    "del_commits_per_lay.sort_index()"
   ]
  },
  {
   "cell_type": "code",
   "execution_count": null,
   "id": "0a06a385",
   "metadata": {},
   "outputs": [],
   "source": [
    "combined_change_df = pd.concat([add_commits_per_lay, mov_commits_per_lay, del_commits_per_lay, ren_commits_per_lay], axis=1, keys=['Additions', 'Movements', 'Deletions', 'Renames']).fillna(0)"
   ]
  },
  {
   "cell_type": "code",
   "execution_count": null,
   "id": "61e4cbc6-de50-4f9e-86bf-aadbc3b221f4",
   "metadata": {},
   "outputs": [],
   "source": [
    "# combined_change_df = combined_change_df.drop(122, axis=0)\n",
    "combined_change_df = combined_change_df.sort_index()\n",
    "combined_change_df.index = combined_change_df.index+1"
   ]
  },
  {
   "cell_type": "code",
   "execution_count": null,
   "id": "60c38caa-5c50-4901-97dc-621586e44575",
   "metadata": {},
   "outputs": [],
   "source": [
    "combined_change_df"
   ]
  },
  {
   "cell_type": "code",
   "execution_count": null,
   "id": "fb809d77-3327-4867-9b4a-1d854b401c08",
   "metadata": {},
   "outputs": [],
   "source": [
    "# Create the stacked bar chart figure\n",
    "fig = make_subplots(cols=1,rows=4)\n",
    "\n",
    "colors_map = {\n",
    "    'Additions': px.colors.qualitative.Plotly[0], \n",
    "    'Movements': px.colors.qualitative.Plotly[2],\n",
    "    'Deletions': px.colors.qualitative.Plotly[1], #'rgb(200, 25, 25)', \n",
    "    'Renames': px.colors.qualitative.Plotly[3],\n",
    "}\n",
    "\n",
    "# width = 0.85\n",
    "\n",
    "# Add each category as a trace\n",
    "for i, category in enumerate(['Additions', 'Deletions', 'Movements', 'Renames']):\n",
    "    fig.add_trace(go.Bar(\n",
    "        x=combined_change_df.index+1,\n",
    "        y=combined_change_df[category],\n",
    "        name=category,\n",
    "        marker_color=colors_map[category],\n",
    "        # width=width\n",
    "    ), \n",
    "        row=i+1,\n",
    "        col=1)\n",
    "\n",
    "    if i == 0:\n",
    "        fig.add_trace(go.Scatter(x=[58.5], y=[1], mode='markers', marker=dict(color=colors_map[category], size=10), showlegend=False), row=1,col=1)\n",
    "        fig.add_annotation(x=59.5, y=0, text=\"1 addition<br>at level 123\", showarrow=False, xshift=32.5, align='left', row=1,col=1)\n",
    "    elif i == 1:\n",
    "        fig.add_trace(go.Scatter(x=[58.5], y=[1], mode='markers', marker=dict(color=colors_map[category], size=10), showlegend=False), row=2,col=1)\n",
    "        fig.add_annotation(x=59.5, y=0, text=\"1 deletion<br>at level 123\", showarrow=False, xshift=32.5, align='left', row=2,col=1)\n",
    "    fig.update_xaxes(title='Layer', row=i+1, col=1)\n",
    "    fig.update_yaxes(title='Number of Commits (log)', row=i+1, col=1)\n",
    "\n",
    "\n",
    "# Set the barmode to 'stack'\n",
    "fig.update_layout(\n",
    "    height=1000,\n",
    "    width=1000,\n",
    "    margin=dict(t=20,r=20,b=20,l=20),\n",
    "    template='ggplot2',\n",
    "    xaxis = dict(\n",
    "        tickmode = 'linear',\n",
    "        tick0 = 0,\n",
    "        dtick = 5\n",
    "    )\n",
    ")\n",
    "\n",
    "fig.update_xaxes(range=[0.5,59.5])\n",
    "fig.update_yaxes(type=\"log\")\n",
    "\n",
    "# Show the plot\n",
    "fig.show()\n",
    "fig.write_image(f\"Figures/bar_all_file_stuc_per_lay.pdf\")\n"
   ]
  },
  {
   "cell_type": "code",
   "execution_count": null,
   "id": "1165041f-b3ed-49b0-b9b8-fcf0efb01d6b",
   "metadata": {},
   "outputs": [],
   "source": []
  },
  {
   "cell_type": "code",
   "execution_count": null,
   "id": "08beb807-ec01-4e6e-b05b-0e40c190a350",
   "metadata": {},
   "outputs": [],
   "source": [
    "# Create the stacked bar chart figure\n",
    "fig = go.Figure()\n",
    "\n",
    "colors_map = {\n",
    "    'Additions': px.colors.qualitative.Plotly[0], \n",
    "    'Movements': px.colors.qualitative.Plotly[2],\n",
    "    'Deletions': px.colors.qualitative.Plotly[1], #'rgb(200, 25, 25)', \n",
    "    'Renames': px.colors.qualitative.Plotly[3],\n",
    "}\n",
    "\n",
    "# width = 0.85\n",
    "\n",
    "# Add each category as a trace\n",
    "for i, category in enumerate(['Additions', 'Deletions', 'Movements', 'Renames']):\n",
    "    fig.add_trace(go.Bar(\n",
    "        x=combined_change_df.index,\n",
    "        y=combined_change_df[category],\n",
    "        name=category,\n",
    "        marker_color=colors_map[category],\n",
    "        # width=width\n",
    "    ))\n",
    "    \n",
    "fig.update_xaxes(title='Layer')\n",
    "fig.update_yaxes(title='Number of Commits (log)')\n",
    "\n",
    "\n",
    "# Set the barmode to 'stack'\n",
    "fig.update_layout(\n",
    "    barmode='group',\n",
    "    height=400,\n",
    "    width=1000,\n",
    "    margin=dict(t=20,r=20,b=20,l=20),\n",
    "    template='ggplot2',\n",
    "    xaxis = dict(\n",
    "        tickmode = 'linear',\n",
    "        tick0 = 0,\n",
    "        dtick = 5\n",
    "    )\n",
    ")\n",
    "\n",
    "fig.update_xaxes(range=[0.5,33.5])\n",
    "fig.update_yaxes(type=\"log\")\n",
    "\n",
    "# Show the plot\n",
    "fig.show()\n",
    "fig.write_image(\"Figures/bar_all_file_stuc_per_lay.pdf\")\n"
   ]
  },
  {
   "cell_type": "code",
   "execution_count": null,
   "id": "a69bb841-cf07-45e4-8650-d89805309931",
   "metadata": {},
   "outputs": [],
   "source": [
    "ddf[(ddf['action'] == 'add') & (ddf['new_file_depth'] > 33)].compute()"
   ]
  },
  {
   "cell_type": "code",
   "execution_count": null,
   "id": "2fa523bf-4670-47cb-abc0-34a3e1ffcbcb",
   "metadata": {},
   "outputs": [],
   "source": [
    "# combined_change_df.index.to_list().describe()"
   ]
  },
  {
   "cell_type": "code",
   "execution_count": null,
   "id": "3919f551-03d2-427a-b268-fe086b4bf986",
   "metadata": {},
   "outputs": [],
   "source": [
    "aaffected_layers_per_add = ddf[(ddf['action'] == 'add')]['new_file_depth']\n",
    "aaffected_layers_per_move = ddf[ddf['action'] == 'move']['new_file_depth'] + ddf[ddf['action'] == 'move']['old_file_depth']\n",
    "aaffected_layers_per_del = ddf[(ddf['action'] == 'delete')]['old_file_depth']"
   ]
  },
  {
   "cell_type": "code",
   "execution_count": null,
   "id": "01a98044-562f-4a62-820e-b035a47ea2e0",
   "metadata": {},
   "outputs": [],
   "source": [
    "# fig = px.box(aaffected_layers_per_add)"
   ]
  },
  {
   "cell_type": "code",
   "execution_count": null,
   "id": "45c2968f-d9e5-4f82-bc39-d6c80647d304",
   "metadata": {},
   "outputs": [],
   "source": [
    "# fig.show()"
   ]
  },
  {
   "cell_type": "code",
   "execution_count": null,
   "id": "8464ea2d-3765-421d-ad29-37d3a785aa99",
   "metadata": {},
   "outputs": [],
   "source": [
    "aaffected_layers_per_add.describe().compute()"
   ]
  },
  {
   "cell_type": "code",
   "execution_count": null,
   "id": "8fd90de8-73d0-4d27-bd8d-a2e48c8e1a6f",
   "metadata": {},
   "outputs": [],
   "source": [
    "# ddf[(ddf['action'] == 'delete') & (ddf[\"old_file_depth\"] >= 25)].compute()"
   ]
  },
  {
   "cell_type": "code",
   "execution_count": null,
   "id": "b1985499-5f8a-451e-9a2a-505c69cdeaba",
   "metadata": {},
   "outputs": [],
   "source": [
    "# Plot additions\n",
    "fig = go.Figure(data=[go.Bar(x=combined_change_df.index, y=combined_change_df['Additions'])])\n",
    "fig.update_layout(title='Additions by Layer', xaxis_title='Layers', yaxis_title='Number of Commits')\n",
    "fig.show()\n",
    "\n",
    "# Plot movements\n",
    "fig = go.Figure(data=[go.Bar(x=combined_change_df.index, y=combined_change_df['Movements'])])\n",
    "fig.update_layout(title='Movements by Layer', xaxis_title='Layers', yaxis_title='Number of Commits')\n",
    "fig.show()\n",
    "\n",
    "# Plot deletions\n",
    "fig = go.Figure(data=[go.Bar(x=combined_change_df.index, y=combined_change_df['Deletions'])])\n",
    "fig.update_layout(title='Deletions by Layer', xaxis_title='Layers', yaxis_title='Number of Commits')\n",
    "fig.show()\n"
   ]
  },
  {
   "cell_type": "code",
   "execution_count": null,
   "id": "8c000d2c-7053-4809-bbf0-5ec3a59d9a6e",
   "metadata": {},
   "outputs": [],
   "source": [
    "affected_layers_per_move = ddf[ddf['action'] == 'move'][['old_file_depth', 'new_file_depth']]\n",
    "affected_layer_combinations = affected_layers_per_move.groupby(['old_file_depth', 'new_file_depth']).size().compute().reset_index(name='counts')"
   ]
  },
  {
   "cell_type": "code",
   "execution_count": null,
   "id": "dd1fa4c4-8820-425d-a433-9ad98e3d23ef",
   "metadata": {},
   "outputs": [],
   "source": [
    "affected_layer_combinations"
   ]
  },
  {
   "cell_type": "code",
   "execution_count": null,
   "id": "547fe8e3",
   "metadata": {},
   "outputs": [],
   "source": [
    "\n",
    "\n",
    "# Create the heatmap figure\n",
    "fig = go.Figure(data=go.Heatmap(\n",
    "    z=affected_layer_combinations['counts'],\n",
    "    x=affected_layer_combinations['old_file_depth'],\n",
    "    y=affected_layer_combinations['new_file_depth'],\n",
    "    colorscale='sunsetdark',\n",
    "    reversescale=True,\n",
    "    hoverongaps=False))\n",
    "\n",
    "# Set the axis labels\n",
    "fig.update_layout(\n",
    "    title=\"File Depth Correlation for Moved Files\",\n",
    "    xaxis_title='Old File Depth',\n",
    "    yaxis_title='New File Depth')\n",
    "\n",
    "# Make the figure a bit higher\n",
    "fig.update_layout(\n",
    "    height=800\n",
    ")\n",
    "\n",
    "# Show the heatmap\n",
    "fig.show()\n",
    "fig.write_image('Figures/move_file_depth_correlation.pdf')\n"
   ]
  },
  {
   "cell_type": "code",
   "execution_count": null,
   "id": "4ad5fbfd",
   "metadata": {},
   "outputs": [],
   "source": [
    "# Create the heatmap figure\n",
    "fig = go.Figure(data=go.Heatmap(\n",
    "    z=np.log10(affected_layer_combinations['counts']),\n",
    "    x=affected_layer_combinations['old_file_depth'],\n",
    "    y=affected_layer_combinations['new_file_depth'],\n",
    "    colorscale='sunsetdark',\n",
    "    reversescale=True,\n",
    "    hoverongaps=False))\n",
    "\n",
    "# Set the axis labels\n",
    "fig.update_layout(\n",
    "    xaxis_title='Old File Depth',\n",
    "    yaxis_title='New File Depth')\n",
    "\n",
    "# Make the figure a bit higher\n",
    "fig.update_layout(\n",
    "    height=800\n",
    ")\n",
    "\n",
    "# Show the heatmap\n",
    "fig.show()\n"
   ]
  },
  {
   "cell_type": "code",
   "execution_count": null,
   "id": "4ac51d16-1c56-4525-b38e-b49214b4f188",
   "metadata": {},
   "outputs": [],
   "source": [
    "affected_layer_combinations['file_depth_diff'] = (affected_layer_combinations['new_file_depth']-affected_layer_combinations['old_file_depth']).abs()"
   ]
  },
  {
   "cell_type": "code",
   "execution_count": null,
   "id": "8bbfcacf-621c-42aa-9dd9-114e02e8ddb6",
   "metadata": {},
   "outputs": [],
   "source": [
    "affected_layer_combinations.sort_values('file_depth_diff', ascending=False)"
   ]
  },
  {
   "cell_type": "code",
   "execution_count": null,
   "id": "c1a46033-1f31-457c-a60a-7295a0d9d25c",
   "metadata": {},
   "outputs": [],
   "source": [
    "count_diff = affected_layer_combinations.groupby('file_depth_diff')['counts'].count()"
   ]
  },
  {
   "cell_type": "code",
   "execution_count": null,
   "id": "530a9e12-dc28-4ddb-a034-3e41e6d6889a",
   "metadata": {},
   "outputs": [],
   "source": [
    "fig = px.bar(count_diff)\n",
    "fig.show()"
   ]
  },
  {
   "cell_type": "code",
   "execution_count": null,
   "id": "0e35bd08-d640-494b-a2c7-9c665c9a57dc",
   "metadata": {},
   "outputs": [],
   "source": [
    "outlier_layers = affected_layer_combinations[affected_layer_combinations['file_depth_diff'] >= 15]\n",
    "outlier_layers"
   ]
  },
  {
   "cell_type": "code",
   "execution_count": null,
   "id": "939c95dd-ef6a-48f9-8505-0fc6e2765c32",
   "metadata": {},
   "outputs": [],
   "source": [
    "indexes = list(zip(outlier_layers.old_file_depth, outlier_layers.new_file_depth))\n",
    "indexes"
   ]
  },
  {
   "cell_type": "code",
   "execution_count": null,
   "id": "b1e1b91d-3099-4368-881e-bda2ba29fc46",
   "metadata": {},
   "outputs": [],
   "source": [
    "ddf['file_depth_diff'] = (ddf['new_file_depth']-ddf['old_file_depth']).abs()"
   ]
  },
  {
   "cell_type": "code",
   "execution_count": null,
   "id": "93d4a68d-474f-4834-8d21-f31af1af64ff",
   "metadata": {},
   "outputs": [],
   "source": [
    "ddf[(ddf['file_depth_diff'] >= 13) & (ddf['action'] == 'move')].compute()"
   ]
  },
  {
   "cell_type": "code",
   "execution_count": null,
   "id": "9e326931-f4b0-4f31-8a27-75b809f47ace",
   "metadata": {},
   "outputs": [],
   "source": [
    "file_depth_diff_occurences = ddf[ddf['action'] == 'move'].groupby('file_depth_diff').count()['commit_id'].compute().sort_index()"
   ]
  },
  {
   "cell_type": "code",
   "execution_count": null,
   "id": "a2e022d9-5070-44bd-9ab5-3f7e9b1ef666",
   "metadata": {},
   "outputs": [],
   "source": [
    "file_depth_diff_occurences"
   ]
  },
  {
   "cell_type": "code",
   "execution_count": null,
   "id": "81573098-3a78-4d56-b56f-46090006b29c",
   "metadata": {},
   "outputs": [],
   "source": [
    "file_depth_diff_occurences = file_depth_diff_occurences.to_frame().style.format(decimal=',', thousands='.', precision=2)"
   ]
  },
  {
   "cell_type": "code",
   "execution_count": null,
   "id": "389f53e7-b4f2-423c-963a-e50d564b5065",
   "metadata": {},
   "outputs": [],
   "source": [
    "print(file_depth_diff_occurences.to_latex())"
   ]
  },
  {
   "cell_type": "code",
   "execution_count": null,
   "id": "5f379529-f740-4049-b8c6-613db3426d55",
   "metadata": {},
   "outputs": [],
   "source": [
    "ddf[(ddf['file_depth_diff'] >= 12) & (ddf['action'] == 'move')].compute().to_excel('large_moves.xlsx')"
   ]
  },
  {
   "cell_type": "markdown",
   "id": "d2fa6315-2e28-4f8f-a1d8-00deb286d616",
   "metadata": {},
   "source": [
    "# See how many layers are affected per commit"
   ]
  },
  {
   "cell_type": "code",
   "execution_count": null,
   "id": "b3cfd5b1-9010-41b7-8fcb-77a1d1d7f1db",
   "metadata": {},
   "outputs": [],
   "source": [
    "# Function to combine and count unique depths\n",
    "def count_unique_depths(group):\n",
    "    combined_depths = pd.concat([group['new_file_depth'], group['old_file_depth']])\n",
    "    unique_depths = combined_depths[combined_depths >= 0].unique()\n",
    "    return len(unique_depths)\n",
    "    \n",
    "# Function to combine and count unique depths\n",
    "def partition_func(partition):\n",
    "    group = partition.groupby(['repo_id', 'commit_id'])\n",
    "    return group.apply(count_unique_depths, include_groups=False).reset_index()\n",
    "\n",
    "res = ddf.map_partitions(partition_func, meta={'repo_id': 'str', 'commit_id': 'str', 0: 'i8'})\n",
    "# result = ddf.groupby(['repo_id', 'commit_id']).apply(count_unique_depths, meta=('x', 'i8')).reset_index().compute(scheduler='threads')\n",
    "res.compute(scheduler='threads')"
   ]
  },
  {
   "cell_type": "code",
   "execution_count": null,
   "id": "fc9cca41-c010-4380-aa63-ce055e994fdf",
   "metadata": {},
   "outputs": [],
   "source": [
    "# Melt the DataFrame to stack new_file_depth and old_file_depth into a single column\n",
    "melted_ddf = dd.melt(ddf, id_vars=['repo_id', 'commit_id'], value_vars=['new_file_depth', 'old_file_depth'], value_name='file_depth')\n",
    "\n",
    "# Group by repo_id and commit_id, then calculate unique count of file_depth\n",
    "result = melted_ddf[melted_ddf['file_depth'] >= 0].groupby(['repo_id', 'commit_id'])['file_depth'].nunique().reset_index().compute()\n"
   ]
  },
  {
   "cell_type": "code",
   "execution_count": null,
   "id": "e952846f-c985-4146-b925-63ffebc62067",
   "metadata": {},
   "outputs": [],
   "source": [
    "result.describe()"
   ]
  },
  {
   "cell_type": "code",
   "execution_count": null,
   "id": "a3c8b6d8-6648-4050-b2e1-3b9d00a577c8",
   "metadata": {},
   "outputs": [],
   "source": [
    "result"
   ]
  },
  {
   "cell_type": "code",
   "execution_count": null,
   "id": "641a968a-9160-44d2-8401-6563abede01d",
   "metadata": {},
   "outputs": [],
   "source": [
    "result.to_parquet('affected_layers.parquet', compression='brotli')"
   ]
  },
  {
   "cell_type": "code",
   "execution_count": null,
   "id": "149e96d8-b9e4-4e76-a875-2e7593c62fa5",
   "metadata": {},
   "outputs": [],
   "source": [
    "result = pd.read_parquet('affected_layers.parquet')"
   ]
  },
  {
   "cell_type": "code",
   "execution_count": null,
   "id": "a30a8733-0063-4418-86fb-c5250112b80d",
   "metadata": {},
   "outputs": [],
   "source": [
    "result['file_depth'].describe(percentiles=[0.25,0.5,0.75,0.9,0.99,0.999])"
   ]
  },
  {
   "cell_type": "code",
   "execution_count": null,
   "id": "a8b079b5-0a5e-406a-ade5-ba5cb5265498",
   "metadata": {},
   "outputs": [],
   "source": [
    "grouped_repo_affeclay = result.groupby('repo_id').describe(percentiles=[0.25,0.5,0.75,0.9,0.99,0.999])"
   ]
  },
  {
   "cell_type": "code",
   "execution_count": null,
   "id": "021b11b2-745c-4fa4-9527-a098602cb9c8",
   "metadata": {},
   "outputs": [],
   "source": [
    "grouped_repo_affeclay"
   ]
  },
  {
   "cell_type": "code",
   "execution_count": null,
   "id": "42ed5ec1-d85f-4b47-bbe6-ed6a67f0c35e",
   "metadata": {},
   "outputs": [],
   "source": [
    "grouped_repo_affeclay.columns"
   ]
  },
  {
   "cell_type": "code",
   "execution_count": null,
   "id": "2b94c39d-5299-4222-b100-163cbdee4e60",
   "metadata": {},
   "outputs": [],
   "source": [
    "fig = px.scatter(x=grouped_repo_affeclay[('file_depth', 'count')], y=grouped_repo_affeclay[('file_depth',   'mean')])\n",
    "fig.show()"
   ]
  },
  {
   "cell_type": "code",
   "execution_count": null,
   "id": "45e67a88-c6e5-48ad-82e0-38d8c6dfd13a",
   "metadata": {},
   "outputs": [],
   "source": [
    "grouped_repo_affeclay.mode()"
   ]
  },
  {
   "cell_type": "code",
   "execution_count": null,
   "id": "fed789a4-5811-456f-b539-67101b0659da",
   "metadata": {},
   "outputs": [],
   "source": [
    "no_affected_layer_per_commit = result.groupby('file_depth').count()"
   ]
  },
  {
   "cell_type": "code",
   "execution_count": null,
   "id": "3f036962-3513-4698-8f6a-634ae4b0eee1",
   "metadata": {},
   "outputs": [],
   "source": [
    "no_affected_layer_per_commit['commit_id']/no_affected_layer_per_commit['commit_id'].sum()*100"
   ]
  },
  {
   "cell_type": "code",
   "execution_count": null,
   "id": "99661d97-e6f3-4c3b-b5b6-e6aaafd73d5b",
   "metadata": {},
   "outputs": [],
   "source": [
    "no_affected_layer_per_commit = no_affected_layer_per_commit.drop([52, 57], axis=0)"
   ]
  },
  {
   "cell_type": "code",
   "execution_count": null,
   "id": "536ef364-9e79-4112-9dbb-2de79e1b62cd",
   "metadata": {},
   "outputs": [],
   "source": [
    "fig = px.bar(no_affected_layer_per_commit[['commit_id']])\n",
    "fig.update_yaxes(type='log', title='Number of Commits')\n",
    "fig.update_xaxes(title='Number of affected layers')\n",
    "fig.update_layout(showlegend=False, width=1000, height=400, template='ggplot2')\n",
    "fig.update_traces(marker_color='rgb(200, 25, 25)')\n",
    "\n",
    "# fig.show()\n",
    "fig.write_image('Figures/bar_no_affected_layers.pdf')\n",
    "fig.show()"
   ]
  },
  {
   "cell_type": "code",
   "execution_count": null,
   "id": "0f90bddb-add8-4190-9ac8-ce654580e2c5",
   "metadata": {},
   "outputs": [],
   "source": [
    "result[result['file_depth'] >= 25]"
   ]
  },
  {
   "cell_type": "markdown",
   "id": "796c8d3c-1025-4fa0-9882-943ede70de90",
   "metadata": {},
   "source": [
    "# Affected layers per (linguist) file type"
   ]
  },
  {
   "cell_type": "code",
   "execution_count": null,
   "id": "410816f4-a57f-4b50-ae1f-32c65823bafe",
   "metadata": {},
   "outputs": [],
   "source": [
    "# Create the stacked bar chart figure\n",
    "fig = go.Figure()\n",
    "\n",
    "# Add each category as a trace\n",
    "for category in linguist_types:\n",
    "    consider_langs = [a for a in linguist_langs if linguist_langs[a]['type'] == category]\n",
    "    # affected_layers_per_add = ddf[(ddf['action'] == 'add') & ddf['language'].isin(consider_langs)].groupby('new_file_depth').commit_id.nunique()\n",
    "    # affected_layers_per_move = ddf[(ddf['action'] == 'move') & ddf['language'].isin(consider_langs)].groupby('new_file_depth').commit_id.nunique() + ddf[(ddf['action'] == 'move')& ddf['language'].isin(consider_langs)].groupby('new_file_depth').commit_id.nunique()\n",
    "    # affected_layers_per_del = ddf[((ddf['action'] == 'delete') & ddf['language'].isin(consider_langs))].groupby('new_file_depth').commit_id.nunique()\n",
    "    data = ddf[ddf['language'].isin(consider_langs)].groupby('new_file_depth').commit_id.nunique()\n",
    "    fig.add_trace(go.Bar(\n",
    "        x=data.index,\n",
    "        y=data,\n",
    "        name=category\n",
    "    ))\n",
    "\n",
    "# Set the barmode to 'stack'\n",
    "fig.update_layout(\n",
    "    barmode='stack',\n",
    "    title='File Structure Changes by Layer',\n",
    "    xaxis_title='Layers',\n",
    "    yaxis_title='Number of Commits'\n",
    ")\n",
    "\n",
    "# # Show the plot\n",
    "fig.show()\n",
    "fig.write_image(\"Figures/changes_per_type_per_layer.pdf\")"
   ]
  },
  {
   "cell_type": "markdown",
   "id": "f7ff1611-25ca-49a3-a488-b94033d87534",
   "metadata": {},
   "source": [
    "# Insight between the individual and corporation projects"
   ]
  },
  {
   "cell_type": "code",
   "execution_count": null,
   "id": "93ba3bfd-ae88-4308-a969-33415ff18d69",
   "metadata": {},
   "outputs": [],
   "source": [
    "individual_projects = df_github[df_github['owner.type'] == \"User\"]\n",
    "organisation_projects = df_github[df_github['owner.type'] == \"Organization\"]"
   ]
  },
  {
   "cell_type": "code",
   "execution_count": null,
   "id": "747b4267-1b3b-40f7-af36-d7b1521ad09a",
   "metadata": {},
   "outputs": [],
   "source": [
    "ddf_repoinfos.compute()"
   ]
  },
  {
   "cell_type": "code",
   "execution_count": null,
   "id": "6be6f02a-8266-4708-8be8-aefea20fc058",
   "metadata": {},
   "outputs": [],
   "source": [
    "df_individual_project_repoinfos = ddf_repoinfos[ddf_repoinfos.index.isin(individual_projects['repo_id'])].compute()\n",
    "df_organisation_project_repoinfos = ddf_repoinfos[ddf_repoinfos.index.isin(organisation_projects['repo_id'])].compute()"
   ]
  },
  {
   "cell_type": "code",
   "execution_count": null,
   "id": "84017e31-5b27-4078-9d44-39bbd9f495d2",
   "metadata": {},
   "outputs": [],
   "source": [
    "df_organisation_project_repoinfos"
   ]
  },
  {
   "cell_type": "code",
   "execution_count": null,
   "id": "cf8ed190-2bfa-4012-9da0-c377aecfce9f",
   "metadata": {},
   "outputs": [],
   "source": [
    "df_individual_project_repoinfos"
   ]
  },
  {
   "cell_type": "code",
   "execution_count": null,
   "id": "863f85e0-2a87-4222-bc7b-dcfa6021f003",
   "metadata": {},
   "outputs": [],
   "source": [
    "fig = go.Figure()\n",
    "\n",
    "fig.add_trace(go.Box(y=df_organisation_project_repoinfos[\"no_commits\"], name='Organization'))\n",
    "fig.add_trace(go.Box(y=df_individual_project_repoinfos[\"no_commits\"], name='User'))\n",
    "\n",
    "fig.update_layout(title='No Commits Organization vs User',\n",
    "                  xaxis_title='User Type',\n",
    "                  yaxis_title='Number of Commits')\n",
    "\n",
    "fig.show()"
   ]
  },
  {
   "cell_type": "code",
   "execution_count": null,
   "id": "940b2fdb-4909-4a5f-ab37-94eb2bed22d0",
   "metadata": {},
   "outputs": [],
   "source": [
    "df_organisation_project_repoinfos[\"no_commits\"].describe(percentiles=[.25, .5, .75, .99, .999]), df_individual_project_repoinfos[\"no_commits\"].describe(percentiles=[.25, .5, .75, .99, .999])"
   ]
  },
  {
   "cell_type": "code",
   "execution_count": null,
   "id": "c48b648c-c2af-4525-b14a-c27b24d62d8e",
   "metadata": {},
   "outputs": [],
   "source": [
    "fig = go.Figure()\n",
    "\n",
    "fig.add_trace(go.Box(y=df_organisation_project_repoinfos[\"no_contributors\"], name='Organization'))\n",
    "fig.add_trace(go.Box(y=df_individual_project_repoinfos[\"no_contributors\"], name='User'))\n",
    "\n",
    "fig.update_layout(title='No Contributors of User vs Organization',\n",
    "                  xaxis_title='User Type',\n",
    "                  yaxis_title='Number of Contributors')\n",
    "\n",
    "fig.show()"
   ]
  },
  {
   "cell_type": "code",
   "execution_count": null,
   "id": "524ccbb8-dd6a-446d-ac63-6982a5376448",
   "metadata": {},
   "outputs": [],
   "source": [
    "fig = go.Figure()\n",
    "\n",
    "fig.add_trace(go.Box(y=df_organisation_project_repoinfos[\"max_file_depth\"], name='Organization'))\n",
    "fig.add_trace(go.Box(y=df_individual_project_repoinfos[\"max_file_depth\"], name='User'))\n",
    "\n",
    "fig.update_layout(title='Max Depth of User vs Organization',\n",
    "                  xaxis_title='Project Type',\n",
    "                  yaxis_title='Max File Depth')\n",
    "\n",
    "fig.show()"
   ]
  },
  {
   "cell_type": "code",
   "execution_count": null,
   "id": "8eb9254c-8b05-4c37-b3a8-0f984b4239d4",
   "metadata": {},
   "outputs": [],
   "source": [
    "df_organisation_project_repoinfos[\"max_file_depth\"].describe(percentiles=[.25, .5, .75, .99, .999]), df_individual_project_repoinfos[\"max_file_depth\"].describe(percentiles=[.25, .5, .75, .99, .999])"
   ]
  },
  {
   "cell_type": "code",
   "execution_count": null,
   "id": "307ccd8f-545c-4576-befd-6f6f4f07de1d",
   "metadata": {},
   "outputs": [],
   "source": [
    "%%time \n",
    "ddf_commits.compute()"
   ]
  },
  {
   "cell_type": "code",
   "execution_count": null,
   "id": "f14777ea-d34b-488a-bf5e-f02de2b92c2c",
   "metadata": {},
   "outputs": [],
   "source": [
    "%%time \n",
    "ddf_commits['commit_time'].compute()"
   ]
  },
  {
   "cell_type": "code",
   "execution_count": null,
   "id": "d3c4dca6-9263-427b-99e9-196435fbf7fa",
   "metadata": {},
   "outputs": [],
   "source": []
  },
  {
   "cell_type": "code",
   "execution_count": null,
   "id": "b60637dc-1f80-4fc3-83cd-0e9c951fd8d5",
   "metadata": {},
   "outputs": [],
   "source": [
    "# FIX FOR STATS PER COMMIT\n",
    "\n",
    "# df_commits_temp = ddf_commits.compute()\n",
    "\n",
    "# ddf_adds_per_commit = ddf[ddf[\"action\"] == \"add\"].groupby(\"commit_id\").size()\n",
    "# ddf_dels_per_commit = ddf[ddf[\"action\"] == \"delete\"].groupby(\"commit_id\").size()\n",
    "# ddf_moves_per_commt = ddf[ddf[\"action\"] == \"move\"].groupby(\"commit_id\").size()\n",
    "# ddf_rename_per_commt = ddf[ddf[\"action\"] == \"rename\"].groupby(\"commit_id\").size()\n",
    "\n",
    "# adds_per_commit, dels_per_commit, moves_per_commt, rename_per_commt = dd.compute(ddf_adds_per_commit, ddf_dels_per_commit, ddf_moves_per_commt, ddf_rename_per_commt)\n",
    "\n",
    "# df_commits_temp[\"n_added\"] = (\n",
    "#     adds_per_commit\n",
    "# )\n",
    "\n",
    "# df_commits_temp[\"n_deleted\"] = (\n",
    "#     dels_per_commit\n",
    "# )\n",
    "\n",
    "# df_commits_temp[\"n_moved\"] = (\n",
    "#     moves_per_commt\n",
    "# )\n",
    "\n",
    "# df_commits_temp[\"n_renamed\"] = (\n",
    "#     rename_per_commt\n",
    "# )\n",
    "\n",
    "# df_commits_temp = df_commits_temp.fillna({\"n_added\": 0, \"n_deleted\": 0, \"n_moved\": 0, \"n_renamed\": 0})\n",
    "\n",
    "# df_commits_temp[\"n_added\"] = df_commits_temp[\"n_added\"].astype(np.int32)\n",
    "# df_commits_temp[\"n_deleted\"] = df_commits_temp[\"n_deleted\"].astype(np.int32)\n",
    "# df_commits_temp[\"n_moved\"] = df_commits_temp[\"n_moved\"].astype(np.int32)\n",
    "# df_commits_temp[\"n_renamed\"] = df_commits_temp[\"n_renamed\"].astype(np.int32)\n",
    "# df_commits_temp[\"n_struc_changes\"] = (\n",
    "#     df_commits_temp[\"n_added\"]\n",
    "#     + df_commits_temp[\"n_deleted\"]\n",
    "#     + df_commits_temp[\"n_moved\"]\n",
    "#     + df_commits_temp[\"n_renamed\"]\n",
    "# )\n",
    "\n",
    "# df_commits_temp[\"max_file_depth\"] = df_commits_temp[\"total_files_per_level\"].apply(\n",
    "#     lambda lst: len(lst.split(\",\"))\n",
    "#     - len(list(itertools.takewhile(lambda x: x != \"0\", reversed(lst.split(\",\"))))),\n",
    "# )\n",
    "\n",
    "# df_commits_temp.to_parquet(\n",
    "#     f\"../hpc-datasets/commits-idx-fixed.parquet\",\n",
    "#     compression=\"brotli\",\n",
    "#     partition_cols=\"bucket\",\n",
    "# )\n"
   ]
  },
  {
   "cell_type": "code",
   "execution_count": null,
   "id": "e7751f2a-5fe7-43be-a618-20debebfd347",
   "metadata": {},
   "outputs": [],
   "source": []
  },
  {
   "cell_type": "code",
   "execution_count": null,
   "id": "f99fecce-1c98-40e8-9197-72b3050b8a07",
   "metadata": {},
   "outputs": [],
   "source": [
    "(ddf_repoinfos['no_struc_changing_commits']/ddf_repoinfos['no_commits']).compute().mean()"
   ]
  },
  {
   "cell_type": "markdown",
   "id": "47f2af41",
   "metadata": {},
   "source": [
    "# Average num changes per commit"
   ]
  },
  {
   "cell_type": "code",
   "execution_count": null,
   "id": "71670393-796f-4820-bf52-13a426ccc5a5",
   "metadata": {},
   "outputs": [],
   "source": [
    "ddf_commits[['n_added',\t'n_deleted',\t'n_moved',\t'n_renamed']].describe().compute()"
   ]
  },
  {
   "cell_type": "markdown",
   "id": "bf6b3dc6-920f-49d8-9f7f-c46b4c95bdf9",
   "metadata": {},
   "source": [
    "# Check how projects grow (horiz/vert)"
   ]
  },
  {
   "cell_type": "code",
   "execution_count": null,
   "id": "4c40495c-7892-408b-a70b-8564dc3d3ae5",
   "metadata": {},
   "outputs": [],
   "source": [
    "num_commits_per_proj = ddf_commits.groupby('repo_id').count().compute()[\"commit_time\"]"
   ]
  },
  {
   "cell_type": "code",
   "execution_count": null,
   "id": "ea62685b-56bb-4868-b107-5a0eed3917c1",
   "metadata": {},
   "outputs": [],
   "source": [
    "single_commit_repos = list(num_commits_per_proj[num_commits_per_proj <= 1].index)"
   ]
  },
  {
   "cell_type": "code",
   "execution_count": null,
   "id": "1621547a-be80-483c-af43-0e4222274875",
   "metadata": {},
   "outputs": [],
   "source": []
  },
  {
   "cell_type": "code",
   "execution_count": null,
   "id": "d0c9ab41-e0a9-452c-9945-11e70b9a62fa",
   "metadata": {},
   "outputs": [],
   "source": [
    "# ddf_file_additions = ddf_commits[ddf_commits[\"action\"] == \"add\"]\n",
    "\n",
    "# For each repository, calculate the percentage of commits that have increased the max file depth\n",
    "def has_max_depth_increased(df):\n",
    "    df = df.sort_values('commit_index')\n",
    "    return (df[\"max_file_depth\"] > df[\"max_file_depth\"].shift(1))[1:].sum() / (len(df)-1)\n",
    "\n",
    "perc_commits_max_depth_increased = ddf_commits[~ddf_commits[\"repo_id\"].isin(single_commit_repos)].groupby(\"repo_id\").apply(has_max_depth_increased, meta=(\"x\", \"float64\"))"
   ]
  },
  {
   "cell_type": "code",
   "execution_count": null,
   "id": "ac99e8b3-7552-452c-8d1c-c23399cf8632",
   "metadata": {},
   "outputs": [],
   "source": [
    "tmp_commits = ddf_commits[~ddf_commits[\"repo_id\"].isin(single_commit_repos) & (ddf_commits['parents'] != '')]\n",
    "tmp_commits['depth_inc'] = tmp_commits['max_file_depth_diff'] > 0\n",
    "tmp_commits['depth_same'] = tmp_commits['max_file_depth_diff'] == 0\n",
    "tmp_commits['depth_dec'] = tmp_commits['max_file_depth_diff'] < 0\n",
    "\n",
    "describe_inc = tmp_commits.groupby(\"repo_id\")['depth_inc'].mean().describe()\n",
    "describe_same = tmp_commits.groupby(\"repo_id\")['depth_same'].mean().describe()\n",
    "describe_dec = tmp_commits.groupby(\"repo_id\")['depth_dec'].mean().describe()\n",
    "\n",
    "ddescribe_inc, ddescribe_same, ddescribe_dec = dd.compute(describe_inc, describe_same, describe_dec)\n",
    "ddescribe_inc, ddescribe_same, ddescribe_dec"
   ]
  },
  {
   "cell_type": "code",
   "execution_count": null,
   "id": "9013d72d-f7e0-42a5-9cd9-ab3bf14be47e",
   "metadata": {},
   "outputs": [],
   "source": [
    "tmp_commits[['depth_inc', 'depth_same', 'depth_dec']].mean().compute()"
   ]
  },
  {
   "cell_type": "code",
   "execution_count": null,
   "id": "82f4edd4-9106-4320-8d31-070bf6c3f96e",
   "metadata": {},
   "outputs": [],
   "source": [
    "(\n",
    "    tmp_commits[tmp_commits['depth_dec']]\n",
    "    .merge(df_repoinfos[['lang']], on='repo_id')\n",
    "    .compute()\n",
    "    .groupby('lang')['max_file_depth_diff'].describe(percentiles=[0.001, 0.01, 0.1, 0.25, 0.75])\n",
    ")"
   ]
  },
  {
   "cell_type": "code",
   "execution_count": null,
   "id": "cf2dba49-9c09-44d9-b986-c14222777b50",
   "metadata": {},
   "outputs": [],
   "source": [
    "(\n",
    "    tmp_commits[tmp_commits['depth_inc']]\n",
    "    .merge(df_repoinfos[['lang']], on='repo_id')\n",
    "    .compute()\n",
    "    .groupby('lang')['max_file_depth_diff'].describe(percentiles=[0.25,0.75,0.90,0.99,0.999,0.9999])\n",
    ")"
   ]
  },
  {
   "cell_type": "code",
   "execution_count": null,
   "id": "0e36a1f2-37ed-4080-8c2f-019e57c20982",
   "metadata": {},
   "outputs": [],
   "source": [
    "tmp_commits[tmp_commits['depth_dec']]['max_file_depth_diff'].describe(percentiles=[0.001,0.01, 0.1, 0.25, 0.75]).compute()"
   ]
  },
  {
   "cell_type": "code",
   "execution_count": null,
   "id": "dc338014-e687-4023-a723-2009167405ec",
   "metadata": {},
   "outputs": [],
   "source": [
    "tmp_commits[tmp_commits['depth_inc']]['max_file_depth_diff'].describe(percentiles=[0.25,0.75,0.90,0.99,0.999,0.9999]).compute()"
   ]
  },
  {
   "cell_type": "code",
   "execution_count": null,
   "id": "87172ac4-d5e9-49b7-bdb9-e20ec27d5677",
   "metadata": {},
   "outputs": [],
   "source": [
    "tmp_commits[(tmp_commits['max_file_depth_diff'] >= 10.96)].compute()"
   ]
  },
  {
   "cell_type": "code",
   "execution_count": null,
   "id": "c0c13d5f-58f2-40aa-ba0e-a0452b2b752f",
   "metadata": {},
   "outputs": [],
   "source": [
    "tmp_commits[tmp_commits['max_file_depth_diff'] <= -8.360000].compute()"
   ]
  },
  {
   "cell_type": "code",
   "execution_count": null,
   "id": "f98212ee-a4e5-4b58-8605-f8cf98b98986",
   "metadata": {},
   "outputs": [],
   "source": [
    "tmp_commits[tmp_commits['max_file_depth_diff'] <= -7].compute()"
   ]
  },
  {
   "cell_type": "code",
   "execution_count": null,
   "id": "376c3d89-b262-4b35-82e0-fc947b8d4fe9",
   "metadata": {},
   "outputs": [],
   "source": [
    "tmp_commits.shape[0].compute()"
   ]
  },
  {
   "cell_type": "code",
   "execution_count": null,
   "id": "ebfa0ff4-945d-41b9-bf3a-a100bfd80032",
   "metadata": {},
   "outputs": [],
   "source": [
    "ddf_commits.shape[0].compute()"
   ]
  },
  {
   "cell_type": "code",
   "execution_count": null,
   "id": "4cdface6-d5e0-49d6-b44f-52ab5599dfd9",
   "metadata": {},
   "outputs": [],
   "source": [
    "ddf[['repo_id', 'commit_id']].drop_duplicates().shape[0].compute()"
   ]
  },
  {
   "cell_type": "code",
   "execution_count": null,
   "id": "b2a9b3f3-2505-4488-995f-ca14816f12d5",
   "metadata": {},
   "outputs": [],
   "source": [
    "# For each repository, calculate the percentage of commits that have increased the max file depth\n",
    "def has_max_depth_decreased(df):\n",
    "    df = df.sort_values('commit_index')\n",
    "    return (df[\"max_file_depth\"] < df[\"max_file_depth\"].shift(1))[1:].sum() / (len(df)-1)\n",
    "\n",
    "perc_commits_max_depth_decreased = ddf_commits[~ddf_commits[\"repo_id\"].isin(single_commit_repos)].groupby(\"repo_id\").apply(has_max_depth_decreased, meta=(\"x\", \"float64\"))"
   ]
  },
  {
   "cell_type": "code",
   "execution_count": null,
   "id": "40bb9ee2-a570-47d0-b072-9a72d52543f1",
   "metadata": {},
   "outputs": [],
   "source": [
    "# For each repository, calculate the percentage of commits that have increased the max file depth\n",
    "def has_max_depth_same(df):\n",
    "    df = df.sort_values('commit_index')\n",
    "    return (df[\"max_file_depth\"] == df[\"max_file_depth\"].shift(1))[1:].sum() / (len(df)-1)\n",
    "\n",
    "perc_max_depth_stayed_same = ddf_commits[~ddf_commits[\"repo_id\"].isin(single_commit_repos)].groupby(\"repo_id\").apply(has_max_depth_same, meta=(\"x\", \"float64\"))"
   ]
  },
  {
   "cell_type": "code",
   "execution_count": null,
   "id": "cddaf882-713e-47fa-abbb-41f2281811e1",
   "metadata": {},
   "outputs": [],
   "source": [
    "perc_depth_inc, perc_depth_dec, perc_depth_same = dd.compute(perc_commits_max_depth_increased, perc_commits_max_depth_decreased, perc_max_depth_stayed_same)"
   ]
  },
  {
   "cell_type": "code",
   "execution_count": null,
   "id": "0a6c97a3-239a-4caf-ad99-f2c52fdc1503",
   "metadata": {},
   "outputs": [],
   "source": [
    "perc_depth_inc.describe(), perc_depth_dec.describe(), perc_depth_same.describe()"
   ]
  },
  {
   "cell_type": "code",
   "execution_count": null,
   "id": "ab974d52-5c12-4736-8c4a-5b409a48e3cd",
   "metadata": {},
   "outputs": [],
   "source": []
  },
  {
   "cell_type": "code",
   "execution_count": null,
   "id": "0d6a0b3f-9c3b-42d9-bf98-9da82b2f3e1e",
   "metadata": {},
   "outputs": [],
   "source": [
    "fig = px.histogram(perc_depth_inc, nbins=100)\n",
    "fig.show()"
   ]
  },
  {
   "cell_type": "code",
   "execution_count": null,
   "id": "5d712708-1a84-4148-ab67-b3a5f4f8ff58",
   "metadata": {},
   "outputs": [],
   "source": [
    "fig = px.histogram(perc_depth_same, nbins=30)\n",
    "fig.show()"
   ]
  },
  {
   "cell_type": "code",
   "execution_count": null,
   "id": "14bc9bef-0c8f-4676-b7e7-978b15cb7274",
   "metadata": {},
   "outputs": [],
   "source": [
    "fig = px.histogram(perc_depth_dec, nbins=30)\n",
    "fig.show()"
   ]
  },
  {
   "cell_type": "code",
   "execution_count": null,
   "id": "47516b16-0a02-47a7-a1bf-631ce1b57247",
   "metadata": {},
   "outputs": [],
   "source": [
    "perc_depth_dec[perc_depth_dec==0].count() / len(perc_depth_dec)"
   ]
  },
  {
   "cell_type": "code",
   "execution_count": null,
   "id": "5e5af137-9b36-410c-afae-d66b3be8005e",
   "metadata": {},
   "outputs": [],
   "source": [
    "perc_depth_inc[perc_depth_inc==0].count() / len(perc_depth_inc)"
   ]
  },
  {
   "cell_type": "code",
   "execution_count": null,
   "id": "bf05d347-2f60-4df1-a068-461c14ee12b5",
   "metadata": {},
   "outputs": [],
   "source": [
    "perc_depth_same[perc_depth_same==0]"
   ]
  },
  {
   "cell_type": "code",
   "execution_count": null,
   "id": "c5f783af-92f7-4b85-a68e-2dffa998c33b",
   "metadata": {},
   "outputs": [],
   "source": [
    "perc_depth_same[perc_depth_same==0].count() / len(perc_depth_same)"
   ]
  },
  {
   "cell_type": "code",
   "execution_count": null,
   "id": "a41b4c63-40c4-4eca-9881-71c376a0be3b",
   "metadata": {},
   "outputs": [],
   "source": [
    "perc_depth_dec[perc_depth_dec>0].describe()"
   ]
  },
  {
   "cell_type": "code",
   "execution_count": null,
   "id": "08f540ee-96f1-4a0a-a22d-d787ebde5104",
   "metadata": {},
   "outputs": [],
   "source": [
    "perc_depth_inc[perc_depth_inc>0].describe()"
   ]
  },
  {
   "cell_type": "code",
   "execution_count": null,
   "id": "294e5232-39ef-4b2a-a4b6-fc4bd2924e58",
   "metadata": {},
   "outputs": [],
   "source": [
    "perc_depth_same[perc_depth_same>0].describe()"
   ]
  },
  {
   "cell_type": "code",
   "execution_count": null,
   "id": "1b8d6b6c-5184-4c2e-bd40-a33e53d7f07b",
   "metadata": {},
   "outputs": [],
   "source": [
    "perc_depth_same[perc_depth_same==0]"
   ]
  },
  {
   "cell_type": "code",
   "execution_count": null,
   "id": "8ff55a4c-d1f2-489a-bd30-faff3d814ca0",
   "metadata": {},
   "outputs": [],
   "source": [
    "bla = ddf_commits[ddf_commits[\"repo_id\"] == \"auspicious3000_autovc\"].compute()"
   ]
  },
  {
   "cell_type": "code",
   "execution_count": null,
   "id": "2a5a3753-3ca2-4b81-aeb9-bf1d98fa41e6",
   "metadata": {},
   "outputs": [],
   "source": [
    "(bla[\"max_file_depth\"] > bla[\"max_file_depth\"].shift(1))[1:].sum()"
   ]
  },
  {
   "cell_type": "code",
   "execution_count": null,
   "id": "c206b579-67aa-4d32-8b2a-d08c0b75735e",
   "metadata": {},
   "outputs": [],
   "source": [
    "test_df = ddf_commits[ddf_commits[\"repo_id\"] == \"auspicious3000_autovc\"].compute()"
   ]
  },
  {
   "cell_type": "code",
   "execution_count": null,
   "id": "33296242-eb2a-4af0-a39c-1ff2fec90780",
   "metadata": {},
   "outputs": [],
   "source": [
    "test_df.head()"
   ]
  },
  {
   "cell_type": "code",
   "execution_count": null,
   "id": "299e5989-bead-4f2a-8541-d4094d060e82",
   "metadata": {},
   "outputs": [],
   "source": [
    "data = (test_df[\"max_file_depth\"] > test_df[\"max_file_depth\"].shift(1))[1:]\n",
    "data2 = (test_df[\"max_file_depth\"] < test_df[\"max_file_depth\"].shift(1))[1:]\n",
    "data3 = (test_df[\"max_file_depth\"] == test_df[\"max_file_depth\"].shift(1))[1:]"
   ]
  },
  {
   "cell_type": "code",
   "execution_count": null,
   "id": "1d5a13c5-609b-4ef3-83cb-aad1f38079c7",
   "metadata": {},
   "outputs": [],
   "source": [
    "data.sum(), len(test_df)"
   ]
  },
  {
   "cell_type": "code",
   "execution_count": null,
   "id": "82893a24-f02f-428f-a860-6c2ee3d8927b",
   "metadata": {},
   "outputs": [],
   "source": [
    "data.sum() / len(test_df)"
   ]
  },
  {
   "cell_type": "code",
   "execution_count": null,
   "id": "28e98bff-54cd-463a-a818-335488fa222a",
   "metadata": {},
   "outputs": [],
   "source": [
    "data2.sum() / len(test_df)"
   ]
  },
  {
   "cell_type": "code",
   "execution_count": null,
   "id": "f415d236-475d-491a-a9a3-0f3f286c91b9",
   "metadata": {},
   "outputs": [],
   "source": [
    "data3.sum() / len(test_df)"
   ]
  },
  {
   "cell_type": "code",
   "execution_count": null,
   "id": "46428833-bd7d-4d2b-9805-c9a671c46d65",
   "metadata": {},
   "outputs": [],
   "source": [
    "tmp_df = ddf_commits.groupby('repo_id').count().compute()[\"commit_time\"]"
   ]
  },
  {
   "cell_type": "code",
   "execution_count": null,
   "id": "b62f4e57-e756-4c92-8e24-ced461eb0e55",
   "metadata": {},
   "outputs": [],
   "source": [
    "(tmp_df == 1).sum()"
   ]
  },
  {
   "cell_type": "code",
   "execution_count": null,
   "id": "2fd02c58-6a06-4911-be38-ffba4df309f4",
   "metadata": {},
   "outputs": [],
   "source": [
    "(tmp_df > 1).sum()"
   ]
  },
  {
   "cell_type": "code",
   "execution_count": null,
   "id": "49764aa2-e49a-4f1d-ab20-1fa29a4c10c2",
   "metadata": {},
   "outputs": [],
   "source": [
    "perc_depth_dec[perc_depth_dec==1]"
   ]
  },
  {
   "cell_type": "markdown",
   "id": "89d33103-11e8-464f-b9e7-ce6f0507a2fa",
   "metadata": {},
   "source": [
    "# Stability score "
   ]
  },
  {
   "cell_type": "code",
   "execution_count": null,
   "id": "85107f96-f12c-4e51-a144-93428b1e42b4",
   "metadata": {},
   "outputs": [],
   "source": [
    "ddf_commits_per_repo = ddf_commits.groupby('repo_id')\n",
    "ddf_all_commits_per_repo = ddf_commits.groupby('repo_id')"
   ]
  },
  {
   "cell_type": "code",
   "execution_count": null,
   "id": "d41be7d7-4560-47e8-bae4-4c68fbad1e7f",
   "metadata": {},
   "outputs": [],
   "source": [
    "subddf = ddf_commits[['n_added', 'n_deleted', 'n_moved', 'n_renamed', 'n_struc_changes', 'max_file_depth']]"
   ]
  },
  {
   "cell_type": "code",
   "execution_count": null,
   "id": "75657035-d32a-43cc-b2f3-c4303432cebd",
   "metadata": {},
   "outputs": [],
   "source": [
    "ddf_all_commits = ddf_all_commits.set_index('commit_id')"
   ]
  },
  {
   "cell_type": "code",
   "execution_count": null,
   "id": "12117ba5-fbab-4206-8d7a-24cef43d6251",
   "metadata": {},
   "outputs": [],
   "source": [
    "abc1 = ddf_all_commits.reset_index()\n",
    "abc2 = subddf.reset_index()\n",
    "merged_ddf = abc1.merge(abc2,how=\"left\")\n",
    "merged_ddf = merged_ddf.fillna(0).astype({'n_added': 'int32', 'n_deleted': 'int32', 'n_moved': 'int32', 'n_renamed': 'int32', 'n_struc_changes': 'int32', 'max_file_depth': 'int16'})"
   ]
  },
  {
   "cell_type": "code",
   "execution_count": null,
   "id": "69dd0a96-6a01-48c6-a2ed-b1914ba4ed06",
   "metadata": {},
   "outputs": [],
   "source": [
    "proj = merged_ddf[merged_ddf[\"repo_id\"] == \"vapor_vapor\"].compute()"
   ]
  },
  {
   "cell_type": "code",
   "execution_count": null,
   "id": "4121a3d5-2a9a-4b6b-8add-53ed2f03b599",
   "metadata": {},
   "outputs": [],
   "source": [
    "proj"
   ]
  },
  {
   "cell_type": "code",
   "execution_count": null,
   "id": "757f0f01-d585-4479-b0e3-7f1bf3bb2091",
   "metadata": {},
   "outputs": [],
   "source": [
    "from data_analysis.stability import compute_depth_stability"
   ]
  },
  {
   "cell_type": "code",
   "execution_count": null,
   "id": "f7fbd13f-ee4e-4fe0-919d-6733aeaf6a00",
   "metadata": {},
   "outputs": [],
   "source": [
    "ent_data = merged_ddf.groupby('repo_id').apply(lambda r: compute_depth_stability(r), meta=('x', 'f8')).compute()"
   ]
  },
  {
   "cell_type": "code",
   "execution_count": null,
   "id": "1cfc2288-f70a-482d-9d3e-5dd4bf7626db",
   "metadata": {},
   "outputs": [],
   "source": [
    "ent_data.describe()"
   ]
  },
  {
   "cell_type": "code",
   "execution_count": null,
   "id": "3730aad4-aac2-4c52-878a-8320708b1274",
   "metadata": {},
   "outputs": [],
   "source": [
    "ent_data_2 = merged_ddf.groupby('repo_id').apply(lambda r: compute_depth_stability(r, time_interval=\"daily\"), meta=('x', 'f8'))"
   ]
  },
  {
   "cell_type": "code",
   "execution_count": null,
   "id": "1672cb67-7ee0-4c51-be4d-402f91c80798",
   "metadata": {},
   "outputs": [],
   "source": [
    "ent_data_2.describe().compute()"
   ]
  },
  {
   "cell_type": "code",
   "execution_count": null,
   "id": "67e1166a-55d8-45c6-872b-1b8ba830fe7e",
   "metadata": {},
   "outputs": [],
   "source": [
    "import gc\n",
    "gc.collect()"
   ]
  },
  {
   "cell_type": "code",
   "execution_count": null,
   "id": "6c420385-4848-439a-82e6-74bd98ed6dc7",
   "metadata": {},
   "outputs": [],
   "source": [
    "merged_ddf.dtypes"
   ]
  },
  {
   "cell_type": "code",
   "execution_count": null,
   "id": "222d378a-a773-44c8-bce4-0858584e1528",
   "metadata": {},
   "outputs": [],
   "source": []
  },
  {
   "cell_type": "code",
   "execution_count": null,
   "id": "faac78b7-8ce0-43ac-9ae9-374bc49ba7b9",
   "metadata": {},
   "outputs": [],
   "source": [
    "ddf_all_commits"
   ]
  },
  {
   "cell_type": "code",
   "execution_count": null,
   "id": "8c750ab7-910a-47c0-9301-22cc5b1581d7",
   "metadata": {},
   "outputs": [],
   "source": [
    "ddf_commits"
   ]
  },
  {
   "cell_type": "code",
   "execution_count": null,
   "id": "5e2cdbfd-8d7f-42d3-a4af-7a08b760bbc4",
   "metadata": {},
   "outputs": [],
   "source": [
    "df_all_commits = ddf_all_commits.compute()"
   ]
  },
  {
   "cell_type": "code",
   "execution_count": null,
   "id": "98d9499a-a252-489b-b451-8b0d8377c1cb",
   "metadata": {},
   "outputs": [],
   "source": [
    "df_all_commits = df_all_commits.set_index(['repo_id','commit_id'])"
   ]
  },
  {
   "cell_type": "code",
   "execution_count": null,
   "id": "4d44715f-221a-454e-9525-207b7348612a",
   "metadata": {},
   "outputs": [],
   "source": [
    "ddf_commits"
   ]
  },
  {
   "cell_type": "code",
   "execution_count": null,
   "id": "739fb26c-89bc-4ff3-b120-0db2a8130cdf",
   "metadata": {},
   "outputs": [],
   "source": [
    "df_commits_changes = ddf_commits[['repo_id','commit_id','n_struc_changes','max_file_depth_diff']].compute().set_index(['repo_id','commit_id'])\n"
   ]
  },
  {
   "cell_type": "code",
   "execution_count": null,
   "id": "fc0d60af-814f-4369-96eb-a8b265cb2339",
   "metadata": {},
   "outputs": [],
   "source": [
    "df_merged = df_all_commits.merge(df_commits_changes, how='left',left_index=True, right_index=True).fillna({'n_struc_changes': 0, 'max_file_depth_diff': 0 })"
   ]
  },
  {
   "cell_type": "code",
   "execution_count": null,
   "id": "65410e49-073b-42dd-8739-24c8b2afe8a1",
   "metadata": {},
   "outputs": [],
   "source": [
    "df_merged.reset_index().to_parquet('../hpc-datasets/commits_merged.parquet', partition_cols=['bucket'], compression='brotli')"
   ]
  },
  {
   "cell_type": "code",
   "execution_count": null,
   "id": "e6253cf7-c207-49a7-a2ba-f2df348a4341",
   "metadata": {},
   "outputs": [],
   "source": [
    "ddf_merged = dd.read_parquet('../hpc-datasets/commits_merged.parquet')"
   ]
  },
  {
   "cell_type": "code",
   "execution_count": null,
   "id": "b44c5350-3b68-4fa0-a10c-282f293c1f78",
   "metadata": {},
   "outputs": [],
   "source": [
    "# Convert commit dates to datetime\n",
    "ddf_merged['commit_time'] = dd.to_datetime(ddf_merged['commit_time'], unit='s')"
   ]
  },
  {
   "cell_type": "code",
   "execution_count": null,
   "id": "ad326072-663f-4367-bfa3-b78b9df4e0dd",
   "metadata": {},
   "outputs": [],
   "source": [
    "ddf_merged"
   ]
  },
  {
   "cell_type": "code",
   "execution_count": null,
   "id": "2468b302-bbfb-4bdc-944e-15839fb91cad",
   "metadata": {},
   "outputs": [],
   "source": [
    "# Add absolute depth diff\n",
    "ddf_merged['abs_max_file_depth_diff'] = ddf_merged['max_file_depth_diff'].abs()"
   ]
  },
  {
   "cell_type": "code",
   "execution_count": null,
   "id": "f9cd4b0e-32e8-4c21-8fe2-ab5b1a620bbc",
   "metadata": {},
   "outputs": [],
   "source": [
    "# Group by project and calculate the first commit date for each project\n",
    "project_first_commit_date = ddf_all_commits.groupby('repo_id')['commit_time'].min().compute()\n",
    "project_first_commit_date = pd.to_datetime(project_first_commit_date, unit=\"s\")\n",
    "\n",
    "# Calculate the age of each project based on the first commit date\n",
    "ddf_merged['project_age'] = ddf_merged['repo_id'].map(project_first_commit_date)\n",
    "ddf_merged['project_age'] = (ddf_merged['commit_time'] - ddf_merged['project_age']).dt.days"
   ]
  },
  {
   "cell_type": "code",
   "execution_count": null,
   "id": "5dccdacf-0513-41f5-b447-6a1bf318a125",
   "metadata": {},
   "outputs": [],
   "source": [
    "# Group by project and calculate the first commit date for each project\n",
    "project_last_commit_date = ddf_all_commits.groupby('repo_id')['commit_time'].max().compute()\n",
    "project_last_commit_date = pd.to_datetime(project_last_commit_date, unit=\"s\")\n",
    "\n",
    "df_repoinfos['project_age'] = (project_last_commit_date-project_first_commit_date).dt.days"
   ]
  },
  {
   "cell_type": "code",
   "execution_count": null,
   "id": "6c20a7c7-3ab7-49cb-932a-d4ade9e8b8b8",
   "metadata": {},
   "outputs": [],
   "source": [
    "ddf_merged.dtypes"
   ]
  },
  {
   "cell_type": "code",
   "execution_count": null,
   "id": "fcadb103-8518-4734-9e57-5204baefe906",
   "metadata": {},
   "outputs": [],
   "source": [
    "ddf_merged.head()"
   ]
  },
  {
   "cell_type": "code",
   "execution_count": null,
   "id": "ba68ff5c-d946-4376-867a-a4ae19ce2aba",
   "metadata": {},
   "outputs": [],
   "source": [
    "ddf_merged[ddf_merged['repo_id'] == 'codebude_qrcoder'].compute()"
   ]
  },
  {
   "cell_type": "code",
   "execution_count": null,
   "id": "0bc62742-fae0-4519-942e-0eb703bca322",
   "metadata": {},
   "outputs": [],
   "source": [
    "# Extract the week of the year for resampling\n",
    "ddf_merged['week'] = ddf_merged['commit_time'].dt.to_period('W')\n",
    "\n",
    "# Group by project and week, then aggregate\n",
    "weekly_data = ddf_merged.groupby(['repo_id', 'project_age', 'week']).agg({\n",
    "    'commit_id': 'count',\n",
    "    'n_struc_changes': 'sum',\n",
    "    'abs_max_file_depth_diff': 'sum' \n",
    "}).rename(columns={'commit_id': 'total_commits'}).reset_index()\n",
    "\n",
    "# Calculate structural change rate\n",
    "weekly_data['change_rate'] = weekly_data['n_struc_changes'] / weekly_data['total_commits']\n",
    "\n",
    "# Handle cases with no commits to avoid division by zero\n",
    "weekly_data['change_rate'] = weekly_data['change_rate'].fillna(0)\n",
    "\n",
    "# Calculate the inverse change rate as a stability index\n",
    "weekly_data['stability_index'] = 1 / (1 + weekly_data['change_rate'] + weekly_data['abs_max_file_depth_diff'])"
   ]
  },
  {
   "cell_type": "code",
   "execution_count": null,
   "id": "1e848a77-502a-4cb6-8804-73a6a294f662",
   "metadata": {},
   "outputs": [],
   "source": [
    "weekly_data[weekly_data['repo_id'] == \"vapor_vapor\"].compute()"
   ]
  },
  {
   "cell_type": "code",
   "execution_count": null,
   "id": "34f282ab-5fab-4610-afbe-08d020b8a981",
   "metadata": {},
   "outputs": [],
   "source": [
    "# Normalize the stability index within each project\n",
    "def normalize_column(df):\n",
    "    col_min = df.min()\n",
    "    col_max = df.max()\n",
    "    return (df - col_min) / (col_max - col_min)\n",
    "\n",
    "weekly_data['normalized_stability'] = weekly_data.groupby('repo_id')['stability_index'].transform(normalize_column)"
   ]
  },
  {
   "cell_type": "code",
   "execution_count": null,
   "id": "11044a24-b24d-4e0f-9133-69f3111df691",
   "metadata": {},
   "outputs": [],
   "source": [
    "# Function to calculate stability scores for different project percentiles\n",
    "def calculate_stability_at_percentiles(weekly_data, percentile):\n",
    "    # Find the age percentile threshold for each project\n",
    "    project_age_percentiles = np.round(df_repoinfos[\"project_age\"]*(percentile/100)).to_frame(\"age_threshold\")\n",
    "\n",
    "    # Merge with weekly_data to filter projects based on their age\n",
    "    filtered_weekly_data = dd.merge(weekly_data, project_age_percentiles, left_on='repo_id', right_index=True, how='inner')\n",
    "    filtered_weekly_data = filtered_weekly_data[filtered_weekly_data['project_age'] <= filtered_weekly_data['age_threshold']]\n",
    "\n",
    "    # Aggregate to get a single stability score for the project segment\n",
    "    stability_scores = filtered_weekly_data.groupby('repo_id')['normalized_stability'].mean()\n",
    "    \n",
    "    # Convert to DataFrame for further processing\n",
    "    stability_scores_df = stability_scores.reset_index().rename(columns={'normalized_stability': f'stability_score_{percentile}'})\n",
    "    \n",
    "    return stability_scores_df"
   ]
  },
  {
   "cell_type": "code",
   "execution_count": null,
   "id": "f2f9e53d-40fe-428e-bf4a-a2734bd1c2bb",
   "metadata": {},
   "outputs": [],
   "source": [
    "# Calculate stability scores at specified percentiles\n",
    "percentiles = [10, 25, 37.5, 50, 62.5, 75, 90, 100]\n",
    "stability_scores = dd.compute([calculate_stability_at_percentiles(weekly_data, percentile) for percentile in percentiles], scheduler='threads')\n",
    "\n",
    "# Merge stability scores for different percentiles\n",
    "stability_scores_merged = pd.concat([score_df.set_index('repo_id') for score_df in stability_scores[0]], axis=1)"
   ]
  },
  {
   "cell_type": "code",
   "execution_count": null,
   "id": "da44e975-ac4f-4f0f-86d8-149d10b1466a",
   "metadata": {},
   "outputs": [],
   "source": [
    "for percentile in percentiles:\n",
    "    # Normalize stability scores across all projects for comparison\n",
    "    stability_min = stability_scores_merged[f'stability_score_{percentile}'].min()\n",
    "    stability_max = stability_scores_merged[f'stability_score_{percentile}'].max()\n",
    "    \n",
    "    if stability_max - stability_min != 0:\n",
    "        stability_scores_merged[f'stability_score_{percentile}'] = (stability_scores_merged[f'stability_score_{percentile}'] - stability_min) / (stability_max - stability_min)\n",
    "    else:\n",
    "        stability_scores_merged[f'stability_score_{percentile}'] = 1"
   ]
  },
  {
   "cell_type": "code",
   "execution_count": null,
   "id": "ac332f7b-57a7-4fb7-9116-2f3008d2ac9a",
   "metadata": {},
   "outputs": [],
   "source": [
    "stability_scores_merged.describe()"
   ]
  },
  {
   "cell_type": "code",
   "execution_count": null,
   "id": "b1d7577f-1122-4a7c-9494-1d9a086d1dcf",
   "metadata": {},
   "outputs": [],
   "source": [
    "stability_scores_merged.loc[\"10se1ucgo_disablewintracking\"]"
   ]
  },
  {
   "cell_type": "code",
   "execution_count": null,
   "id": "18da55c1-7482-4cac-a21b-a243d84cd4e4",
   "metadata": {},
   "outputs": [],
   "source": [
    "tmp_data = ddf_merged[ddf_merged['repo_id'] == \"10se1ucgo_disablewintracking\"].compute()"
   ]
  },
  {
   "cell_type": "code",
   "execution_count": null,
   "id": "fa1494d9-4ff5-4f5e-a449-8760f77149c2",
   "metadata": {},
   "outputs": [],
   "source": [
    "fig = px.scatter(tmp_data, x='project_age', y='n_struc_changes')\n",
    "for percentile in percentiles:\n",
    "    age_tresh = np.round(df_repoinfos[\"project_age\"].loc[\"10se1ucgo_disablewintracking\"]*(percentile/100))\n",
    "    fig.add_vline(age_tresh)\n",
    "fig.show()"
   ]
  },
  {
   "cell_type": "code",
   "execution_count": null,
   "id": "aea76e4d-0c1f-4a7d-9dfd-6c71fe39d7c2",
   "metadata": {},
   "outputs": [],
   "source": [
    "stability_scores_merged.describe(percentiles=[0.1,0.25,0.75,0.9])"
   ]
  },
  {
   "cell_type": "code",
   "execution_count": null,
   "id": "cee4d163-ea8b-4bd8-ae22-f33fd71aeb3a",
   "metadata": {},
   "outputs": [],
   "source": [
    "stability_scores_merged[stability_scores_merged['stability_score_100'] >= stability_scores_merged['stability_score_100'].quantile(0.99)]"
   ]
  },
  {
   "cell_type": "code",
   "execution_count": null,
   "id": "26cde341-a632-41ce-a74c-619f94dc5c05",
   "metadata": {},
   "outputs": [],
   "source": [
    "fig = px.violin(stability_scores_merged[['stability_score_10','stability_score_25','stability_score_50','stability_score_75','stability_score_90','stability_score_100']].rename(columns={\n",
    "                     \"stability_score_10\": \"10%\",\n",
    "                     \"stability_score_25\": \"25%\",\n",
    "                     \"stability_score_50\": \"50%\",\n",
    "                     \"stability_score_75\": \"75%\",\n",
    "                     \"stability_score_90\": \"90%\",\n",
    "                     \"stability_score_100\": \"100%\"\n",
    "                 }), \n",
    "                box=True, # draw box plot inside the violin\n",
    "                points='outliers', # can be 'outliers', or False\n",
    "               )\n",
    "fig.update_layout(template='ggplot2')\n",
    "fig.update_traces(marker_color='rgb(200, 25, 25)', meanline_visible=True)\n",
    "fig.update_yaxes(title=\"Stability Score\")\n",
    "fig.update_xaxes(title=\"Project Lifespan\")\n",
    "fig.show()\n",
    "fig.update_layout(width=1000, height=500)\n",
    "\n",
    "fig.update_layout(\n",
    "    margin=dict(l=20, r=20, t=20, b=20),\n",
    ")\n",
    "fig.write_image(\"Figures/violin_stability_5_points.pdf\")"
   ]
  },
  {
   "cell_type": "code",
   "execution_count": null,
   "id": "57c32a6a-28f9-4114-a5fc-d43b82b770e4",
   "metadata": {},
   "outputs": [],
   "source": [
    "stability_scores_merged['stability_score_100'].quantile(0.99)"
   ]
  },
  {
   "cell_type": "code",
   "execution_count": null,
   "id": "4c9a839f-dcde-4c91-91f0-06f399c3e750",
   "metadata": {},
   "outputs": [],
   "source": [
    "\n",
    "fig = px.violin(stability_scores_merged['stability_score_100'].rename(\"100%\"), \n",
    "                box=True, # draw box plot inside the violin\n",
    "                points='outliers', # can be 'outliers', or False\n",
    "               )\n",
    "fig.update_layout(template='ggplot2')\n",
    "fig.update_traces(marker_color='rgb(200, 25, 25)', meanline_visible=True)\n",
    "fig.update_yaxes(title=\"Stability Score\")\n",
    "fig.update_xaxes(title=\"Project Lifespan\")\n",
    "fig.show()\n",
    "fig.update_layout(width=1000, height=500)\n",
    "\n",
    "fig.update_layout(\n",
    "    margin=dict(l=20, r=20, t=20, b=20),\n",
    ")\n",
    "fig.write_image(\"Figures/violin_stability_full_history.pdf\")"
   ]
  },
  {
   "cell_type": "code",
   "execution_count": null,
   "id": "d905bf31-ca20-4dfb-b05e-0449aec68e59",
   "metadata": {},
   "outputs": [],
   "source": [
    "fig = go.Figure()\n",
    "fig_data = (\n",
    "    stability_scores_merged.rename(columns={\n",
    "         \"stability_score_10\": \"10%\",\n",
    "         \"stability_score_37.5\": \"37.5%\",\n",
    "         \"stability_score_25\": \"25%\",\n",
    "         \"stability_score_50\": \"50%\",\n",
    "         \"stability_score_62.5\": \"62.5%\",\n",
    "         \"stability_score_75\": \"75%\",\n",
    "         \"stability_score_90\": \"90%\",\n",
    "         \"stability_score_100\": \"100%\"\n",
    "     })\n",
    "    .describe()\n",
    "    .loc[['25%','50%','75%', 'mean']]\n",
    "    .T\n",
    "    .rename(columns={'25%': '25th percentile','50%': 'median','75%': '75th percentile'})\n",
    ")\n",
    "\n",
    "names = ['25th percentile', 'median', '75th percentile', 'mean']\n",
    "color = ['rgb(31, 119, 180)', 'rgb(255, 127, 14)',\n",
    "                       'rgb(44, 160, 44)', 'rgb(200, 25, 25)',]\n",
    "\n",
    "for i, col in enumerate(fig_data.columns):\n",
    "    fig.add_trace(\n",
    "        go.Scatter(\n",
    "            x=fig_data.index,\n",
    "            y=fig_data[col],\n",
    "            line=dict(color=color[i], width=1, dash='dot'),\n",
    "            name=names[i]\n",
    "        )\n",
    "    )\n",
    "fig.update_layout(template='ggplot2')\n",
    "# fig.update_traces(marker_color='rgb(200, 25, 25)')\n",
    "fig.update_yaxes(title=\"Stability Score\")\n",
    "fig.update_xaxes(title=\"Project Lifespan\")\n",
    "fig.update_layout(width=1000, height=300)\n",
    "fig.update_layout(\n",
    "    margin=dict(l=20, r=20, t=20, b=20),\n",
    ")\n",
    "fig.show()\n",
    "fig.write_image(\"Figures/line_stability_describe.pdf\")"
   ]
  },
  {
   "cell_type": "code",
   "execution_count": null,
   "id": "3b08b18c-0791-48f8-8bdf-9ade9111461f",
   "metadata": {},
   "outputs": [],
   "source": [
    "stability_scores_merged_repoinfo = stability_scores_merged.merge(df_repoinfos, on='repo_id')"
   ]
  },
  {
   "cell_type": "code",
   "execution_count": null,
   "id": "8aa9f5af-2c51-4342-b4b1-d4e0da5cd2ba",
   "metadata": {},
   "outputs": [],
   "source": [
    "fig = px.scatter(stability_scores_merged_repoinfo, x='no_commits', y='stability_score_100')\n",
    "fig.show()"
   ]
  },
  {
   "cell_type": "code",
   "execution_count": null,
   "id": "d67eacbf-28bc-4c22-b0c2-b808efec9f75",
   "metadata": {},
   "outputs": [],
   "source": [
    "fig = px.scatter(stability_scores_merged_repoinfo, x='no_contributors', y='stability_score_100', log_x=True)\n",
    "fig.show()"
   ]
  },
  {
   "cell_type": "code",
   "execution_count": null,
   "id": "8ec48463-67c8-4f44-a399-4550928818b5",
   "metadata": {},
   "outputs": [],
   "source": [
    "type_counts = df_repoinfos.groupby('owner.type').size()\n",
    "type_counts"
   ]
  },
  {
   "cell_type": "code",
   "execution_count": null,
   "id": "4bc54bb0-177e-45c8-bbf8-75bbded51ef1",
   "metadata": {},
   "outputs": [],
   "source": [
    "fig = go.Figure()\n",
    "tmp_proj = stability_scores_merged_repoinfo[stability_scores_merged_repoinfo['owner.type'] == \"User\"]['stability_score_100']\n",
    "fig.add_trace(go.Violin(x=['User<br>(56243 projects)'] * len(tmp_proj), y=tmp_proj))\n",
    "              \n",
    "tmp_proj = stability_scores_merged_repoinfo[stability_scores_merged_repoinfo['owner.type'] == \"Organization\"]['stability_score_100']\n",
    "fig.add_trace(go.Violin(x=['Organization<br>(38004 projects)'] * len(tmp_proj), y=tmp_proj))\n",
    "\n",
    "fig.update_layout(template='ggplot2', showlegend=False)\n",
    "fig.update_traces(marker_color='rgb(200, 25, 25)', meanline_visible=True, box_visible=True)\n",
    "fig.update_yaxes(title=\"Stability Score\")\n",
    "fig.update_xaxes(title=\"Project Lifespan\")\n",
    "fig.show()\n",
    "fig.update_layout(width=1000, height=500)\n",
    "fig.write_image(\"Figures/violin_stability_owner_type.pdf\")"
   ]
  },
  {
   "cell_type": "code",
   "execution_count": null,
   "id": "5206e3a3-195c-4df6-b323-95edf7f129db",
   "metadata": {},
   "outputs": [],
   "source": [
    "stability_scores_merged_repoinfo.groupby('owner.type')['stability_score_100'].describe()"
   ]
  },
  {
   "cell_type": "code",
   "execution_count": null,
   "id": "48a49a13-ec2c-4d52-87b2-b967aad2fd68",
   "metadata": {},
   "outputs": [],
   "source": [
    "df_repoinfos['struc_chnging_perc'] = (ddf_commits.groupby('repo_id').count().compute()/ddf_all_commits.groupby('repo_id').count().compute())['commit_id']"
   ]
  },
  {
   "cell_type": "code",
   "execution_count": null,
   "id": "b1e445e6-17c8-43ba-aa33-b3eb74ba8371",
   "metadata": {},
   "outputs": [],
   "source": [
    "fig = px.scatter(stability_scores_merged.merge(df_repoinfos, on='repo_id'), x='struc_chnging_perc', y='stability_score_100')\n",
    "fig.show()"
   ]
  },
  {
   "cell_type": "code",
   "execution_count": null,
   "id": "315a8cd7-d464-4286-b196-a1440600bd1c",
   "metadata": {},
   "outputs": [],
   "source": [
    "fig = px.scatter(ddf_merged[ddf_merged['repo_id'] == \"alipay_alipay-sdk-php-all\"].compute(), x='commit_time', y='n_struc_changes')\n",
    "fig.show()"
   ]
  },
  {
   "cell_type": "code",
   "execution_count": null,
   "id": "bfe8c420-a128-4687-ba02-014e6043c4b6",
   "metadata": {},
   "outputs": [],
   "source": [
    "fig = px.scatter(ddf_merged[ddf_merged['repo_id'] == \"torvalds_linux\"].compute(), x='commit_time', y='n_struc_changes')\n",
    "fig.show()"
   ]
  },
  {
   "cell_type": "code",
   "execution_count": null,
   "id": "a5b951f8-432b-44c2-8f8c-dd3227cc59dd",
   "metadata": {},
   "outputs": [],
   "source": [
    "# Group by project and calculate the first commit date for each project\n",
    "project_first_commit_date = ddf_merged.groupby('repo_id')['commit_time'].min().compute()\n"
   ]
  },
  {
   "cell_type": "code",
   "execution_count": null,
   "id": "ebf5c2e1-1aab-4adf-8b74-96dafbc4e287",
   "metadata": {},
   "outputs": [],
   "source": [
    "# Calculate the age of each project based on the first commit date\n",
    "ddf_merged['project_age'] = ddf_merged['repo_id'].map(project_first_commit_date)\n",
    "ddf_merged['project_age'] = (ddf_merged['commit_time'] - ddf_merged['project_age']).dt.days\n"
   ]
  },
  {
   "cell_type": "code",
   "execution_count": null,
   "id": "6c0131c7-eb89-4226-a1ba-c0baee16b707",
   "metadata": {},
   "outputs": [],
   "source": [
    "# Function to calculate stability scores for different project percentiles\n",
    "def calculate_stability_at_percentiles(weekly_data, percentile):\n",
    "    # Find the age percentile threshold for each project\n",
    "    project_age_percentiles = weekly_data.groupby('repo_id')['project_age'].apply(lambda x: x.quantile(percentile / 100)).to_frame('age_threshold')\n",
    "\n",
    "    # Merge with weekly_data to filter projects based on their age\n",
    "    filtered_weekly_data = dd.merge(weekly_data, project_age_percentiles, left_on='repo_id', right_index=True, how='inner')\n",
    "    filtered_weekly_data = filtered_weekly_data[filtered_weekly_data['project_age'] <= filtered_weekly_data['age_threshold']]\n",
    "\n",
    "    # Apply the function to the filtered data and compute the results\n",
    "    stability_scores = filtered_weekly_data.groupby('repo_id').apply(calculate_normalized_stability).compute()\n",
    "\n",
    "    # Convert to DataFrame for further processing\n",
    "    stability_scores_df = stability_scores.reset_index().rename(columns={0: f'stability_score_{percentile}'})\n",
    "    \n",
    "    return stability_scores_df\n",
    "    \n",
    "# Calculate stability scores at 25th, 50th, and 75th percentiles\n",
    "stability_scores_25 = calculate_stability_at_percentiles(weekly_data, 25)\n",
    "stability_scores_50 = calculate_stability_at_percentiles(weekly_data, 50)\n",
    "stability_scores_75 = calculate_stability_at_percentiles(weekly_data, 75)\n"
   ]
  },
  {
   "cell_type": "code",
   "execution_count": null,
   "id": "ebfaa36a-4667-43cb-b9f5-f977686cffbf",
   "metadata": {},
   "outputs": [],
   "source": [
    "stability_scores_10 = calculate_stability_at_percentiles(weekly_data, 10)\n"
   ]
  },
  {
   "cell_type": "code",
   "execution_count": null,
   "id": "c8546e38-7586-499e-9c9c-be947f34ba76",
   "metadata": {},
   "outputs": [],
   "source": [
    "\n",
    "# stability_scores_df = stability_scores_df.set_index('repo_id')\n",
    "stability_scores_df['stability_score_10'] = stability_scores_10.set_index('repo_id')['stability_score_10']\n",
    "stability_scores_df['stability_score_25'] = stability_scores_25.set_index('repo_id')['stability_score_25']\n",
    "stability_scores_df['stability_score_50'] = stability_scores_50.set_index('repo_id')['stability_score_50']\n",
    "stability_scores_df['stability_score_75'] = stability_scores_75.set_index('repo_id')['stability_score_75']"
   ]
  },
  {
   "cell_type": "code",
   "execution_count": null,
   "id": "cbfb87d9-9a56-44ec-87bb-20d74728fce0",
   "metadata": {},
   "outputs": [],
   "source": [
    "stability_scores_df = stability_scores_df.rename(columns={'normalized_stability_score': 'stability_score_100'})"
   ]
  },
  {
   "cell_type": "code",
   "execution_count": null,
   "id": "51fea26a-6196-47ea-8577-5e0f5d5e066d",
   "metadata": {},
   "outputs": [],
   "source": [
    "stability_scores_df.loc[\"vapor_vapor\"]"
   ]
  },
  {
   "cell_type": "code",
   "execution_count": null,
   "id": "965b8150-ca36-458a-8b0b-6f07db3d76f8",
   "metadata": {},
   "outputs": [],
   "source": [
    "stability_scores_df.loc[\"torvalds_linux\"]"
   ]
  },
  {
   "cell_type": "code",
   "execution_count": null,
   "id": "0e60e390-9b3f-4abf-9269-2e02918590c3",
   "metadata": {},
   "outputs": [],
   "source": [
    "stability_scores_df.describe()"
   ]
  },
  {
   "cell_type": "code",
   "execution_count": null,
   "id": "20f69706-f4d0-457c-b0f4-06511d9fea84",
   "metadata": {},
   "outputs": [],
   "source": [
    "px.violin(stability_scores_df, violinmode='overlay')"
   ]
  },
  {
   "cell_type": "code",
   "execution_count": null,
   "id": "ad34cf19-c58f-4a71-8801-416fa00c0f40",
   "metadata": {},
   "outputs": [],
   "source": [
    "px.violin(stability_scores_df.merge(df_repoinfos, on='repo_id'), violinmode='overlay', x='owner.type', y='stability_score_100')"
   ]
  },
  {
   "cell_type": "code",
   "execution_count": null,
   "id": "ed297f47-1d01-488d-a947-095d9045a505",
   "metadata": {},
   "outputs": [],
   "source": [
    "stability_scores_df.merge(df_repoinfos, on='repo_id').groupby('owner.type')['stability_score_100'].describe()"
   ]
  },
  {
   "cell_type": "code",
   "execution_count": null,
   "id": "312f2dab-44c8-4594-9d08-b5a780ea568b",
   "metadata": {},
   "outputs": [],
   "source": [
    "ddf_merged"
   ]
  },
  {
   "cell_type": "code",
   "execution_count": null,
   "id": "9903661b-59c6-4b43-83a3-3bbd22e0850b",
   "metadata": {},
   "outputs": [],
   "source": [
    "fig = px.scatter(x=ddf_merged['project_age'].compute(), y=stability_scores_df['stability_score_100'])\n",
    "fig.show()"
   ]
  },
  {
   "cell_type": "code",
   "execution_count": null,
   "id": "bea6b2e9-8abf-4456-9269-cb78dc4abfa5",
   "metadata": {},
   "outputs": [],
   "source": [
    "ddf_merged['project_age'].value_counts().compute()"
   ]
  },
  {
   "cell_type": "code",
   "execution_count": null,
   "id": "d989256e-cee0-48b5-9282-73cd08623e0f",
   "metadata": {},
   "outputs": [],
   "source": [
    "ddf_merged[ddf_merged['repo_id'] == \"jordansinger_uidraw\"].compute()"
   ]
  },
  {
   "cell_type": "code",
   "execution_count": null,
   "id": "385badb1-4a09-4743-8aff-1223c0600f9b",
   "metadata": {},
   "outputs": [],
   "source": []
  },
  {
   "cell_type": "code",
   "execution_count": null,
   "id": "668c3e9c-cef7-40dd-8e8c-78d529286279",
   "metadata": {},
   "outputs": [],
   "source": []
  },
  {
   "cell_type": "code",
   "execution_count": null,
   "id": "c96648f2-0c33-411a-9537-b667781fe0ed",
   "metadata": {},
   "outputs": [],
   "source": []
  },
  {
   "cell_type": "code",
   "execution_count": null,
   "id": "204f7121-5f50-4acd-8880-d265124f5a36",
   "metadata": {},
   "outputs": [],
   "source": []
  },
  {
   "cell_type": "code",
   "execution_count": null,
   "id": "fda597d1-2a3e-4978-88e2-1245f16c53a5",
   "metadata": {},
   "outputs": [],
   "source": []
  },
  {
   "cell_type": "code",
   "execution_count": null,
   "id": "ea53ec22-c14e-4a65-bb43-b556e1486349",
   "metadata": {},
   "outputs": [],
   "source": []
  },
  {
   "cell_type": "markdown",
   "id": "be022604-3a42-42a8-9313-674eab7531d5",
   "metadata": {},
   "source": [
    "# Time based analysis"
   ]
  },
  {
   "cell_type": "code",
   "execution_count": null,
   "id": "c793fd03-4e57-40a5-ad43-2efac07d6b69",
   "metadata": {},
   "outputs": [],
   "source": [
    "ddf_commits['commit_time'] = dd.to_datetime(ddf_commits.commit_time, unit='s')\n",
    "ddf_commits['commit_date'] = ddf_commits.commit_time.dt.date"
   ]
  },
  {
   "cell_type": "code",
   "execution_count": null,
   "id": "29f0698c-ed29-4107-aab9-452e12f8be99",
   "metadata": {},
   "outputs": [],
   "source": [
    "ddf_all_commits['commit_time'] = dd.to_datetime(ddf_all_commits.commit_time, unit='s')\n",
    "ddf_all_commits['commit_date'] = ddf_all_commits.commit_time.dt.date"
   ]
  },
  {
   "cell_type": "code",
   "execution_count": null,
   "id": "f83365cc-907f-4d1c-95ba-c3b00592d888",
   "metadata": {},
   "outputs": [],
   "source": [
    "ddf_commits['commit_date'].describe().compute()"
   ]
  },
  {
   "cell_type": "code",
   "execution_count": null,
   "id": "8c5d8c46-8627-44f1-81a5-57254ae777b4",
   "metadata": {},
   "outputs": [],
   "source": []
  },
  {
   "cell_type": "code",
   "execution_count": null,
   "id": "dd0207f3-e4b7-41fa-9007-b9130ee885c1",
   "metadata": {},
   "outputs": [],
   "source": []
  },
  {
   "cell_type": "code",
   "execution_count": null,
   "id": "be70c75f-f4eb-4761-b965-111fbe95091b",
   "metadata": {},
   "outputs": [],
   "source": []
  },
  {
   "cell_type": "code",
   "execution_count": null,
   "id": "d6124389-f2c4-4685-b3ee-dcf97ce0ea02",
   "metadata": {},
   "outputs": [],
   "source": []
  },
  {
   "cell_type": "code",
   "execution_count": null,
   "id": "f00e87f0-e62d-4aa9-bac6-cf8f07393f10",
   "metadata": {},
   "outputs": [],
   "source": []
  },
  {
   "cell_type": "code",
   "execution_count": null,
   "id": "955fa414-e24a-42fd-9e1c-b9dd17a09ac9",
   "metadata": {},
   "outputs": [],
   "source": [
    "ddf_all_commits['commit_date'].describe().compute()"
   ]
  },
  {
   "cell_type": "code",
   "execution_count": null,
   "id": "f6b106f9-7090-4e8d-b08f-8429577f8ee1",
   "metadata": {},
   "outputs": [],
   "source": [
    "ddf_all_commits.count().compute()"
   ]
  },
  {
   "cell_type": "code",
   "execution_count": null,
   "id": "1e17ab35-235a-4785-aade-53c10b105230",
   "metadata": {},
   "outputs": [],
   "source": [
    "# ASSUMPTION: THERE ARE NO UNIQUE COMMIT HASHES FOR ACTUALLY DIFFERENT COMMITS"
   ]
  },
  {
   "cell_type": "code",
   "execution_count": null,
   "id": "b0d10de0-c9d4-4078-af1f-6b33a06cf66a",
   "metadata": {},
   "outputs": [],
   "source": [
    "unique_commits = ddf_commits.groupby(ddf_commits.index).first()\n",
    "unique_commits.head()"
   ]
  },
  {
   "cell_type": "code",
   "execution_count": null,
   "id": "5d647773-35bb-4b7f-86b0-55553e1918c1",
   "metadata": {},
   "outputs": [],
   "source": [
    "date_stuff = unique_commits.groupby(\"commit_date\")[['n_added', 'n_deleted', 'n_moved', 'n_renamed', 'n_struc_changes']].sum().compute()"
   ]
  },
  {
   "cell_type": "code",
   "execution_count": null,
   "id": "f7fbf3db-ac82-4991-a3e6-f459f787f662",
   "metadata": {},
   "outputs": [],
   "source": [
    "fig = px.line(date_stuff,y='n_struc_changes')\n",
    "fig.show()"
   ]
  },
  {
   "cell_type": "code",
   "execution_count": null,
   "id": "7f9b7295-4b55-4960-aeb7-303d518facb8",
   "metadata": {},
   "outputs": [],
   "source": [
    "fig = px.line(date_stuff,y='n_added')\n",
    "fig.show()"
   ]
  },
  {
   "cell_type": "code",
   "execution_count": null,
   "id": "39b5e3a1-9a28-489e-b881-299fc32b5923",
   "metadata": {},
   "outputs": [],
   "source": [
    "fig = px.line(date_stuff,y='n_moved')\n",
    "fig.show()"
   ]
  },
  {
   "cell_type": "code",
   "execution_count": null,
   "id": "55fd6184-6cce-4d22-ac6f-1730ea53c5f5",
   "metadata": {},
   "outputs": [],
   "source": [
    "fig = px.line(date_stuff,y='n_deleted')\n",
    "fig.show()"
   ]
  },
  {
   "cell_type": "code",
   "execution_count": null,
   "id": "30e084d9-81fd-4377-9645-c3d746d58af7",
   "metadata": {},
   "outputs": [],
   "source": [
    "date_stuff[date_stuff['n_struc_changes'] > 400_000].head()"
   ]
  },
  {
   "cell_type": "code",
   "execution_count": null,
   "id": "69032453-387d-4e86-8ef1-1ca0a9bf4655",
   "metadata": {},
   "outputs": [],
   "source": [
    "from datetime import date\n"
   ]
  },
  {
   "cell_type": "code",
   "execution_count": null,
   "id": "ed2843af-7417-49e1-9da0-f079aace10e7",
   "metadata": {},
   "outputs": [],
   "source": [
    "commits_on_date = unique_commits[unique_commits['commit_date'] == date(2017, 9, 12)].compute()"
   ]
  },
  {
   "cell_type": "code",
   "execution_count": null,
   "id": "aab5d34d-0739-4282-aa5e-21083ff0e75d",
   "metadata": {},
   "outputs": [],
   "source": [
    "commits_on_date.sort_values('n_struc_changes', ascending=False)"
   ]
  },
  {
   "cell_type": "code",
   "execution_count": null,
   "id": "0ec0076d-d469-4207-aad8-3347521fa260",
   "metadata": {},
   "outputs": [],
   "source": [
    "bla1234 = unique_commits.groupby(\"commit_date\").n_struc_changes.count().compute()"
   ]
  },
  {
   "cell_type": "code",
   "execution_count": null,
   "id": "21aecac2-949f-4d2e-9afb-5752a001691b",
   "metadata": {},
   "outputs": [],
   "source": [
    "bla = ddf_all_commits.groupby('commit_date').count().compute().sort_index()"
   ]
  },
  {
   "cell_type": "code",
   "execution_count": null,
   "id": "d9f29165-5de2-4c69-9853-efc50456e10a",
   "metadata": {},
   "outputs": [],
   "source": []
  },
  {
   "cell_type": "code",
   "execution_count": null,
   "id": "12a41c3e-4f3d-4ca8-b683-db3dbf681918",
   "metadata": {},
   "outputs": [],
   "source": [
    "all_unique_commits = ddf_all_commits.groupby(ddf_all_commits.commit_id).first()\n",
    "bla1235 = all_unique_commits.groupby(\"commit_date\").commit_time.count().compute()"
   ]
  },
  {
   "cell_type": "code",
   "execution_count": null,
   "id": "3cb55c11-918b-4570-8113-9ce3060263da",
   "metadata": {},
   "outputs": [],
   "source": [
    "fig = px.line(bla1235)\n",
    "fig.add_scatter(x=bla1234.index, y=bla1234,mode='lines')\n",
    "fig.show()"
   ]
  },
  {
   "cell_type": "code",
   "execution_count": null,
   "id": "47218a5c-e6a3-4669-8bb3-76d8acd0e82d",
   "metadata": {},
   "outputs": [],
   "source": [
    "bla_perc = bla1234/bla1235\n",
    "fig = px.line(bla_perc)\n",
    "fig.show()"
   ]
  },
  {
   "cell_type": "code",
   "execution_count": null,
   "id": "d0947903-6d5a-4c91-baff-5c5c00f97dbd",
   "metadata": {},
   "outputs": [],
   "source": [
    "fig = px.line(bla_perc.rolling(50).mean())\n",
    "fig.show()"
   ]
  },
  {
   "cell_type": "code",
   "execution_count": null,
   "id": "1054d6b3-d26e-40b6-a6a4-865b6aa84fc4",
   "metadata": {},
   "outputs": [],
   "source": [
    "ddf_commits['commit_date'].head()"
   ]
  }
 ],
 "metadata": {
  "kernelspec": {
   "display_name": "Python 3 (ipykernel)",
   "language": "python",
   "name": "python3"
  }
 },
 "nbformat": 4,
 "nbformat_minor": 5
}
