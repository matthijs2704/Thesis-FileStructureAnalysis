{
 "cells": [
  {
   "cell_type": "code",
   "execution_count": 2,
   "id": "0a1c60d2-79d1-4f5b-8082-c62ceed81149",
   "metadata": {},
   "outputs": [],
   "source": [
    "import pandas as pd\n",
    "import numpy as np\n",
    "import dask\n",
    "dask.config.set({'dataframe.query-planning': True})\n",
    "import dask.dataframe as dd\n",
    "\n",
    "ddf = dd.read_parquet(\"../hpc-datasets/mutations.parquet\", engine=\"pyarrow\")\n",
    "ddf_all_commits = dd.read_parquet(\"../hpc-datasets/all_commits.parquet\", engine=\"pyarrow\")\n",
    "ddf_commits = dd.read_parquet(\"../hpc-datasets/commits_ext.parquet\", engine=\"pyarrow\")\n",
    "ddf_repoinfos = dd.read_parquet(\"../hpc-datasets/repo_infos.parquet\", engine=\"pyarrow\")"
   ]
  },
  {
   "cell_type": "code",
   "execution_count": 3,
   "id": "f0c51b0b",
   "metadata": {},
   "outputs": [
    {
     "data": {
      "text/plain": [
       "commit_id         string[pyarrow]\n",
       "action            string[pyarrow]\n",
       "old_path          string[pyarrow]\n",
       "new_path          string[pyarrow]\n",
       "language          string[pyarrow]\n",
       "old_file_depth              int16\n",
       "new_file_depth              int16\n",
       "repo_id           string[pyarrow]\n",
       "bucket                   category\n",
       "dtype: object"
      ]
     },
     "execution_count": 3,
     "metadata": {},
     "output_type": "execute_result"
    }
   ],
   "source": [
    "ddf.dtypes\n"
   ]
  },
  {
   "cell_type": "code",
   "execution_count": 4,
   "id": "df4238a6",
   "metadata": {},
   "outputs": [
    {
     "data": {
      "text/plain": [
       "commit_index              int64\n",
       "commit_id       string[pyarrow]\n",
       "commit_time               int64\n",
       "repo_id         string[pyarrow]\n",
       "bucket                 category\n",
       "dtype: object"
      ]
     },
     "execution_count": 4,
     "metadata": {},
     "output_type": "execute_result"
    }
   ],
   "source": [
    "ddf_all_commits.dtypes"
   ]
  },
  {
   "cell_type": "code",
   "execution_count": 5,
   "id": "ee7dc6f1",
   "metadata": {},
   "outputs": [
    {
     "data": {
      "text/plain": [
       "repo_id                  string[pyarrow]\n",
       "commit_id                string[pyarrow]\n",
       "commit_index                       int64\n",
       "commit_time                        int64\n",
       "message                  string[pyarrow]\n",
       "parents                  string[pyarrow]\n",
       "n_added                            int32\n",
       "n_deleted                          int32\n",
       "n_moved                            int32\n",
       "n_renamed                          int32\n",
       "n_struc_changes                    int64\n",
       "total_files_per_level    string[pyarrow]\n",
       "max_file_depth                     int16\n",
       "total_files                        int64\n",
       "max_file_depth_diff              float64\n",
       "bucket                          category\n",
       "dtype: object"
      ]
     },
     "execution_count": 5,
     "metadata": {},
     "output_type": "execute_result"
    }
   ],
   "source": [
    "ddf_commits.dtypes"
   ]
  },
  {
   "cell_type": "code",
   "execution_count": 6,
   "id": "9b6c1f04",
   "metadata": {},
   "outputs": [
    {
     "data": {
      "text/plain": [
       "first_commit                 string[pyarrow]\n",
       "last_commit                  string[pyarrow]\n",
       "no_contributors                        int64\n",
       "no_commits                             int64\n",
       "no_struc_changing_commits              int64\n",
       "max_file_depth                         int64\n",
       "dtype: object"
      ]
     },
     "execution_count": 6,
     "metadata": {},
     "output_type": "execute_result"
    }
   ],
   "source": [
    "ddf_repoinfos.dtypes"
   ]
  }
 ],
 "metadata": {
  "kernelspec": {
   "display_name": "Python 3 (ipykernel)",
   "language": "python",
   "name": "python3"
  },
  "language_info": {
   "codemirror_mode": {
    "name": "ipython",
    "version": 3
   },
   "file_extension": ".py",
   "mimetype": "text/x-python",
   "name": "python",
   "nbconvert_exporter": "python",
   "pygments_lexer": "ipython3",
   "version": "3.10.13"
  }
 },
 "nbformat": 4,
 "nbformat_minor": 5
}
